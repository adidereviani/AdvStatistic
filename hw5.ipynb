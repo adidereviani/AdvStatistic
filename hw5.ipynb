{
  "cells": [
    {
      "cell_type": "markdown",
      "id": "c7e07a03",
      "metadata": {
        "id": "c7e07a03"
      },
      "source": [
        "##### Advanced Statistical Analysis and Model-Based Learning (Fall 2024-2025)\n",
        "# Home Assignment 5\n",
        "\n",
        "#### Due: 27/01/2025 by 18:30\n",
        "\n",
        "#### Instructions:\n",
        "- Write your name, Student ID, and date in the cell below.\n",
        "- Submit a copy of this notebook with code filled in the relevant places as the solution of coding excercises.\n",
        "- For theoretic excercises, you can either write your solution in the notebook using $\\LaTeX$ or submit additional notes.\n",
        "\n",
        "<hr>\n",
        "\n",
        "Adi Dereviani 305674731\n",
        "\n",
        "Ofri Hefetz  209028067\n",
        "<hr>"
      ]
    },
    {
      "cell_type": "markdown",
      "id": "efc72d90",
      "metadata": {
        "id": "efc72d90"
      },
      "source": [
        "<hr>\n",
        "<hr>"
      ]
    },
    {
      "cell_type": "code",
      "execution_count": 30,
      "id": "47obNvbLBIfP",
      "metadata": {
        "id": "47obNvbLBIfP"
      },
      "outputs": [],
      "source": [
        "import pandas as pd\n",
        "import matplotlib.pyplot as plt\n",
        "import seaborn as sns\n",
        "import statsmodels.formula.api as smf\n",
        "import statsmodels.api as sm\n",
        "import numpy as np\n",
        "import scipy\n",
        "from sklearn.model_selection import LeaveOneOut\n",
        "from sklearn.metrics import mean_squared_error\n",
        "import itertools\n",
        "from sklearn.linear_model import LassoCV\n",
        "from IPython.display import display\n",
        "from itertools import combinations\n",
        "from joblib import Parallel, delayed\n",
        "from sklearn.linear_model import Lasso\n",
        "from statsmodels.stats.proportion import proportions_ztest\n",
        "from scipy.stats import ttest_ind\n"
      ]
    },
    {
      "cell_type": "markdown",
      "id": "f3c775f3738fce71",
      "metadata": {
        "id": "f3c775f3738fce71"
      },
      "source": [
        "## Problem 1: Multiple Regression\n",
        "\n",
        "Use the attached cars dataset that was used in the EDA notebook. Load it using the function `load_cars_data`. We will use `MSRP` as the target variable (note that this is a transformed version of the original MSRP).\n",
        "\n",
        "1. Use all variables in the data returned by `load_cars_data`. Find at least one pair of competing predictors.\n",
        "2. A car manufacturer is trying to figure out how to design a new vehicle for maximal profitability. They propose that since `EngineCylinders` is correlated with `MSRP`, they should try to maximize engine cylinders in their designs. Does this conclusion make sense considering that `EngineCylinders` is correlated with `Engine HP`? Offer a procedure that checks the effect of `Engine HP` on `MSRP` and provides more information to make such a decision.\n"
      ]
    },
    {
      "cell_type": "code",
      "execution_count": 71,
      "id": "cf7e122897b0564f",
      "metadata": {
        "id": "cf7e122897b0564f"
      },
      "outputs": [],
      "source": [
        "def load_cars_data(path=\"cars_dataset.csv\", q=0.05):\n",
        "    \"\"\"\n",
        "    Args:\n",
        "    -----\n",
        "    path: path to csv file\n",
        "\n",
        "    Load and clean cars data:\n",
        "        - Filters for numeric predictors only\n",
        "        - Renames variables to ensure all variable names begin with [a-z]\n",
        "        - Applies a variance stabilizing transformation to MSRP\n",
        "        - Removes outliers\n",
        "    \"\"\"\n",
        "\n",
        "    def detect_outliers(df, q):\n",
        "        \"\"\"\n",
        "        Quantile-based outlier detection\n",
        "        Args:\n",
        "        -----\n",
        "        df: DataFrame\n",
        "        q: quantile threshold\n",
        "        \"\"\"\n",
        "        lower_outliers = df < df.quantile(q)\n",
        "        upper_outliers = df > df.quantile(1 - q)\n",
        "        return lower_outliers | upper_outliers\n",
        "\n",
        "    data_raw = pd.read_csv(path)\n",
        "\n",
        "    # Select only numeric columns and drop rows with missing values\n",
        "    data1 = data_raw.select_dtypes('number').dropna()\n",
        "\n",
        "    # Rename variables to ensure all start with [a-z]\n",
        "    data1 = data1.rename(columns={\n",
        "        'Engine HP': 'EngineHP',\n",
        "        'Engine Cylinders': 'EngineCylinders',\n",
        "        'Number of Doors': 'NumberOfDoors',\n",
        "        'highway MPG': 'HighwayMPG',\n",
        "        'city mpg': 'CityMPG'\n",
        "    })\n",
        "\n",
        "    # Select relevant variables\n",
        "    variables = [\n",
        "        'MSRP', 'Popularity', 'EngineHP', 'EngineCylinders',\n",
        "        'HighwayMPG', 'CityMPG', 'NumberOfDoors'\n",
        "    ]\n",
        "    data1 = data1.filter(variables).dropna()\n",
        "\n",
        "    # Detect and remove outliers\n",
        "    ol = detect_outliers(data1, q).sum(1)\n",
        "    print(f\"Masked a fraction of {ol.mean()} of the data due to outliers\")\n",
        "    return data1[ol == 0]"
      ]
    },
    {
      "cell_type": "code",
      "execution_count": 32,
      "id": "cq1HoPQt_0C7",
      "metadata": {
        "colab": {
          "base_uri": "https://localhost:8080/",
          "height": 441
        },
        "id": "cq1HoPQt_0C7",
        "outputId": "5f4a50d0-a9ef-49d7-fa97-782130dd4a6c"
      },
      "outputs": [
        {
          "output_type": "stream",
          "name": "stdout",
          "text": [
            "Masked a fraction of 0.36335167160389337 of the data due to outliers\n"
          ]
        },
        {
          "output_type": "execute_result",
          "data": {
            "text/plain": [
              "        MSRP  Popularity  EngineHP  EngineCylinders  HighwayMPG  CityMPG  \\\n",
              "0      46135        3916     335.0              6.0          26       19   \n",
              "1      40650        3916     300.0              6.0          28       19   \n",
              "2      36350        3916     300.0              6.0          28       20   \n",
              "3      29450        3916     230.0              6.0          28       18   \n",
              "4      34500        3916     230.0              6.0          28       18   \n",
              "...      ...         ...       ...              ...         ...      ...   \n",
              "11908  50520         204     300.0              6.0          23       16   \n",
              "11909  46120         204     300.0              6.0          23       16   \n",
              "11910  56670         204     300.0              6.0          23       16   \n",
              "11911  50620         204     300.0              6.0          23       16   \n",
              "11912  50920         204     300.0              6.0          23       16   \n",
              "\n",
              "       NumberOfDoors  \n",
              "0                2.0  \n",
              "1                2.0  \n",
              "2                2.0  \n",
              "3                2.0  \n",
              "4                2.0  \n",
              "...              ...  \n",
              "11908            4.0  \n",
              "11909            4.0  \n",
              "11910            4.0  \n",
              "11911            4.0  \n",
              "11912            4.0  \n",
              "\n",
              "[9372 rows x 7 columns]"
            ],
            "text/html": [
              "\n",
              "  <div id=\"df-ab08b6e5-2133-4d59-8ef8-c1171834686a\" class=\"colab-df-container\">\n",
              "    <div>\n",
              "<style scoped>\n",
              "    .dataframe tbody tr th:only-of-type {\n",
              "        vertical-align: middle;\n",
              "    }\n",
              "\n",
              "    .dataframe tbody tr th {\n",
              "        vertical-align: top;\n",
              "    }\n",
              "\n",
              "    .dataframe thead th {\n",
              "        text-align: right;\n",
              "    }\n",
              "</style>\n",
              "<table border=\"1\" class=\"dataframe\">\n",
              "  <thead>\n",
              "    <tr style=\"text-align: right;\">\n",
              "      <th></th>\n",
              "      <th>MSRP</th>\n",
              "      <th>Popularity</th>\n",
              "      <th>EngineHP</th>\n",
              "      <th>EngineCylinders</th>\n",
              "      <th>HighwayMPG</th>\n",
              "      <th>CityMPG</th>\n",
              "      <th>NumberOfDoors</th>\n",
              "    </tr>\n",
              "  </thead>\n",
              "  <tbody>\n",
              "    <tr>\n",
              "      <th>0</th>\n",
              "      <td>46135</td>\n",
              "      <td>3916</td>\n",
              "      <td>335.0</td>\n",
              "      <td>6.0</td>\n",
              "      <td>26</td>\n",
              "      <td>19</td>\n",
              "      <td>2.0</td>\n",
              "    </tr>\n",
              "    <tr>\n",
              "      <th>1</th>\n",
              "      <td>40650</td>\n",
              "      <td>3916</td>\n",
              "      <td>300.0</td>\n",
              "      <td>6.0</td>\n",
              "      <td>28</td>\n",
              "      <td>19</td>\n",
              "      <td>2.0</td>\n",
              "    </tr>\n",
              "    <tr>\n",
              "      <th>2</th>\n",
              "      <td>36350</td>\n",
              "      <td>3916</td>\n",
              "      <td>300.0</td>\n",
              "      <td>6.0</td>\n",
              "      <td>28</td>\n",
              "      <td>20</td>\n",
              "      <td>2.0</td>\n",
              "    </tr>\n",
              "    <tr>\n",
              "      <th>3</th>\n",
              "      <td>29450</td>\n",
              "      <td>3916</td>\n",
              "      <td>230.0</td>\n",
              "      <td>6.0</td>\n",
              "      <td>28</td>\n",
              "      <td>18</td>\n",
              "      <td>2.0</td>\n",
              "    </tr>\n",
              "    <tr>\n",
              "      <th>4</th>\n",
              "      <td>34500</td>\n",
              "      <td>3916</td>\n",
              "      <td>230.0</td>\n",
              "      <td>6.0</td>\n",
              "      <td>28</td>\n",
              "      <td>18</td>\n",
              "      <td>2.0</td>\n",
              "    </tr>\n",
              "    <tr>\n",
              "      <th>...</th>\n",
              "      <td>...</td>\n",
              "      <td>...</td>\n",
              "      <td>...</td>\n",
              "      <td>...</td>\n",
              "      <td>...</td>\n",
              "      <td>...</td>\n",
              "      <td>...</td>\n",
              "    </tr>\n",
              "    <tr>\n",
              "      <th>11908</th>\n",
              "      <td>50520</td>\n",
              "      <td>204</td>\n",
              "      <td>300.0</td>\n",
              "      <td>6.0</td>\n",
              "      <td>23</td>\n",
              "      <td>16</td>\n",
              "      <td>4.0</td>\n",
              "    </tr>\n",
              "    <tr>\n",
              "      <th>11909</th>\n",
              "      <td>46120</td>\n",
              "      <td>204</td>\n",
              "      <td>300.0</td>\n",
              "      <td>6.0</td>\n",
              "      <td>23</td>\n",
              "      <td>16</td>\n",
              "      <td>4.0</td>\n",
              "    </tr>\n",
              "    <tr>\n",
              "      <th>11910</th>\n",
              "      <td>56670</td>\n",
              "      <td>204</td>\n",
              "      <td>300.0</td>\n",
              "      <td>6.0</td>\n",
              "      <td>23</td>\n",
              "      <td>16</td>\n",
              "      <td>4.0</td>\n",
              "    </tr>\n",
              "    <tr>\n",
              "      <th>11911</th>\n",
              "      <td>50620</td>\n",
              "      <td>204</td>\n",
              "      <td>300.0</td>\n",
              "      <td>6.0</td>\n",
              "      <td>23</td>\n",
              "      <td>16</td>\n",
              "      <td>4.0</td>\n",
              "    </tr>\n",
              "    <tr>\n",
              "      <th>11912</th>\n",
              "      <td>50920</td>\n",
              "      <td>204</td>\n",
              "      <td>300.0</td>\n",
              "      <td>6.0</td>\n",
              "      <td>23</td>\n",
              "      <td>16</td>\n",
              "      <td>4.0</td>\n",
              "    </tr>\n",
              "  </tbody>\n",
              "</table>\n",
              "<p>9372 rows × 7 columns</p>\n",
              "</div>\n",
              "    <div class=\"colab-df-buttons\">\n",
              "\n",
              "  <div class=\"colab-df-container\">\n",
              "    <button class=\"colab-df-convert\" onclick=\"convertToInteractive('df-ab08b6e5-2133-4d59-8ef8-c1171834686a')\"\n",
              "            title=\"Convert this dataframe to an interactive table.\"\n",
              "            style=\"display:none;\">\n",
              "\n",
              "  <svg xmlns=\"http://www.w3.org/2000/svg\" height=\"24px\" viewBox=\"0 -960 960 960\">\n",
              "    <path d=\"M120-120v-720h720v720H120Zm60-500h600v-160H180v160Zm220 220h160v-160H400v160Zm0 220h160v-160H400v160ZM180-400h160v-160H180v160Zm440 0h160v-160H620v160ZM180-180h160v-160H180v160Zm440 0h160v-160H620v160Z\"/>\n",
              "  </svg>\n",
              "    </button>\n",
              "\n",
              "  <style>\n",
              "    .colab-df-container {\n",
              "      display:flex;\n",
              "      gap: 12px;\n",
              "    }\n",
              "\n",
              "    .colab-df-convert {\n",
              "      background-color: #E8F0FE;\n",
              "      border: none;\n",
              "      border-radius: 50%;\n",
              "      cursor: pointer;\n",
              "      display: none;\n",
              "      fill: #1967D2;\n",
              "      height: 32px;\n",
              "      padding: 0 0 0 0;\n",
              "      width: 32px;\n",
              "    }\n",
              "\n",
              "    .colab-df-convert:hover {\n",
              "      background-color: #E2EBFA;\n",
              "      box-shadow: 0px 1px 2px rgba(60, 64, 67, 0.3), 0px 1px 3px 1px rgba(60, 64, 67, 0.15);\n",
              "      fill: #174EA6;\n",
              "    }\n",
              "\n",
              "    .colab-df-buttons div {\n",
              "      margin-bottom: 4px;\n",
              "    }\n",
              "\n",
              "    [theme=dark] .colab-df-convert {\n",
              "      background-color: #3B4455;\n",
              "      fill: #D2E3FC;\n",
              "    }\n",
              "\n",
              "    [theme=dark] .colab-df-convert:hover {\n",
              "      background-color: #434B5C;\n",
              "      box-shadow: 0px 1px 3px 1px rgba(0, 0, 0, 0.15);\n",
              "      filter: drop-shadow(0px 1px 2px rgba(0, 0, 0, 0.3));\n",
              "      fill: #FFFFFF;\n",
              "    }\n",
              "  </style>\n",
              "\n",
              "    <script>\n",
              "      const buttonEl =\n",
              "        document.querySelector('#df-ab08b6e5-2133-4d59-8ef8-c1171834686a button.colab-df-convert');\n",
              "      buttonEl.style.display =\n",
              "        google.colab.kernel.accessAllowed ? 'block' : 'none';\n",
              "\n",
              "      async function convertToInteractive(key) {\n",
              "        const element = document.querySelector('#df-ab08b6e5-2133-4d59-8ef8-c1171834686a');\n",
              "        const dataTable =\n",
              "          await google.colab.kernel.invokeFunction('convertToInteractive',\n",
              "                                                    [key], {});\n",
              "        if (!dataTable) return;\n",
              "\n",
              "        const docLinkHtml = 'Like what you see? Visit the ' +\n",
              "          '<a target=\"_blank\" href=https://colab.research.google.com/notebooks/data_table.ipynb>data table notebook</a>'\n",
              "          + ' to learn more about interactive tables.';\n",
              "        element.innerHTML = '';\n",
              "        dataTable['output_type'] = 'display_data';\n",
              "        await google.colab.output.renderOutput(dataTable, element);\n",
              "        const docLink = document.createElement('div');\n",
              "        docLink.innerHTML = docLinkHtml;\n",
              "        element.appendChild(docLink);\n",
              "      }\n",
              "    </script>\n",
              "  </div>\n",
              "\n",
              "\n",
              "<div id=\"df-be357891-38e7-4973-b10e-3641f5fedfb6\">\n",
              "  <button class=\"colab-df-quickchart\" onclick=\"quickchart('df-be357891-38e7-4973-b10e-3641f5fedfb6')\"\n",
              "            title=\"Suggest charts\"\n",
              "            style=\"display:none;\">\n",
              "\n",
              "<svg xmlns=\"http://www.w3.org/2000/svg\" height=\"24px\"viewBox=\"0 0 24 24\"\n",
              "     width=\"24px\">\n",
              "    <g>\n",
              "        <path d=\"M19 3H5c-1.1 0-2 .9-2 2v14c0 1.1.9 2 2 2h14c1.1 0 2-.9 2-2V5c0-1.1-.9-2-2-2zM9 17H7v-7h2v7zm4 0h-2V7h2v10zm4 0h-2v-4h2v4z\"/>\n",
              "    </g>\n",
              "</svg>\n",
              "  </button>\n",
              "\n",
              "<style>\n",
              "  .colab-df-quickchart {\n",
              "      --bg-color: #E8F0FE;\n",
              "      --fill-color: #1967D2;\n",
              "      --hover-bg-color: #E2EBFA;\n",
              "      --hover-fill-color: #174EA6;\n",
              "      --disabled-fill-color: #AAA;\n",
              "      --disabled-bg-color: #DDD;\n",
              "  }\n",
              "\n",
              "  [theme=dark] .colab-df-quickchart {\n",
              "      --bg-color: #3B4455;\n",
              "      --fill-color: #D2E3FC;\n",
              "      --hover-bg-color: #434B5C;\n",
              "      --hover-fill-color: #FFFFFF;\n",
              "      --disabled-bg-color: #3B4455;\n",
              "      --disabled-fill-color: #666;\n",
              "  }\n",
              "\n",
              "  .colab-df-quickchart {\n",
              "    background-color: var(--bg-color);\n",
              "    border: none;\n",
              "    border-radius: 50%;\n",
              "    cursor: pointer;\n",
              "    display: none;\n",
              "    fill: var(--fill-color);\n",
              "    height: 32px;\n",
              "    padding: 0;\n",
              "    width: 32px;\n",
              "  }\n",
              "\n",
              "  .colab-df-quickchart:hover {\n",
              "    background-color: var(--hover-bg-color);\n",
              "    box-shadow: 0 1px 2px rgba(60, 64, 67, 0.3), 0 1px 3px 1px rgba(60, 64, 67, 0.15);\n",
              "    fill: var(--button-hover-fill-color);\n",
              "  }\n",
              "\n",
              "  .colab-df-quickchart-complete:disabled,\n",
              "  .colab-df-quickchart-complete:disabled:hover {\n",
              "    background-color: var(--disabled-bg-color);\n",
              "    fill: var(--disabled-fill-color);\n",
              "    box-shadow: none;\n",
              "  }\n",
              "\n",
              "  .colab-df-spinner {\n",
              "    border: 2px solid var(--fill-color);\n",
              "    border-color: transparent;\n",
              "    border-bottom-color: var(--fill-color);\n",
              "    animation:\n",
              "      spin 1s steps(1) infinite;\n",
              "  }\n",
              "\n",
              "  @keyframes spin {\n",
              "    0% {\n",
              "      border-color: transparent;\n",
              "      border-bottom-color: var(--fill-color);\n",
              "      border-left-color: var(--fill-color);\n",
              "    }\n",
              "    20% {\n",
              "      border-color: transparent;\n",
              "      border-left-color: var(--fill-color);\n",
              "      border-top-color: var(--fill-color);\n",
              "    }\n",
              "    30% {\n",
              "      border-color: transparent;\n",
              "      border-left-color: var(--fill-color);\n",
              "      border-top-color: var(--fill-color);\n",
              "      border-right-color: var(--fill-color);\n",
              "    }\n",
              "    40% {\n",
              "      border-color: transparent;\n",
              "      border-right-color: var(--fill-color);\n",
              "      border-top-color: var(--fill-color);\n",
              "    }\n",
              "    60% {\n",
              "      border-color: transparent;\n",
              "      border-right-color: var(--fill-color);\n",
              "    }\n",
              "    80% {\n",
              "      border-color: transparent;\n",
              "      border-right-color: var(--fill-color);\n",
              "      border-bottom-color: var(--fill-color);\n",
              "    }\n",
              "    90% {\n",
              "      border-color: transparent;\n",
              "      border-bottom-color: var(--fill-color);\n",
              "    }\n",
              "  }\n",
              "</style>\n",
              "\n",
              "  <script>\n",
              "    async function quickchart(key) {\n",
              "      const quickchartButtonEl =\n",
              "        document.querySelector('#' + key + ' button');\n",
              "      quickchartButtonEl.disabled = true;  // To prevent multiple clicks.\n",
              "      quickchartButtonEl.classList.add('colab-df-spinner');\n",
              "      try {\n",
              "        const charts = await google.colab.kernel.invokeFunction(\n",
              "            'suggestCharts', [key], {});\n",
              "      } catch (error) {\n",
              "        console.error('Error during call to suggestCharts:', error);\n",
              "      }\n",
              "      quickchartButtonEl.classList.remove('colab-df-spinner');\n",
              "      quickchartButtonEl.classList.add('colab-df-quickchart-complete');\n",
              "    }\n",
              "    (() => {\n",
              "      let quickchartButtonEl =\n",
              "        document.querySelector('#df-be357891-38e7-4973-b10e-3641f5fedfb6 button');\n",
              "      quickchartButtonEl.style.display =\n",
              "        google.colab.kernel.accessAllowed ? 'block' : 'none';\n",
              "    })();\n",
              "  </script>\n",
              "</div>\n",
              "\n",
              "  <div id=\"id_59af6c25-2f73-47ee-85b4-3db1a9550c66\">\n",
              "    <style>\n",
              "      .colab-df-generate {\n",
              "        background-color: #E8F0FE;\n",
              "        border: none;\n",
              "        border-radius: 50%;\n",
              "        cursor: pointer;\n",
              "        display: none;\n",
              "        fill: #1967D2;\n",
              "        height: 32px;\n",
              "        padding: 0 0 0 0;\n",
              "        width: 32px;\n",
              "      }\n",
              "\n",
              "      .colab-df-generate:hover {\n",
              "        background-color: #E2EBFA;\n",
              "        box-shadow: 0px 1px 2px rgba(60, 64, 67, 0.3), 0px 1px 3px 1px rgba(60, 64, 67, 0.15);\n",
              "        fill: #174EA6;\n",
              "      }\n",
              "\n",
              "      [theme=dark] .colab-df-generate {\n",
              "        background-color: #3B4455;\n",
              "        fill: #D2E3FC;\n",
              "      }\n",
              "\n",
              "      [theme=dark] .colab-df-generate:hover {\n",
              "        background-color: #434B5C;\n",
              "        box-shadow: 0px 1px 3px 1px rgba(0, 0, 0, 0.15);\n",
              "        filter: drop-shadow(0px 1px 2px rgba(0, 0, 0, 0.3));\n",
              "        fill: #FFFFFF;\n",
              "      }\n",
              "    </style>\n",
              "    <button class=\"colab-df-generate\" onclick=\"generateWithVariable('cleaned_data')\"\n",
              "            title=\"Generate code using this dataframe.\"\n",
              "            style=\"display:none;\">\n",
              "\n",
              "  <svg xmlns=\"http://www.w3.org/2000/svg\" height=\"24px\"viewBox=\"0 0 24 24\"\n",
              "       width=\"24px\">\n",
              "    <path d=\"M7,19H8.4L18.45,9,17,7.55,7,17.6ZM5,21V16.75L18.45,3.32a2,2,0,0,1,2.83,0l1.4,1.43a1.91,1.91,0,0,1,.58,1.4,1.91,1.91,0,0,1-.58,1.4L9.25,21ZM18.45,9,17,7.55Zm-12,3A5.31,5.31,0,0,0,4.9,8.1,5.31,5.31,0,0,0,1,6.5,5.31,5.31,0,0,0,4.9,4.9,5.31,5.31,0,0,0,6.5,1,5.31,5.31,0,0,0,8.1,4.9,5.31,5.31,0,0,0,12,6.5,5.46,5.46,0,0,0,6.5,12Z\"/>\n",
              "  </svg>\n",
              "    </button>\n",
              "    <script>\n",
              "      (() => {\n",
              "      const buttonEl =\n",
              "        document.querySelector('#id_59af6c25-2f73-47ee-85b4-3db1a9550c66 button.colab-df-generate');\n",
              "      buttonEl.style.display =\n",
              "        google.colab.kernel.accessAllowed ? 'block' : 'none';\n",
              "\n",
              "      buttonEl.onclick = () => {\n",
              "        google.colab.notebook.generateWithVariable('cleaned_data');\n",
              "      }\n",
              "      })();\n",
              "    </script>\n",
              "  </div>\n",
              "\n",
              "    </div>\n",
              "  </div>\n"
            ],
            "application/vnd.google.colaboratory.intrinsic+json": {
              "type": "dataframe",
              "variable_name": "cleaned_data",
              "summary": "{\n  \"name\": \"cleaned_data\",\n  \"rows\": 9372,\n  \"fields\": [\n    {\n      \"column\": \"MSRP\",\n      \"properties\": {\n        \"dtype\": \"number\",\n        \"std\": 17815,\n        \"min\": 2000,\n        \"max\": 107900,\n        \"num_unique_values\": 4916,\n        \"samples\": [\n          42425,\n          46980,\n          24005\n        ],\n        \"semantic_type\": \"\",\n        \"description\": \"\"\n      }\n    },\n    {\n      \"column\": \"Popularity\",\n      \"properties\": {\n        \"dtype\": \"number\",\n        \"std\": 1444,\n        \"min\": 155,\n        \"max\": 5657,\n        \"num_unique_values\": 33,\n        \"samples\": [\n          190,\n          2202,\n          204\n        ],\n        \"semantic_type\": \"\",\n        \"description\": \"\"\n      }\n    },\n    {\n      \"column\": \"EngineHP\",\n      \"properties\": {\n        \"dtype\": \"number\",\n        \"std\": 77.29414200035255,\n        \"min\": 119.0,\n        \"max\": 460.0,\n        \"num_unique_values\": 222,\n        \"samples\": [\n          403.0,\n          395.0,\n          155.0\n        ],\n        \"semantic_type\": \"\",\n        \"description\": \"\"\n      }\n    },\n    {\n      \"column\": \"EngineCylinders\",\n      \"properties\": {\n        \"dtype\": \"number\",\n        \"std\": 1.3713035449124324,\n        \"min\": 4.0,\n        \"max\": 8.0,\n        \"num_unique_values\": 4,\n        \"samples\": [\n          4.0,\n          8.0,\n          6.0\n        ],\n        \"semantic_type\": \"\",\n        \"description\": \"\"\n      }\n    },\n    {\n      \"column\": \"HighwayMPG\",\n      \"properties\": {\n        \"dtype\": \"number\",\n        \"std\": 5,\n        \"min\": 17,\n        \"max\": 38,\n        \"num_unique_values\": 22,\n        \"samples\": [\n          26,\n          33,\n          35\n        ],\n        \"semantic_type\": \"\",\n        \"description\": \"\"\n      }\n    },\n    {\n      \"column\": \"CityMPG\",\n      \"properties\": {\n        \"dtype\": \"number\",\n        \"std\": 3,\n        \"min\": 12,\n        \"max\": 29,\n        \"num_unique_values\": 18,\n        \"samples\": [\n          19,\n          20,\n          21\n        ],\n        \"semantic_type\": \"\",\n        \"description\": \"\"\n      }\n    },\n    {\n      \"column\": \"NumberOfDoors\",\n      \"properties\": {\n        \"dtype\": \"number\",\n        \"std\": 0.8385461206720335,\n        \"min\": 2.0,\n        \"max\": 4.0,\n        \"num_unique_values\": 3,\n        \"samples\": [\n          2.0,\n          4.0,\n          3.0\n        ],\n        \"semantic_type\": \"\",\n        \"description\": \"\"\n      }\n    }\n  ]\n}"
            }
          },
          "metadata": {},
          "execution_count": 32
        }
      ],
      "source": [
        "# Load and clean the cars data\n",
        "cleaned_data = load_cars_data()\n",
        "cleaned_data"
      ]
    },
    {
      "cell_type": "code",
      "execution_count": 33,
      "id": "Po-cIRn2CoBO",
      "metadata": {
        "colab": {
          "base_uri": "https://localhost:8080/"
        },
        "id": "Po-cIRn2CoBO",
        "outputId": "13eee0a6-3aea-40d8-bca6-b2f2f9c08a54"
      },
      "outputs": [
        {
          "output_type": "stream",
          "name": "stdout",
          "text": [
            "<class 'pandas.core.frame.DataFrame'>\n",
            "Index: 9372 entries, 0 to 11912\n",
            "Data columns (total 7 columns):\n",
            " #   Column           Non-Null Count  Dtype  \n",
            "---  ------           --------------  -----  \n",
            " 0   MSRP             9372 non-null   int64  \n",
            " 1   Popularity       9372 non-null   int64  \n",
            " 2   EngineHP         9372 non-null   float64\n",
            " 3   EngineCylinders  9372 non-null   float64\n",
            " 4   HighwayMPG       9372 non-null   int64  \n",
            " 5   CityMPG          9372 non-null   int64  \n",
            " 6   NumberOfDoors    9372 non-null   float64\n",
            "dtypes: float64(3), int64(4)\n",
            "memory usage: 585.8 KB\n"
          ]
        }
      ],
      "source": [
        "cleaned_data.info()"
      ]
    },
    {
      "cell_type": "markdown",
      "id": "1-N9RNeTG0nb",
      "metadata": {
        "id": "1-N9RNeTG0nb"
      },
      "source": [
        "#### 1.1"
      ]
    },
    {
      "cell_type": "markdown",
      "id": "i4ggP7pZJtg4",
      "metadata": {
        "id": "i4ggP7pZJtg4"
      },
      "source": [
        "A we learnd in class about competing variables:\n",
        "\n",
        "- $β̂_1$ is significant if #x_2# is not in the model\n",
        "- $β̂_2$ is significant if #x_1# is not in the model\n",
        "\n"
      ]
    },
    {
      "cell_type": "code",
      "execution_count": 34,
      "id": "qhvOyRzZLSP-",
      "metadata": {
        "id": "qhvOyRzZLSP-"
      },
      "outputs": [],
      "source": [
        "def find_competing_predictors(X, y):\n",
        "\n",
        "    results = []\n",
        "    predictors = X.columns\n",
        "    full_model = sm.OLS(y, sm.add_constant(X)).fit()   # Fit the full model\n",
        "    full_p_values = full_model.pvalues\n",
        "\n",
        "    # exclude each predictor, and refit the model\n",
        "    for excluded_predictor in predictors:\n",
        "        remaining_predictors = X.drop(columns=[excluded_predictor])\n",
        "        model = sm.OLS(y, sm.add_constant(remaining_predictors)).fit()\n",
        "        p_values = model.pvalues\n",
        "\n",
        "        # calc p-values\n",
        "        for predictor in predictors:\n",
        "            # if a predictor is significant only when another is excluded\n",
        "            if predictor != excluded_predictor:\n",
        "                was_insignificant = full_p_values[predictor] > 0.05\n",
        "                became_significant = p_values[predictor] <= 0.05\n",
        "\n",
        "                if was_insignificant and became_significant:\n",
        "                    results.append({\n",
        "                        \"Excluded Predictor\": excluded_predictor,\n",
        "                        \"Significant Predictor\": predictor,\n",
        "                        \"Full Model p-value\": full_p_values[predictor],\n",
        "                        \"After Exclusion p-value\": np.float64(p_values[predictor])\n",
        "                    })\n",
        "\n",
        "    return pd.DataFrame(results)"
      ]
    },
    {
      "cell_type": "code",
      "execution_count": 35,
      "id": "xM3fQ6akLzvu",
      "metadata": {
        "colab": {
          "base_uri": "https://localhost:8080/",
          "height": 174
        },
        "id": "xM3fQ6akLzvu",
        "outputId": "c92b48cb-30ad-4dff-f41d-b24fface7e50"
      },
      "outputs": [
        {
          "output_type": "display_data",
          "data": {
            "text/plain": [
              "  Excluded Predictor Significant Predictor  Full Model p-value  \\\n",
              "0           EngineHP            Popularity            0.298795   \n",
              "1           EngineHP            HighwayMPG            0.282520   \n",
              "2    EngineCylinders            HighwayMPG            0.282520   \n",
              "3            CityMPG            HighwayMPG            0.282520   \n",
              "\n",
              "   After Exclusion p-value  \n",
              "0             3.237769e-02  \n",
              "1             2.211457e-75  \n",
              "2             1.592391e-02  \n",
              "3            1.196202e-107  "
            ],
            "text/html": [
              "\n",
              "  <div id=\"df-dc69262f-129a-425b-81e1-0907e76bdb7b\" class=\"colab-df-container\">\n",
              "    <div>\n",
              "<style scoped>\n",
              "    .dataframe tbody tr th:only-of-type {\n",
              "        vertical-align: middle;\n",
              "    }\n",
              "\n",
              "    .dataframe tbody tr th {\n",
              "        vertical-align: top;\n",
              "    }\n",
              "\n",
              "    .dataframe thead th {\n",
              "        text-align: right;\n",
              "    }\n",
              "</style>\n",
              "<table border=\"1\" class=\"dataframe\">\n",
              "  <thead>\n",
              "    <tr style=\"text-align: right;\">\n",
              "      <th></th>\n",
              "      <th>Excluded Predictor</th>\n",
              "      <th>Significant Predictor</th>\n",
              "      <th>Full Model p-value</th>\n",
              "      <th>After Exclusion p-value</th>\n",
              "    </tr>\n",
              "  </thead>\n",
              "  <tbody>\n",
              "    <tr>\n",
              "      <th>0</th>\n",
              "      <td>EngineHP</td>\n",
              "      <td>Popularity</td>\n",
              "      <td>0.298795</td>\n",
              "      <td>3.237769e-02</td>\n",
              "    </tr>\n",
              "    <tr>\n",
              "      <th>1</th>\n",
              "      <td>EngineHP</td>\n",
              "      <td>HighwayMPG</td>\n",
              "      <td>0.282520</td>\n",
              "      <td>2.211457e-75</td>\n",
              "    </tr>\n",
              "    <tr>\n",
              "      <th>2</th>\n",
              "      <td>EngineCylinders</td>\n",
              "      <td>HighwayMPG</td>\n",
              "      <td>0.282520</td>\n",
              "      <td>1.592391e-02</td>\n",
              "    </tr>\n",
              "    <tr>\n",
              "      <th>3</th>\n",
              "      <td>CityMPG</td>\n",
              "      <td>HighwayMPG</td>\n",
              "      <td>0.282520</td>\n",
              "      <td>1.196202e-107</td>\n",
              "    </tr>\n",
              "  </tbody>\n",
              "</table>\n",
              "</div>\n",
              "    <div class=\"colab-df-buttons\">\n",
              "\n",
              "  <div class=\"colab-df-container\">\n",
              "    <button class=\"colab-df-convert\" onclick=\"convertToInteractive('df-dc69262f-129a-425b-81e1-0907e76bdb7b')\"\n",
              "            title=\"Convert this dataframe to an interactive table.\"\n",
              "            style=\"display:none;\">\n",
              "\n",
              "  <svg xmlns=\"http://www.w3.org/2000/svg\" height=\"24px\" viewBox=\"0 -960 960 960\">\n",
              "    <path d=\"M120-120v-720h720v720H120Zm60-500h600v-160H180v160Zm220 220h160v-160H400v160Zm0 220h160v-160H400v160ZM180-400h160v-160H180v160Zm440 0h160v-160H620v160ZM180-180h160v-160H180v160Zm440 0h160v-160H620v160Z\"/>\n",
              "  </svg>\n",
              "    </button>\n",
              "\n",
              "  <style>\n",
              "    .colab-df-container {\n",
              "      display:flex;\n",
              "      gap: 12px;\n",
              "    }\n",
              "\n",
              "    .colab-df-convert {\n",
              "      background-color: #E8F0FE;\n",
              "      border: none;\n",
              "      border-radius: 50%;\n",
              "      cursor: pointer;\n",
              "      display: none;\n",
              "      fill: #1967D2;\n",
              "      height: 32px;\n",
              "      padding: 0 0 0 0;\n",
              "      width: 32px;\n",
              "    }\n",
              "\n",
              "    .colab-df-convert:hover {\n",
              "      background-color: #E2EBFA;\n",
              "      box-shadow: 0px 1px 2px rgba(60, 64, 67, 0.3), 0px 1px 3px 1px rgba(60, 64, 67, 0.15);\n",
              "      fill: #174EA6;\n",
              "    }\n",
              "\n",
              "    .colab-df-buttons div {\n",
              "      margin-bottom: 4px;\n",
              "    }\n",
              "\n",
              "    [theme=dark] .colab-df-convert {\n",
              "      background-color: #3B4455;\n",
              "      fill: #D2E3FC;\n",
              "    }\n",
              "\n",
              "    [theme=dark] .colab-df-convert:hover {\n",
              "      background-color: #434B5C;\n",
              "      box-shadow: 0px 1px 3px 1px rgba(0, 0, 0, 0.15);\n",
              "      filter: drop-shadow(0px 1px 2px rgba(0, 0, 0, 0.3));\n",
              "      fill: #FFFFFF;\n",
              "    }\n",
              "  </style>\n",
              "\n",
              "    <script>\n",
              "      const buttonEl =\n",
              "        document.querySelector('#df-dc69262f-129a-425b-81e1-0907e76bdb7b button.colab-df-convert');\n",
              "      buttonEl.style.display =\n",
              "        google.colab.kernel.accessAllowed ? 'block' : 'none';\n",
              "\n",
              "      async function convertToInteractive(key) {\n",
              "        const element = document.querySelector('#df-dc69262f-129a-425b-81e1-0907e76bdb7b');\n",
              "        const dataTable =\n",
              "          await google.colab.kernel.invokeFunction('convertToInteractive',\n",
              "                                                    [key], {});\n",
              "        if (!dataTable) return;\n",
              "\n",
              "        const docLinkHtml = 'Like what you see? Visit the ' +\n",
              "          '<a target=\"_blank\" href=https://colab.research.google.com/notebooks/data_table.ipynb>data table notebook</a>'\n",
              "          + ' to learn more about interactive tables.';\n",
              "        element.innerHTML = '';\n",
              "        dataTable['output_type'] = 'display_data';\n",
              "        await google.colab.output.renderOutput(dataTable, element);\n",
              "        const docLink = document.createElement('div');\n",
              "        docLink.innerHTML = docLinkHtml;\n",
              "        element.appendChild(docLink);\n",
              "      }\n",
              "    </script>\n",
              "  </div>\n",
              "\n",
              "\n",
              "<div id=\"df-87b07ac5-90be-41d0-83b4-dd591fd2f1d3\">\n",
              "  <button class=\"colab-df-quickchart\" onclick=\"quickchart('df-87b07ac5-90be-41d0-83b4-dd591fd2f1d3')\"\n",
              "            title=\"Suggest charts\"\n",
              "            style=\"display:none;\">\n",
              "\n",
              "<svg xmlns=\"http://www.w3.org/2000/svg\" height=\"24px\"viewBox=\"0 0 24 24\"\n",
              "     width=\"24px\">\n",
              "    <g>\n",
              "        <path d=\"M19 3H5c-1.1 0-2 .9-2 2v14c0 1.1.9 2 2 2h14c1.1 0 2-.9 2-2V5c0-1.1-.9-2-2-2zM9 17H7v-7h2v7zm4 0h-2V7h2v10zm4 0h-2v-4h2v4z\"/>\n",
              "    </g>\n",
              "</svg>\n",
              "  </button>\n",
              "\n",
              "<style>\n",
              "  .colab-df-quickchart {\n",
              "      --bg-color: #E8F0FE;\n",
              "      --fill-color: #1967D2;\n",
              "      --hover-bg-color: #E2EBFA;\n",
              "      --hover-fill-color: #174EA6;\n",
              "      --disabled-fill-color: #AAA;\n",
              "      --disabled-bg-color: #DDD;\n",
              "  }\n",
              "\n",
              "  [theme=dark] .colab-df-quickchart {\n",
              "      --bg-color: #3B4455;\n",
              "      --fill-color: #D2E3FC;\n",
              "      --hover-bg-color: #434B5C;\n",
              "      --hover-fill-color: #FFFFFF;\n",
              "      --disabled-bg-color: #3B4455;\n",
              "      --disabled-fill-color: #666;\n",
              "  }\n",
              "\n",
              "  .colab-df-quickchart {\n",
              "    background-color: var(--bg-color);\n",
              "    border: none;\n",
              "    border-radius: 50%;\n",
              "    cursor: pointer;\n",
              "    display: none;\n",
              "    fill: var(--fill-color);\n",
              "    height: 32px;\n",
              "    padding: 0;\n",
              "    width: 32px;\n",
              "  }\n",
              "\n",
              "  .colab-df-quickchart:hover {\n",
              "    background-color: var(--hover-bg-color);\n",
              "    box-shadow: 0 1px 2px rgba(60, 64, 67, 0.3), 0 1px 3px 1px rgba(60, 64, 67, 0.15);\n",
              "    fill: var(--button-hover-fill-color);\n",
              "  }\n",
              "\n",
              "  .colab-df-quickchart-complete:disabled,\n",
              "  .colab-df-quickchart-complete:disabled:hover {\n",
              "    background-color: var(--disabled-bg-color);\n",
              "    fill: var(--disabled-fill-color);\n",
              "    box-shadow: none;\n",
              "  }\n",
              "\n",
              "  .colab-df-spinner {\n",
              "    border: 2px solid var(--fill-color);\n",
              "    border-color: transparent;\n",
              "    border-bottom-color: var(--fill-color);\n",
              "    animation:\n",
              "      spin 1s steps(1) infinite;\n",
              "  }\n",
              "\n",
              "  @keyframes spin {\n",
              "    0% {\n",
              "      border-color: transparent;\n",
              "      border-bottom-color: var(--fill-color);\n",
              "      border-left-color: var(--fill-color);\n",
              "    }\n",
              "    20% {\n",
              "      border-color: transparent;\n",
              "      border-left-color: var(--fill-color);\n",
              "      border-top-color: var(--fill-color);\n",
              "    }\n",
              "    30% {\n",
              "      border-color: transparent;\n",
              "      border-left-color: var(--fill-color);\n",
              "      border-top-color: var(--fill-color);\n",
              "      border-right-color: var(--fill-color);\n",
              "    }\n",
              "    40% {\n",
              "      border-color: transparent;\n",
              "      border-right-color: var(--fill-color);\n",
              "      border-top-color: var(--fill-color);\n",
              "    }\n",
              "    60% {\n",
              "      border-color: transparent;\n",
              "      border-right-color: var(--fill-color);\n",
              "    }\n",
              "    80% {\n",
              "      border-color: transparent;\n",
              "      border-right-color: var(--fill-color);\n",
              "      border-bottom-color: var(--fill-color);\n",
              "    }\n",
              "    90% {\n",
              "      border-color: transparent;\n",
              "      border-bottom-color: var(--fill-color);\n",
              "    }\n",
              "  }\n",
              "</style>\n",
              "\n",
              "  <script>\n",
              "    async function quickchart(key) {\n",
              "      const quickchartButtonEl =\n",
              "        document.querySelector('#' + key + ' button');\n",
              "      quickchartButtonEl.disabled = true;  // To prevent multiple clicks.\n",
              "      quickchartButtonEl.classList.add('colab-df-spinner');\n",
              "      try {\n",
              "        const charts = await google.colab.kernel.invokeFunction(\n",
              "            'suggestCharts', [key], {});\n",
              "      } catch (error) {\n",
              "        console.error('Error during call to suggestCharts:', error);\n",
              "      }\n",
              "      quickchartButtonEl.classList.remove('colab-df-spinner');\n",
              "      quickchartButtonEl.classList.add('colab-df-quickchart-complete');\n",
              "    }\n",
              "    (() => {\n",
              "      let quickchartButtonEl =\n",
              "        document.querySelector('#df-87b07ac5-90be-41d0-83b4-dd591fd2f1d3 button');\n",
              "      quickchartButtonEl.style.display =\n",
              "        google.colab.kernel.accessAllowed ? 'block' : 'none';\n",
              "    })();\n",
              "  </script>\n",
              "</div>\n",
              "\n",
              "  <div id=\"id_0bbeddf3-6e70-4504-a474-60a6e1741290\">\n",
              "    <style>\n",
              "      .colab-df-generate {\n",
              "        background-color: #E8F0FE;\n",
              "        border: none;\n",
              "        border-radius: 50%;\n",
              "        cursor: pointer;\n",
              "        display: none;\n",
              "        fill: #1967D2;\n",
              "        height: 32px;\n",
              "        padding: 0 0 0 0;\n",
              "        width: 32px;\n",
              "      }\n",
              "\n",
              "      .colab-df-generate:hover {\n",
              "        background-color: #E2EBFA;\n",
              "        box-shadow: 0px 1px 2px rgba(60, 64, 67, 0.3), 0px 1px 3px 1px rgba(60, 64, 67, 0.15);\n",
              "        fill: #174EA6;\n",
              "      }\n",
              "\n",
              "      [theme=dark] .colab-df-generate {\n",
              "        background-color: #3B4455;\n",
              "        fill: #D2E3FC;\n",
              "      }\n",
              "\n",
              "      [theme=dark] .colab-df-generate:hover {\n",
              "        background-color: #434B5C;\n",
              "        box-shadow: 0px 1px 3px 1px rgba(0, 0, 0, 0.15);\n",
              "        filter: drop-shadow(0px 1px 2px rgba(0, 0, 0, 0.3));\n",
              "        fill: #FFFFFF;\n",
              "      }\n",
              "    </style>\n",
              "    <button class=\"colab-df-generate\" onclick=\"generateWithVariable('competing_predictors')\"\n",
              "            title=\"Generate code using this dataframe.\"\n",
              "            style=\"display:none;\">\n",
              "\n",
              "  <svg xmlns=\"http://www.w3.org/2000/svg\" height=\"24px\"viewBox=\"0 0 24 24\"\n",
              "       width=\"24px\">\n",
              "    <path d=\"M7,19H8.4L18.45,9,17,7.55,7,17.6ZM5,21V16.75L18.45,3.32a2,2,0,0,1,2.83,0l1.4,1.43a1.91,1.91,0,0,1,.58,1.4,1.91,1.91,0,0,1-.58,1.4L9.25,21ZM18.45,9,17,7.55Zm-12,3A5.31,5.31,0,0,0,4.9,8.1,5.31,5.31,0,0,0,1,6.5,5.31,5.31,0,0,0,4.9,4.9,5.31,5.31,0,0,0,6.5,1,5.31,5.31,0,0,0,8.1,4.9,5.31,5.31,0,0,0,12,6.5,5.46,5.46,0,0,0,6.5,12Z\"/>\n",
              "  </svg>\n",
              "    </button>\n",
              "    <script>\n",
              "      (() => {\n",
              "      const buttonEl =\n",
              "        document.querySelector('#id_0bbeddf3-6e70-4504-a474-60a6e1741290 button.colab-df-generate');\n",
              "      buttonEl.style.display =\n",
              "        google.colab.kernel.accessAllowed ? 'block' : 'none';\n",
              "\n",
              "      buttonEl.onclick = () => {\n",
              "        google.colab.notebook.generateWithVariable('competing_predictors');\n",
              "      }\n",
              "      })();\n",
              "    </script>\n",
              "  </div>\n",
              "\n",
              "    </div>\n",
              "  </div>\n"
            ],
            "application/vnd.google.colaboratory.intrinsic+json": {
              "type": "dataframe",
              "variable_name": "competing_predictors",
              "summary": "{\n  \"name\": \"competing_predictors\",\n  \"rows\": 4,\n  \"fields\": [\n    {\n      \"column\": \"Excluded Predictor\",\n      \"properties\": {\n        \"dtype\": \"string\",\n        \"num_unique_values\": 3,\n        \"samples\": [\n          \"EngineHP\",\n          \"EngineCylinders\",\n          \"CityMPG\"\n        ],\n        \"semantic_type\": \"\",\n        \"description\": \"\"\n      }\n    },\n    {\n      \"column\": \"Significant Predictor\",\n      \"properties\": {\n        \"dtype\": \"string\",\n        \"num_unique_values\": 2,\n        \"samples\": [\n          \"HighwayMPG\",\n          \"Popularity\"\n        ],\n        \"semantic_type\": \"\",\n        \"description\": \"\"\n      }\n    },\n    {\n      \"column\": \"Full Model p-value\",\n      \"properties\": {\n        \"dtype\": \"number\",\n        \"std\": 0.00813758187291419,\n        \"min\": 0.28252026776627137,\n        \"max\": 0.29879543151209975,\n        \"num_unique_values\": 2,\n        \"samples\": [\n          0.28252026776627137,\n          0.29879543151209975\n        ],\n        \"semantic_type\": \"\",\n        \"description\": \"\"\n      }\n    },\n    {\n      \"column\": \"After Exclusion p-value\",\n      \"properties\": {\n        \"dtype\": \"number\",\n        \"std\": 0.015477130352133163,\n        \"min\": 1.1962019879433477e-107,\n        \"max\": 0.03237769195040445,\n        \"num_unique_values\": 4,\n        \"samples\": [\n          2.211457193624608e-75,\n          1.1962019879433477e-107\n        ],\n        \"semantic_type\": \"\",\n        \"description\": \"\"\n      }\n    }\n  ]\n}"
            }
          },
          "metadata": {}
        }
      ],
      "source": [
        "X_cleaned = cleaned_data.drop(columns=['MSRP'])\n",
        "y_cleaned = cleaned_data['MSRP']\n",
        "competing_predictors = find_competing_predictors(X_cleaned, y_cleaned)\n",
        "display(competing_predictors)"
      ]
    },
    {
      "cell_type": "markdown",
      "id": "WFnOKixaNAzh",
      "metadata": {
        "id": "WFnOKixaNAzh"
      },
      "source": [
        "From the results shown above in the table, we can conclude the following:\n",
        "\n",
        "1. Popularity and EngineHP:\n",
        "\n",
        " Popularity is not significant in the full model $p=0.299$. However, when EngineHP is excluded, Popularity becomes significant $p=0.032$. This means that Popularity and EngineHP are competing variables. Their interplay affects significance, as EngineHP captures information that overlaps with Popularity.\n",
        "\n",
        "\n",
        "2. HighwayMPG and other predictors:\n",
        "\n",
        " HighwayMPG is not significant in the full model $p=0.283$. When CityMPG is excluded, HighwayMPG becomes highly significant. When EngineCylinders is excluded, HighwayMPG also becomes significant p=0.016.\n",
        " When EngineHP is excluded, HighwayMPG becomes significant.\n",
        "\n",
        "**HighwayMPG competes with multiple variables (CityMPG, EngineHP, and EngineCylinders). These predictors overlap in their ability to explain variance in the target (MSRP)."
      ]
    },
    {
      "cell_type": "markdown",
      "id": "BeNrcsV8G2v5",
      "metadata": {
        "id": "BeNrcsV8G2v5"
      },
      "source": [
        "#### 1.2"
      ]
    },
    {
      "cell_type": "markdown",
      "id": "hPSMLOSDVGme",
      "metadata": {
        "id": "hPSMLOSDVGme"
      },
      "source": [
        "A car manufacturer’s proposal to maximize EngineCylinders to increase MSRP does not make sense without further analysis because:\n",
        "- EngineCylinders is correlated with EngineHP, which might be the true driver of MSRP.\n",
        "- Correlation does not imply causation. EngineHP could mediate the apparent relationship between EngineCylinders and MSRP.\n",
        "\n",
        "To evaluate this proposal, we perform the 5 analyses steps:\n",
        "\n",
        "Step 1: Calculate the raw correlation between EngineCylinders and MSRP.\n",
        "\n",
        "Step 2: Calculate the partial correlation between EngineCylinders and MSRP, adjusted for EngineHP.\n",
        "\n",
        "Step 3: Fit a combined model (MSRP ~ EngineHP + EngineCylinders) to assess their independent effects.\n",
        "\n",
        "Step 4: Fit an interaction model (MSRP ~ EngineHP * EngineCylinders) to evaluate how they influence MSRP."
      ]
    },
    {
      "cell_type": "code",
      "execution_count": 36,
      "id": "idbemD4QVPoD",
      "metadata": {
        "colab": {
          "base_uri": "https://localhost:8080/"
        },
        "id": "idbemD4QVPoD",
        "outputId": "f9f35a65-eca6-470d-8caa-743c77671f3f"
      },
      "outputs": [
        {
          "output_type": "stream",
          "name": "stdout",
          "text": [
            "The raw correlation between MSRP and EngineCylinders is: 0.367\n"
          ]
        }
      ],
      "source": [
        "msrp_data = cleaned_data['MSRP']\n",
        "engine_cylinders_data = cleaned_data[['EngineCylinders']]\n",
        "\n",
        "# Fit MSRP as a function of EngineCylinders\n",
        "model_msrp_on_cylinders = sm.OLS(msrp_data, sm.add_constant(engine_cylinders_data)).fit()\n",
        "model_msrp_on_cylinders_correlation = (\n",
        "    np.sign(model_msrp_on_cylinders.params['EngineCylinders']) * np.sqrt(model_msrp_on_cylinders.rsquared)\n",
        ")\n",
        "print(f\"The raw correlation between MSRP and EngineCylinders is: {model_msrp_on_cylinders_correlation:.3f}\")"
      ]
    },
    {
      "cell_type": "markdown",
      "id": "5MAZQ_NyVvKQ",
      "metadata": {
        "id": "5MAZQ_NyVvKQ"
      },
      "source": [
        "The moderate positive raw correlation $0.367$ between MSRP and EngineCylinders suggests a relationship, but further analysis is needed to determine if this effect is independent of EngineHP."
      ]
    },
    {
      "cell_type": "code",
      "execution_count": 37,
      "id": "6MDVec0EVeT5",
      "metadata": {
        "colab": {
          "base_uri": "https://localhost:8080/"
        },
        "id": "6MDVec0EVeT5",
        "outputId": "f91b4c62-9778-48ab-ff97-7094c6926d76"
      },
      "outputs": [
        {
          "output_type": "stream",
          "name": "stdout",
          "text": [
            "The partial correlation between MSRP and EngineCylinders adjusted for EngineHP is: -0.378\n"
          ]
        }
      ],
      "source": [
        "engine_hp_data = cleaned_data[['EngineHP']]\n",
        "\n",
        "# Regress EngineCylinders on EngineHP\n",
        "model_cylinders_on_hp = sm.OLS(engine_cylinders_data, sm.add_constant(engine_hp_data)).fit()\n",
        "\n",
        "# Regress MSRP on EngineHP\n",
        "model_msrp_on_hp = sm.OLS(msrp_data, sm.add_constant(engine_hp_data)).fit()\n",
        "\n",
        "# Residuals-based regression for partial corr\n",
        "model_res = sm.OLS(\n",
        "    model_msrp_on_hp.resid,\n",
        "    sm.add_constant(pd.DataFrame({'EngineCylinders': model_cylinders_on_hp.resid}))\n",
        ").fit()\n",
        "\n",
        "partial_corr_coeff = (\n",
        "    np.sign(model_res.params['EngineCylinders']) * np.sqrt(model_res.rsquared)\n",
        ")\n",
        "print(f\"The partial correlation between MSRP and EngineCylinders adjusted for EngineHP is: {partial_corr_coeff:.3f}\")"
      ]
    },
    {
      "cell_type": "markdown",
      "id": "jLWOt-13WEQB",
      "metadata": {
        "id": "jLWOt-13WEQB"
      },
      "source": [
        "The negative partial correlation ($−0.378$) between MSRP and EngineCylinders, adjusted for EngineHP, suggests that once the influence of EngineHP is accounted for, EngineCylinders has an inverse relationship with MSRP, indicating it may not independently contribute positively to profitability."
      ]
    },
    {
      "cell_type": "code",
      "execution_count": 38,
      "id": "EjCYcBOyV3Vc",
      "metadata": {
        "colab": {
          "base_uri": "https://localhost:8080/"
        },
        "id": "EjCYcBOyV3Vc",
        "outputId": "87c6d657-2cec-463a-e30f-673b58e73d5a"
      },
      "outputs": [
        {
          "output_type": "stream",
          "name": "stdout",
          "text": [
            "\n",
            "Combined Model Summary:\n",
            "                            OLS Regression Results                            \n",
            "==============================================================================\n",
            "Dep. Variable:                   MSRP   R-squared:                       0.634\n",
            "Model:                            OLS   Adj. R-squared:                  0.634\n",
            "Method:                 Least Squares   F-statistic:                     8103.\n",
            "Date:                Mon, 27 Jan 2025   Prob (F-statistic):               0.00\n",
            "Time:                        11:01:46   Log-Likelihood:            -1.0032e+05\n",
            "No. Observations:                9372   AIC:                         2.007e+05\n",
            "Df Residuals:                    9369   BIC:                         2.007e+05\n",
            "Df Model:                           2                                         \n",
            "Covariance Type:            nonrobust                                         \n",
            "===================================================================================\n",
            "                      coef    std err          t      P>|t|      [0.025      0.975]\n",
            "-----------------------------------------------------------------------------------\n",
            "Intercept         882.1736    461.122      1.913      0.056     -21.726    1786.073\n",
            "EngineHP          232.3713      2.057    112.973      0.000     228.339     236.403\n",
            "EngineCylinders -4577.6610    115.936    -39.484      0.000   -4804.922   -4350.400\n",
            "==============================================================================\n",
            "Omnibus:                      797.924   Durbin-Watson:                   0.528\n",
            "Prob(Omnibus):                  0.000   Jarque-Bera (JB):             2766.250\n",
            "Skew:                           0.402   Prob(JB):                         0.00\n",
            "Kurtosis:                       5.537   Cond. No.                     1.06e+03\n",
            "==============================================================================\n",
            "\n",
            "Notes:\n",
            "[1] Standard Errors assume that the covariance matrix of the errors is correctly specified.\n",
            "[2] The condition number is large, 1.06e+03. This might indicate that there are\n",
            "strong multicollinearity or other numerical problems.\n"
          ]
        }
      ],
      "source": [
        "combined_model = smf.ols(formula=\"MSRP ~ EngineHP + EngineCylinders\", data=cleaned_data).fit()\n",
        "print(\"\\nCombined Model Summary:\")\n",
        "print(combined_model.summary())"
      ]
    },
    {
      "cell_type": "markdown",
      "id": "VSP6rj3pWhdD",
      "metadata": {
        "id": "VSP6rj3pWhdD"
      },
      "source": [
        "- The negative coefficient for EngineCylinders indicates that the manufacturer's proposal to maximize EngineCylinders for profitability does not hold when accounting for EngineHP.Instead, the focus should be on maximizing EngineHP, as it has a direct and positive effect on MSRP.\n",
        "\n",
        "- The significant negative relationship suggests that increasing EngineCylinders without improving EngineHP could reduce profitability, possibly due to inefficiencies or consumer preferences.\n",
        "\n",
        "- Furthermore, the model's $R^2 = 0.634$ indicates that $ 63.4 $% of the variation in MSRP is explained by EngineHP and EngineCylinders, highlighting that this combination provides a strong predictive framework for profitability."
      ]
    },
    {
      "cell_type": "code",
      "execution_count": 39,
      "id": "s9Ts07-tWnMx",
      "metadata": {
        "colab": {
          "base_uri": "https://localhost:8080/"
        },
        "id": "s9Ts07-tWnMx",
        "outputId": "b92e435b-1a4d-457f-d8bd-10521fc5dc69"
      },
      "outputs": [
        {
          "output_type": "stream",
          "name": "stdout",
          "text": [
            "\n",
            "Interaction Model Summary:\n",
            "                            OLS Regression Results                            \n",
            "==============================================================================\n",
            "Dep. Variable:                   MSRP   R-squared:                       0.639\n",
            "Model:                            OLS   Adj. R-squared:                  0.638\n",
            "Method:                 Least Squares   F-statistic:                     5517.\n",
            "Date:                Mon, 27 Jan 2025   Prob (F-statistic):               0.00\n",
            "Time:                        11:01:46   Log-Likelihood:            -1.0026e+05\n",
            "No. Observations:                9372   AIC:                         2.005e+05\n",
            "Df Residuals:                    9368   BIC:                         2.006e+05\n",
            "Df Model:                           3                                         \n",
            "Covariance Type:            nonrobust                                         \n",
            "============================================================================================\n",
            "                               coef    std err          t      P>|t|      [0.025      0.975]\n",
            "--------------------------------------------------------------------------------------------\n",
            "Intercept                  1.75e+04   1542.634     11.342      0.000    1.45e+04    2.05e+04\n",
            "EngineHP                   161.3668      6.619     24.381      0.000     148.393     174.341\n",
            "EngineCylinders          -7505.0818    283.950    -26.431      0.000   -8061.685   -6948.478\n",
            "EngineHP:EngineCylinders    11.8481      1.050     11.279      0.000       9.789      13.907\n",
            "==============================================================================\n",
            "Omnibus:                      827.952   Durbin-Watson:                   0.533\n",
            "Prob(Omnibus):                  0.000   Jarque-Bera (JB):             3089.557\n",
            "Skew:                           0.396   Prob(JB):                         0.00\n",
            "Kurtosis:                       5.699   Cond. No.                     2.28e+04\n",
            "==============================================================================\n",
            "\n",
            "Notes:\n",
            "[1] Standard Errors assume that the covariance matrix of the errors is correctly specified.\n",
            "[2] The condition number is large, 2.28e+04. This might indicate that there are\n",
            "strong multicollinearity or other numerical problems.\n"
          ]
        }
      ],
      "source": [
        "interaction_model = smf.ols(formula=\"MSRP ~ EngineHP * EngineCylinders\", data=cleaned_data).fit()\n",
        "print(\"\\nInteraction Model Summary:\")\n",
        "print(interaction_model.summary())"
      ]
    },
    {
      "cell_type": "markdown",
      "id": "8yTy90kIW3Ac",
      "metadata": {
        "id": "8yTy90kIW3Ac"
      },
      "source": [
        "- The significant interaction term suggests that the relationship between EngineCylinders and MSRP changes depending on the value of EngineHP.\n",
        "\n",
        "- If EngineHP is high, the negative effect of EngineCylinders on MSRP might be mitigated.\n",
        "- If EngineHP is low, increasing EngineCylinders might reduce MSRP more significantly.\n",
        "- This underscores that simply increasing EngineCylinders without considering EngineHP can lead to suboptimal results.\n",
        "\n",
        "- The slight increase in $R^2$ compared to the combined model (0.634 vs. 0.639) indicates that adding the interaction term improves the model, but only marginally."
      ]
    },
    {
      "cell_type": "markdown",
      "id": "sEvqWTcbXAzA",
      "metadata": {
        "id": "sEvqWTcbXAzA"
      },
      "source": [
        "**Conclusion for the Manufacturer:**\n",
        "\n",
        "The proposal to maximize EngineCylinders is not valid without optimizing EngineHP. EngineHP has a strong positive effect on MSRP, explaining 57.3% of its variability, while EngineCylinders alone explains only 13.5% and has a negative effect in the combined model. The significant interaction between EngineHP and EngineCylinders shows that their relationship with MSRP is interconnected. The focus should be optimizing EngineHP while balancing it with EngineCylinders to maximize profitability."
      ]
    },
    {
      "cell_type": "markdown",
      "id": "ddfe4d7e",
      "metadata": {
        "id": "ddfe4d7e"
      },
      "source": [
        "## Problem 2  - (Variable Selection)\n",
        "\n",
        "Use life expectancy dataset from class website. Remove entries from 2015; Remove entries with missing values; remove the categorical variable ``Country`` and transform the categorical variable ``Status`` to binary; see provided function.\n",
        "\n",
        "1. Write the function ``backward_select`` (prototype below). Make sure that your function prints $R^2$ and F-test $p$-value of each candidate model it iterates through in the process.\n",
        "Apply it on the house prices dataset and report the resulting model.\n",
        "2. Write a function that receives as an input a set of predictors and the response and evaluates the leave-one-out error (n-fold cross validation). What is the leave-one-out error of the model you found in 1?\n",
        "3. Consider the predictors:\n",
        "``\n",
        "[infant_deaths, BMI, Status_binary, Alcohol, Diphtheria, HIV, Schooling, under_five_deaths, Income_composition_of_resources]\n",
        "``.\n",
        "Over each of the $2^9$ models, evaluate $\\mathrm{MSE}$, AIC, BIC, $C_p$, and leave-one-out CV-error for every model and print the results. Report on the models with the lowest AIC, BIC, LOO-CV-error, $C_p$.\n",
        "4. Consider the 4 most dominant predictors as seen in the Lasso path in class. Construct a model with these predictors and evaluate its LOO-CV-error. Add this\n",
        "\n",
        "Hint: for 1, modify the ``forward_select`` function from class. You may also use the function ``sm.stats.anova_lm(smaller_model, larger_model)`` to compare two ``statsmodels`` models."
      ]
    },
    {
      "cell_type": "code",
      "execution_count": 40,
      "id": "1bbedf8f",
      "metadata": {
        "id": "1bbedf8f"
      },
      "outputs": [],
      "source": [
        "def read_and_prepare_life_expectancy_data(path_to_csv_file):\n",
        "    \"\"\"\n",
        "    1. Load dataset from csv file\n",
        "    2. Remove entries with missing values\n",
        "    3. Remove spaces from column names\n",
        "    4. Add a dummy varaible based on `Status` columns\n",
        "    5. Remove non-numerical variables `Status` and `Country`\n",
        "    \"\"\"\n",
        "    data = pd.read_csv(path_to_csv_file).dropna()\n",
        "    data.columns = [\"_\".join(c.split()) for c in data.columns]\n",
        "    data['Status_binary'] = data['Status'].apply(lambda x : 1 if x=='Developing' else 0)\n",
        "    data_no_2015 = data[data['Year'] <= 2015] # Remove 2015 data\n",
        "    non_numeric_vars = [\"Status\", \"Country\"]\n",
        "    data_numeric = data_no_2015.drop(columns = non_numeric_vars)\n",
        "    data_nona = data_numeric.dropna()\n",
        "    return data_nona"
      ]
    },
    {
      "cell_type": "code",
      "execution_count": 41,
      "id": "hf8eVv0nYRZj",
      "metadata": {
        "id": "hf8eVv0nYRZj"
      },
      "outputs": [],
      "source": [
        "life_expectancy_df =  read_and_prepare_life_expectancy_data('/content/Life Expectancy Data.csv')"
      ]
    },
    {
      "cell_type": "code",
      "execution_count": 42,
      "id": "mpDu2yxCYcy_",
      "metadata": {
        "colab": {
          "base_uri": "https://localhost:8080/"
        },
        "id": "mpDu2yxCYcy_",
        "outputId": "42f6ba16-6d33-48e9-b3f5-03e53b6ea324"
      },
      "outputs": [
        {
          "output_type": "stream",
          "name": "stdout",
          "text": [
            "<class 'pandas.core.frame.DataFrame'>\n",
            "Index: 1649 entries, 0 to 2937\n",
            "Data columns (total 21 columns):\n",
            " #   Column                           Non-Null Count  Dtype  \n",
            "---  ------                           --------------  -----  \n",
            " 0   Year                             1649 non-null   int64  \n",
            " 1   Life_expectancy                  1649 non-null   float64\n",
            " 2   Adult_Mortality                  1649 non-null   float64\n",
            " 3   infant_deaths                    1649 non-null   int64  \n",
            " 4   Alcohol                          1649 non-null   float64\n",
            " 5   percentage_expenditure           1649 non-null   float64\n",
            " 6   Hepatitis_B                      1649 non-null   float64\n",
            " 7   Measles                          1649 non-null   int64  \n",
            " 8   BMI                              1649 non-null   float64\n",
            " 9   under_five_deaths                1649 non-null   int64  \n",
            " 10  Polio                            1649 non-null   float64\n",
            " 11  Total_expenditure                1649 non-null   float64\n",
            " 12  Diphtheria                       1649 non-null   float64\n",
            " 13  HIV                              1649 non-null   float64\n",
            " 14  GDP                              1649 non-null   float64\n",
            " 15  Population                       1649 non-null   float64\n",
            " 16  thinness_1_19_years              1649 non-null   float64\n",
            " 17  thinness_5_9_years               1649 non-null   float64\n",
            " 18  Income_composition_of_resources  1649 non-null   float64\n",
            " 19  Schooling                        1649 non-null   float64\n",
            " 20  Status_binary                    1649 non-null   int64  \n",
            "dtypes: float64(16), int64(5)\n",
            "memory usage: 283.4 KB\n"
          ]
        }
      ],
      "source": [
        "life_expectancy_df.info()"
      ]
    },
    {
      "cell_type": "markdown",
      "id": "g8Sjp56jYkZr",
      "metadata": {
        "id": "g8Sjp56jYkZr"
      },
      "source": [
        "#### 2.1"
      ]
    },
    {
      "cell_type": "code",
      "execution_count": 43,
      "id": "1f85ebb2",
      "metadata": {
        "id": "1f85ebb2"
      },
      "outputs": [],
      "source": [
        "def backward_select(data, response, sig_level=.05):\n",
        "    \"\"\"Linear model designed by backward selection.\n",
        "\n",
        "    Parameters:\n",
        "    -----------\n",
        "    data: pandas DataFrame with all possible predictors and response\n",
        "\n",
        "    response: string, name of response column in data\n",
        "\n",
        "    sig_level:  significance level for F-test\n",
        "\n",
        "    Returns:\n",
        "    --------\n",
        "    model: an \"optimal\" fitted statsmodels linear model\n",
        "           with an intercept selected by backward selection\n",
        "           evaluated by R-squared and F-test for extra sum of squares\n",
        "    \"\"\"\n",
        "    remaining = [c for c in data.columns if not c == response]\n",
        "    rejected_candidates = []\n",
        "\n",
        "    n = len(data)\n",
        "    formula = f\"{response} ~ {' + '.join(remaining)} + 1\"\n",
        "    current_model = smf.ols(formula, data).fit()\n",
        "    SS_prev = current_model.ssr\n",
        "\n",
        "    itr = 0\n",
        "    while remaining:\n",
        "        itr += 1\n",
        "        p_values = current_model.pvalues.drop(\"Intercept\")\n",
        "        max_p_value = p_values.max()\n",
        "        worst_candidate = p_values.idxmax()\n",
        "\n",
        "        if max_p_value > sig_level:\n",
        "            remaining.remove(worst_candidate)\n",
        "            rejected_candidates.append((worst_candidate, max_p_value))\n",
        "            formula = f\"{response} ~ {' + '.join(remaining)} + 1\"\n",
        "            new_model = smf.ols(formula, data).fit()\n",
        "            SS_new = new_model.ssr\n",
        "\n",
        "            f = (SS_prev - SS_new) / (SS_new / (n - (len(remaining) + 1)))\n",
        "            Ftest_pval = scipy.stats.f.sf(f, dfn=1, dfd=(n - len(remaining) + 1))\n",
        "\n",
        "            print(f\"=========  Step {itr} ==========\")\n",
        "            print(f\"Removed Candidate = {worst_candidate}\")\n",
        "            print(f\"New R2 = {new_model.rsquared}\")\n",
        "            print(f\"Ftest (pvalue) = {Ftest_pval}\")\n",
        "            print(\"=============================\")\n",
        "\n",
        "            current_model = new_model\n",
        "            SS_prev = SS_new\n",
        "        else:\n",
        "            print(f\"No predictors with p-value > {sig_level}. Stopping.\")\n",
        "            break\n",
        "\n",
        "    print(\"Rejected Candidates:\")\n",
        "    for candidate, p_value in rejected_candidates:\n",
        "        print(f\"{candidate}: p-value = {p_value:.4f}\")\n",
        "\n",
        "    return current_model"
      ]
    },
    {
      "cell_type": "code",
      "execution_count": 44,
      "id": "NlqD0dMFY1Nd",
      "metadata": {
        "colab": {
          "base_uri": "https://localhost:8080/"
        },
        "id": "NlqD0dMFY1Nd",
        "outputId": "efcf66b9-4794-4983-cf06-842beb81c1d1"
      },
      "outputs": [
        {
          "output_type": "stream",
          "name": "stdout",
          "text": [
            "=========  Step 1 ==========\n",
            "Removed Candidate = thinness_1_19_years\n",
            "New R2 = 0.8385751627787918\n",
            "Ftest (pvalue) = 1.0\n",
            "=============================\n",
            "=========  Step 2 ==========\n",
            "Removed Candidate = Population\n",
            "New R2 = 0.8385627055389225\n",
            "Ftest (pvalue) = 1.0\n",
            "=============================\n",
            "=========  Step 3 ==========\n",
            "Removed Candidate = Hepatitis_B\n",
            "New R2 = 0.8385103901350186\n",
            "Ftest (pvalue) = 1.0\n",
            "=============================\n",
            "=========  Step 4 ==========\n",
            "Removed Candidate = GDP\n",
            "New R2 = 0.8384364015323245\n",
            "Ftest (pvalue) = 1.0\n",
            "=============================\n",
            "=========  Step 5 ==========\n",
            "Removed Candidate = Measles\n",
            "New R2 = 0.8383511935389818\n",
            "Ftest (pvalue) = 1.0\n",
            "=============================\n",
            "=========  Step 6 ==========\n",
            "Removed Candidate = Polio\n",
            "New R2 = 0.8382423421545568\n",
            "Ftest (pvalue) = 1.0\n",
            "=============================\n",
            "No predictors with p-value > 0.05. Stopping.\n",
            "Rejected Candidates:\n",
            "thinness_1_19_years: p-value = 0.9119\n",
            "Population: p-value = 0.7230\n",
            "Hepatitis_B: p-value = 0.4675\n",
            "GDP: p-value = 0.3875\n",
            "Measles: p-value = 0.3537\n",
            "Polio: p-value = 0.2945\n"
          ]
        }
      ],
      "source": [
        "# Apply the backward_select function to the life expectancy dataset\n",
        "response_variable = \"Life_expectancy\"\n",
        "final_model = backward_select(life_expectancy_df, response_variable)"
      ]
    },
    {
      "cell_type": "code",
      "execution_count": 45,
      "id": "8YaqxwNLefa-",
      "metadata": {
        "colab": {
          "base_uri": "https://localhost:8080/",
          "height": 760
        },
        "id": "8YaqxwNLefa-",
        "outputId": "21a95fcf-22b8-4d91-c91a-389d254c264c"
      },
      "outputs": [
        {
          "output_type": "execute_result",
          "data": {
            "text/plain": [
              "<class 'statsmodels.iolib.summary.Summary'>\n",
              "\"\"\"\n",
              "                            OLS Regression Results                            \n",
              "==============================================================================\n",
              "Dep. Variable:        Life_expectancy   R-squared:                       0.838\n",
              "Model:                            OLS   Adj. R-squared:                  0.837\n",
              "Method:                 Least Squares   F-statistic:                     604.8\n",
              "Date:                Mon, 27 Jan 2025   Prob (F-statistic):               0.00\n",
              "Time:                        11:01:47   Log-Likelihood:                -4422.9\n",
              "No. Observations:                1649   AIC:                             8876.\n",
              "Df Residuals:                    1634   BIC:                             8957.\n",
              "Df Model:                          14                                         \n",
              "Covariance Type:            nonrobust                                         \n",
              "===================================================================================================\n",
              "                                      coef    std err          t      P>|t|      [0.025      0.975]\n",
              "---------------------------------------------------------------------------------------------------\n",
              "Intercept                         310.0869     45.397      6.831      0.000     221.045     399.129\n",
              "Year                               -0.1277      0.023     -5.632      0.000      -0.172      -0.083\n",
              "Adult_Mortality                    -0.0163      0.001    -17.275      0.000      -0.018      -0.014\n",
              "infant_deaths                       0.0861      0.010      8.682      0.000       0.067       0.106\n",
              "Alcohol                            -0.1299      0.034     -3.877      0.000      -0.196      -0.064\n",
              "percentage_expenditure              0.0005   5.88e-05      7.690      0.000       0.000       0.001\n",
              "BMI                                 0.0320      0.006      5.421      0.000       0.020       0.044\n",
              "under_five_deaths                  -0.0652      0.007     -8.846      0.000      -0.080      -0.051\n",
              "Total_expenditure                   0.0920      0.040      2.284      0.023       0.013       0.171\n",
              "Diphtheria                          0.0151      0.004      3.368      0.001       0.006       0.024\n",
              "HIV                                -0.4478      0.018    -25.203      0.000      -0.483      -0.413\n",
              "thinness_5_9_years                 -0.0521      0.026     -1.992      0.046      -0.103      -0.001\n",
              "Income_composition_of_resources    10.5232      0.829     12.690      0.000       8.897      12.150\n",
              "Schooling                           0.9047      0.058     15.493      0.000       0.790       1.019\n",
              "Status_binary                      -0.8975      0.333     -2.696      0.007      -1.550      -0.245\n",
              "==============================================================================\n",
              "Omnibus:                       32.222   Durbin-Watson:                   0.711\n",
              "Prob(Omnibus):                  0.000   Jarque-Bera (JB):               58.762\n",
              "Skew:                          -0.110   Prob(JB):                     1.74e-13\n",
              "Kurtosis:                       3.898   Cond. No.                     1.19e+06\n",
              "==============================================================================\n",
              "\n",
              "Notes:\n",
              "[1] Standard Errors assume that the covariance matrix of the errors is correctly specified.\n",
              "[2] The condition number is large, 1.19e+06. This might indicate that there are\n",
              "strong multicollinearity or other numerical problems.\n",
              "\"\"\""
            ],
            "text/html": [
              "<table class=\"simpletable\">\n",
              "<caption>OLS Regression Results</caption>\n",
              "<tr>\n",
              "  <th>Dep. Variable:</th>     <td>Life_expectancy</td> <th>  R-squared:         </th> <td>   0.838</td>\n",
              "</tr>\n",
              "<tr>\n",
              "  <th>Model:</th>                   <td>OLS</td>       <th>  Adj. R-squared:    </th> <td>   0.837</td>\n",
              "</tr>\n",
              "<tr>\n",
              "  <th>Method:</th>             <td>Least Squares</td>  <th>  F-statistic:       </th> <td>   604.8</td>\n",
              "</tr>\n",
              "<tr>\n",
              "  <th>Date:</th>             <td>Mon, 27 Jan 2025</td> <th>  Prob (F-statistic):</th>  <td>  0.00</td> \n",
              "</tr>\n",
              "<tr>\n",
              "  <th>Time:</th>                 <td>11:01:47</td>     <th>  Log-Likelihood:    </th> <td> -4422.9</td>\n",
              "</tr>\n",
              "<tr>\n",
              "  <th>No. Observations:</th>      <td>  1649</td>      <th>  AIC:               </th> <td>   8876.</td>\n",
              "</tr>\n",
              "<tr>\n",
              "  <th>Df Residuals:</th>          <td>  1634</td>      <th>  BIC:               </th> <td>   8957.</td>\n",
              "</tr>\n",
              "<tr>\n",
              "  <th>Df Model:</th>              <td>    14</td>      <th>                     </th>     <td> </td>   \n",
              "</tr>\n",
              "<tr>\n",
              "  <th>Covariance Type:</th>      <td>nonrobust</td>    <th>                     </th>     <td> </td>   \n",
              "</tr>\n",
              "</table>\n",
              "<table class=\"simpletable\">\n",
              "<tr>\n",
              "                 <td></td>                    <th>coef</th>     <th>std err</th>      <th>t</th>      <th>P>|t|</th>  <th>[0.025</th>    <th>0.975]</th>  \n",
              "</tr>\n",
              "<tr>\n",
              "  <th>Intercept</th>                       <td>  310.0869</td> <td>   45.397</td> <td>    6.831</td> <td> 0.000</td> <td>  221.045</td> <td>  399.129</td>\n",
              "</tr>\n",
              "<tr>\n",
              "  <th>Year</th>                            <td>   -0.1277</td> <td>    0.023</td> <td>   -5.632</td> <td> 0.000</td> <td>   -0.172</td> <td>   -0.083</td>\n",
              "</tr>\n",
              "<tr>\n",
              "  <th>Adult_Mortality</th>                 <td>   -0.0163</td> <td>    0.001</td> <td>  -17.275</td> <td> 0.000</td> <td>   -0.018</td> <td>   -0.014</td>\n",
              "</tr>\n",
              "<tr>\n",
              "  <th>infant_deaths</th>                   <td>    0.0861</td> <td>    0.010</td> <td>    8.682</td> <td> 0.000</td> <td>    0.067</td> <td>    0.106</td>\n",
              "</tr>\n",
              "<tr>\n",
              "  <th>Alcohol</th>                         <td>   -0.1299</td> <td>    0.034</td> <td>   -3.877</td> <td> 0.000</td> <td>   -0.196</td> <td>   -0.064</td>\n",
              "</tr>\n",
              "<tr>\n",
              "  <th>percentage_expenditure</th>          <td>    0.0005</td> <td> 5.88e-05</td> <td>    7.690</td> <td> 0.000</td> <td>    0.000</td> <td>    0.001</td>\n",
              "</tr>\n",
              "<tr>\n",
              "  <th>BMI</th>                             <td>    0.0320</td> <td>    0.006</td> <td>    5.421</td> <td> 0.000</td> <td>    0.020</td> <td>    0.044</td>\n",
              "</tr>\n",
              "<tr>\n",
              "  <th>under_five_deaths</th>               <td>   -0.0652</td> <td>    0.007</td> <td>   -8.846</td> <td> 0.000</td> <td>   -0.080</td> <td>   -0.051</td>\n",
              "</tr>\n",
              "<tr>\n",
              "  <th>Total_expenditure</th>               <td>    0.0920</td> <td>    0.040</td> <td>    2.284</td> <td> 0.023</td> <td>    0.013</td> <td>    0.171</td>\n",
              "</tr>\n",
              "<tr>\n",
              "  <th>Diphtheria</th>                      <td>    0.0151</td> <td>    0.004</td> <td>    3.368</td> <td> 0.001</td> <td>    0.006</td> <td>    0.024</td>\n",
              "</tr>\n",
              "<tr>\n",
              "  <th>HIV</th>                             <td>   -0.4478</td> <td>    0.018</td> <td>  -25.203</td> <td> 0.000</td> <td>   -0.483</td> <td>   -0.413</td>\n",
              "</tr>\n",
              "<tr>\n",
              "  <th>thinness_5_9_years</th>              <td>   -0.0521</td> <td>    0.026</td> <td>   -1.992</td> <td> 0.046</td> <td>   -0.103</td> <td>   -0.001</td>\n",
              "</tr>\n",
              "<tr>\n",
              "  <th>Income_composition_of_resources</th> <td>   10.5232</td> <td>    0.829</td> <td>   12.690</td> <td> 0.000</td> <td>    8.897</td> <td>   12.150</td>\n",
              "</tr>\n",
              "<tr>\n",
              "  <th>Schooling</th>                       <td>    0.9047</td> <td>    0.058</td> <td>   15.493</td> <td> 0.000</td> <td>    0.790</td> <td>    1.019</td>\n",
              "</tr>\n",
              "<tr>\n",
              "  <th>Status_binary</th>                   <td>   -0.8975</td> <td>    0.333</td> <td>   -2.696</td> <td> 0.007</td> <td>   -1.550</td> <td>   -0.245</td>\n",
              "</tr>\n",
              "</table>\n",
              "<table class=\"simpletable\">\n",
              "<tr>\n",
              "  <th>Omnibus:</th>       <td>32.222</td> <th>  Durbin-Watson:     </th> <td>   0.711</td>\n",
              "</tr>\n",
              "<tr>\n",
              "  <th>Prob(Omnibus):</th> <td> 0.000</td> <th>  Jarque-Bera (JB):  </th> <td>  58.762</td>\n",
              "</tr>\n",
              "<tr>\n",
              "  <th>Skew:</th>          <td>-0.110</td> <th>  Prob(JB):          </th> <td>1.74e-13</td>\n",
              "</tr>\n",
              "<tr>\n",
              "  <th>Kurtosis:</th>      <td> 3.898</td> <th>  Cond. No.          </th> <td>1.19e+06</td>\n",
              "</tr>\n",
              "</table><br/><br/>Notes:<br/>[1] Standard Errors assume that the covariance matrix of the errors is correctly specified.<br/>[2] The condition number is large, 1.19e+06. This might indicate that there are<br/>strong multicollinearity or other numerical problems."
            ],
            "text/latex": "\\begin{center}\n\\begin{tabular}{lclc}\n\\toprule\n\\textbf{Dep. Variable:}                     & Life\\_expectancy & \\textbf{  R-squared:         } &     0.838   \\\\\n\\textbf{Model:}                             &       OLS        & \\textbf{  Adj. R-squared:    } &     0.837   \\\\\n\\textbf{Method:}                            &  Least Squares   & \\textbf{  F-statistic:       } &     604.8   \\\\\n\\textbf{Date:}                              & Mon, 27 Jan 2025 & \\textbf{  Prob (F-statistic):} &     0.00    \\\\\n\\textbf{Time:}                              &     11:01:47     & \\textbf{  Log-Likelihood:    } &   -4422.9   \\\\\n\\textbf{No. Observations:}                  &        1649      & \\textbf{  AIC:               } &     8876.   \\\\\n\\textbf{Df Residuals:}                      &        1634      & \\textbf{  BIC:               } &     8957.   \\\\\n\\textbf{Df Model:}                          &          14      & \\textbf{                     } &             \\\\\n\\textbf{Covariance Type:}                   &    nonrobust     & \\textbf{                     } &             \\\\\n\\bottomrule\n\\end{tabular}\n\\begin{tabular}{lcccccc}\n                                            & \\textbf{coef} & \\textbf{std err} & \\textbf{t} & \\textbf{P$> |$t$|$} & \\textbf{[0.025} & \\textbf{0.975]}  \\\\\n\\midrule\n\\textbf{Intercept}                          &     310.0869  &       45.397     &     6.831  &         0.000        &      221.045    &      399.129     \\\\\n\\textbf{Year}                               &      -0.1277  &        0.023     &    -5.632  &         0.000        &       -0.172    &       -0.083     \\\\\n\\textbf{Adult\\_Mortality}                   &      -0.0163  &        0.001     &   -17.275  &         0.000        &       -0.018    &       -0.014     \\\\\n\\textbf{infant\\_deaths}                     &       0.0861  &        0.010     &     8.682  &         0.000        &        0.067    &        0.106     \\\\\n\\textbf{Alcohol}                            &      -0.1299  &        0.034     &    -3.877  &         0.000        &       -0.196    &       -0.064     \\\\\n\\textbf{percentage\\_expenditure}            &       0.0005  &     5.88e-05     &     7.690  &         0.000        &        0.000    &        0.001     \\\\\n\\textbf{BMI}                                &       0.0320  &        0.006     &     5.421  &         0.000        &        0.020    &        0.044     \\\\\n\\textbf{under\\_five\\_deaths}                &      -0.0652  &        0.007     &    -8.846  &         0.000        &       -0.080    &       -0.051     \\\\\n\\textbf{Total\\_expenditure}                 &       0.0920  &        0.040     &     2.284  &         0.023        &        0.013    &        0.171     \\\\\n\\textbf{Diphtheria}                         &       0.0151  &        0.004     &     3.368  &         0.001        &        0.006    &        0.024     \\\\\n\\textbf{HIV}                                &      -0.4478  &        0.018     &   -25.203  &         0.000        &       -0.483    &       -0.413     \\\\\n\\textbf{thinness\\_5\\_9\\_years}              &      -0.0521  &        0.026     &    -1.992  &         0.046        &       -0.103    &       -0.001     \\\\\n\\textbf{Income\\_composition\\_of\\_resources} &      10.5232  &        0.829     &    12.690  &         0.000        &        8.897    &       12.150     \\\\\n\\textbf{Schooling}                          &       0.9047  &        0.058     &    15.493  &         0.000        &        0.790    &        1.019     \\\\\n\\textbf{Status\\_binary}                     &      -0.8975  &        0.333     &    -2.696  &         0.007        &       -1.550    &       -0.245     \\\\\n\\bottomrule\n\\end{tabular}\n\\begin{tabular}{lclc}\n\\textbf{Omnibus:}       & 32.222 & \\textbf{  Durbin-Watson:     } &    0.711  \\\\\n\\textbf{Prob(Omnibus):} &  0.000 & \\textbf{  Jarque-Bera (JB):  } &   58.762  \\\\\n\\textbf{Skew:}          & -0.110 & \\textbf{  Prob(JB):          } & 1.74e-13  \\\\\n\\textbf{Kurtosis:}      &  3.898 & \\textbf{  Cond. No.          } & 1.19e+06  \\\\\n\\bottomrule\n\\end{tabular}\n%\\caption{OLS Regression Results}\n\\end{center}\n\nNotes: \\newline\n [1] Standard Errors assume that the covariance matrix of the errors is correctly specified. \\newline\n [2] The condition number is large, 1.19e+06. This might indicate that there are \\newline\n strong multicollinearity or other numerical problems."
          },
          "metadata": {},
          "execution_count": 45
        }
      ],
      "source": [
        "final_model.summary()"
      ]
    },
    {
      "cell_type": "markdown",
      "id": "Sn0RMe_CfRx1",
      "metadata": {
        "id": "Sn0RMe_CfRx1"
      },
      "source": [
        "Backward Summary\n",
        "\n",
        "Initial Model:\n",
        "\n",
        "Started with all predictors in the dataset.\n",
        "Iteratively removed variables with the highest p-values until no predictors had a p-value above the significance level ($p>0.05\n",
        "$).\n",
        "\n",
        "\n",
        "Variables Removed:\n",
        "\n",
        "1. thinness_1_19_years: $p-value=0.9119$\n",
        "2. Population: $p-value=0.7230$\n",
        "3. Hepatitis_B: $p-value=0.4675$\n",
        "4. GDP: $p-value=0.3875$\n",
        "5. Measles: $p-value=0.3537$\n",
        "6. Polio: $p-value=0.2945$\n",
        "\n",
        "Final Model:\n",
        "\n",
        "Retained 14 predictors:\n",
        "\n",
        "Year, Adult_Mortality, infant_deaths, Alcohol, percentage_expenditure, BMI, under_five_deaths, Total_expenditure, Diphtheria, HIV, thinness_5_9_years, Income_composition_of_resources, Schooling, and Status_binary.\n",
        "\n",
        "$𝑅^2 = 0.838$\n",
        "\n",
        "$R^2_{Adjusted } = 0.837$\n",
        "\n",
        "The final model's $R^2$ indicates that 83.8% of the variance in the response variable (Life_expectancy) is explained by the predictors in the model."
      ]
    },
    {
      "cell_type": "markdown",
      "id": "G6ik9GZ4g3mY",
      "metadata": {
        "id": "G6ik9GZ4g3mY"
      },
      "source": [
        "#### 2.2"
      ]
    },
    {
      "cell_type": "code",
      "execution_count": 72,
      "id": "z4lEDqshg5fx",
      "metadata": {
        "id": "z4lEDqshg5fx"
      },
      "outputs": [],
      "source": [
        "def leave_one_out_error(data, predictors, response):\n",
        "    \"\"\"\n",
        "    Evaluates the Leave-One-Out (LOO) error for a linear model using a vectorized approach.\n",
        "\n",
        "    Parameters:\n",
        "    -----------\n",
        "    data : pandas DataFrame\n",
        "        The dataset containing predictors and response.\n",
        "    predictors : list of str\n",
        "        The names of the predictor variables.\n",
        "    response : str\n",
        "        The name of the response variable.\n",
        "\n",
        "    Returns:\n",
        "    --------\n",
        "    loo_error : float\n",
        "        The mean squared error from leave-one-out cross-validation.\n",
        "    \"\"\"\n",
        "    X = sm.add_constant(data[predictors])\n",
        "    y = data[response]\n",
        "\n",
        "    # Fit the model\n",
        "    model = sm.OLS(y, X).fit()\n",
        "\n",
        "    # Compute the Hat matrix\n",
        "    X_matrix = X.to_numpy()\n",
        "    H = X_matrix @ np.linalg.inv(X_matrix.T @ X_matrix) @ X_matrix.T\n",
        "    H_diag = np.diag(H)\n",
        "    y_hat = model.fittedvalues\n",
        "    residuals = y - y_hat\n",
        "\n",
        "    loo_errors = (residuals / (1 - H_diag)) ** 2\n",
        "\n",
        "    loo_error = np.mean(loo_errors)\n",
        "    return loo_error"
      ]
    },
    {
      "cell_type": "code",
      "execution_count": 47,
      "id": "0Q12ck0Zhgu6",
      "metadata": {
        "colab": {
          "base_uri": "https://localhost:8080/"
        },
        "id": "0Q12ck0Zhgu6",
        "outputId": "f3aa35a8-6904-491b-c479-753e37b9b5ef"
      },
      "outputs": [
        {
          "output_type": "execute_result",
          "data": {
            "text/plain": [
              "12.80376092420579"
            ]
          },
          "metadata": {},
          "execution_count": 47
        }
      ],
      "source": [
        "final_predictors = ['Year', 'Adult_Mortality', 'infant_deaths', 'Alcohol', 'percentage_expenditure',\n",
        "                    'BMI', 'under_five_deaths', 'Total_expenditure', 'Diphtheria', 'HIV',\n",
        "                    'thinness_5_9_years', 'Income_composition_of_resources', 'Schooling', 'Status_binary']\n",
        "response_variable = \"Life_expectancy\"\n",
        "\n",
        "# leave-one-out error for the final model\n",
        "loo_error = leave_one_out_error(life_expectancy_df, final_predictors, response_variable)\n",
        "loo_error"
      ]
    },
    {
      "cell_type": "markdown",
      "id": "6kExN4NXjeJp",
      "metadata": {
        "id": "6kExN4NXjeJp"
      },
      "source": [
        "#### 2.3"
      ]
    },
    {
      "cell_type": "code",
      "execution_count": 48,
      "id": "CfXGsSa7-3_Y",
      "metadata": {
        "id": "CfXGsSa7-3_Y"
      },
      "outputs": [],
      "source": [
        "predictors = ['infant_deaths', 'BMI', 'Status_binary', 'Alcohol', 'Diphtheria',\n",
        "              'HIV', 'Schooling', 'under_five_deaths', 'Income_composition_of_resources']\n",
        "response = 'Life_expectancy'"
      ]
    },
    {
      "cell_type": "code",
      "source": [
        "def evaluate_model(data, predictors, response, subset, sigma2_hat):\n",
        "    \"\"\"\n",
        "    Evaluate a single subset and calculate metrics.\n",
        "    \"\"\"\n",
        "    subset = list(subset)\n",
        "    X = sm.add_constant(data[subset])\n",
        "    y = data[response]\n",
        "    model = sm.OLS(y, X).fit()\n",
        "\n",
        "    # Metrics\n",
        "    mse = model.mse_resid\n",
        "    aic = model.aic\n",
        "    bic = model.bic\n",
        "    n = len(data)\n",
        "    p = model.df_model + 1\n",
        "    cp = model.ssr / sigma2_hat + 2 * p - n\n",
        "    loo_cv_error = leave_one_out_error(data, subset, response)\n",
        "\n",
        "    return {'Subset': subset, 'MSE': mse, 'AIC': aic, 'BIC': bic, 'Cp': cp, 'LOO-CV': loo_cv_error}\n",
        "\n",
        "\n",
        "def evaluate_all_models(data, predictors, response, n_jobs=-1):\n",
        "    \"\"\"\n",
        "    Evaluate all subsets of predictors and compute metrics efficiently.\n",
        "    \"\"\"\n",
        "    # Fit the full model to compute sigma^2 for Cp\n",
        "    full_model = sm.OLS(data[response], sm.add_constant(data[predictors])).fit()\n",
        "    sigma2_hat = full_model.mse_resid\n",
        "\n",
        "    # Generate all subsets\n",
        "    subsets = []\n",
        "    for size in range(1, len(predictors) + 1):\n",
        "        subsets.extend(combinations(predictors, size))\n",
        "\n",
        "    # Eval all subsets in parallel\n",
        "    results = Parallel(n_jobs=n_jobs)(\n",
        "        delayed(evaluate_model)(data, predictors, response, subset, sigma2_hat)\n",
        "        for subset in subsets\n",
        "    )\n",
        "\n",
        "    return pd.DataFrame(results)"
      ],
      "metadata": {
        "id": "LsY1W5-hIMND"
      },
      "id": "LsY1W5-hIMND",
      "execution_count": 73,
      "outputs": []
    },
    {
      "cell_type": "code",
      "source": [
        "def print_best_models(best_aic, best_bic, best_cp, best_loo_cv):\n",
        "    \"\"\"\n",
        "    Prints the best models in a formatted and readable way.\n",
        "\n",
        "    Parameters:\n",
        "    -----------\n",
        "    best_aic : Series\n",
        "        Row corresponding to the best model by AIC.\n",
        "    best_bic : Series\n",
        "        Row corresponding to the best model by BIC.\n",
        "    best_cp : Series\n",
        "        Row corresponding to the best model by Cp.\n",
        "    best_loo_cv : Series\n",
        "        Row corresponding to the best model by LOO-CV.\n",
        "    \"\"\"\n",
        "    print(\"\\nBest Models:\\n\")\n",
        "    print(f\"  1. Best Model by AIC:\")\n",
        "    print(f\"     Predictors: {', '.join(best_aic['Subset'])}\")\n",
        "    print(f\"     AIC: {best_aic['AIC']:.4f}, MSE: {best_aic['MSE']:.4f}, Cp: {best_aic['Cp']:.4f}, LOO-CV: {best_aic['LOO-CV']:.4f}\")\n",
        "    print(\"-\" * 60)\n",
        "\n",
        "    print(f\"  2. Best Model by BIC:\")\n",
        "    print(f\"     Predictors: {', '.join(best_bic['Subset'])}\")\n",
        "    print(f\"     BIC: {best_bic['BIC']:.4f}, MSE: {best_bic['MSE']:.4f}, Cp: {best_bic['Cp']:.4f}, LOO-CV: {best_bic['LOO-CV']:.4f}\")\n",
        "    print(\"-\" * 60)\n",
        "\n",
        "    print(f\"  3. Best Model by Cp:\")\n",
        "    print(f\"     Predictors: {', '.join(best_cp['Subset'])}\")\n",
        "    print(f\"     Cp: {best_cp['Cp']:.4f}, MSE: {best_cp['MSE']:.4f}, AIC: {best_cp['AIC']:.4f}, LOO-CV: {best_cp['LOO-CV']:.4f}\")\n",
        "    print(\"-\" * 60)\n",
        "\n",
        "    print(f\"  4. Best Model by LOO-CV:\")\n",
        "    print(f\"     Predictors: {', '.join(best_loo_cv['Subset'])}\")\n",
        "    print(f\"     LOO-CV: {best_loo_cv['LOO-CV']:.4f}, MSE: {best_loo_cv['MSE']:.4f}, AIC: {best_loo_cv['AIC']:.4f}, Cp: {best_loo_cv['Cp']:.4f}\")\n",
        "    print(\"-\" * 60)"
      ],
      "metadata": {
        "id": "kwkBHo90SLN4"
      },
      "id": "kwkBHo90SLN4",
      "execution_count": 50,
      "outputs": []
    },
    {
      "cell_type": "code",
      "source": [
        "predictors = ['infant_deaths', 'BMI', 'Status_binary', 'Alcohol', 'Diphtheria',\n",
        "              'HIV', 'Schooling', 'under_five_deaths', 'Income_composition_of_resources']\n",
        "response = 'Life_expectancy'\n",
        "\n",
        "# Run the evaluation\n",
        "results_df = evaluate_all_models(life_expectancy_df, predictors, response)\n",
        "\n",
        "# Find models with the lowest metrics\n",
        "best_aic = results_df.loc[results_df['AIC'].idxmin()]\n",
        "best_bic = results_df.loc[results_df['BIC'].idxmin()]\n",
        "best_cp = results_df.loc[results_df['Cp'].idxmin()]\n",
        "best_loo_cv = results_df.loc[results_df['LOO-CV'].idxmin()]"
      ],
      "metadata": {
        "id": "4x3_7q50R0Zp"
      },
      "id": "4x3_7q50R0Zp",
      "execution_count": 51,
      "outputs": []
    },
    {
      "cell_type": "code",
      "source": [
        "print_best_models(best_aic, best_bic, best_cp, best_loo_cv)"
      ],
      "metadata": {
        "colab": {
          "base_uri": "https://localhost:8080/"
        },
        "id": "zcQWPhhyR2Qp",
        "outputId": "bf480549-2d63-4a01-d107-1238f0a65a04"
      },
      "id": "zcQWPhhyR2Qp",
      "execution_count": 52,
      "outputs": [
        {
          "output_type": "stream",
          "name": "stdout",
          "text": [
            "\n",
            "Best Models:\n",
            "\n",
            "  1. Best Model by AIC:\n",
            "     Predictors: infant_deaths, BMI, Status_binary, Alcohol, Diphtheria, HIV, Schooling, under_five_deaths, Income_composition_of_resources\n",
            "     AIC: 9260.3692, MSE: 15.9878, Cp: 10.0000, LOO-CV: 16.1503\n",
            "------------------------------------------------------------\n",
            "  2. Best Model by BIC:\n",
            "     Predictors: infant_deaths, BMI, Status_binary, Alcohol, Diphtheria, HIV, Schooling, under_five_deaths, Income_composition_of_resources\n",
            "     BIC: 9314.4485, MSE: 15.9878, Cp: 10.0000, LOO-CV: 16.1503\n",
            "------------------------------------------------------------\n",
            "  3. Best Model by Cp:\n",
            "     Predictors: infant_deaths, BMI, Status_binary, Alcohol, Diphtheria, HIV, Schooling, under_five_deaths, Income_composition_of_resources\n",
            "     Cp: 10.0000, MSE: 15.9878, AIC: 9260.3692, LOO-CV: 16.1503\n",
            "------------------------------------------------------------\n",
            "  4. Best Model by LOO-CV:\n",
            "     Predictors: infant_deaths, BMI, Status_binary, Alcohol, Diphtheria, HIV, Schooling, under_five_deaths, Income_composition_of_resources\n",
            "     LOO-CV: 16.1503, MSE: 15.9878, AIC: 9260.3692, Cp: 10.0000\n",
            "------------------------------------------------------------\n"
          ]
        }
      ]
    },
    {
      "cell_type": "markdown",
      "id": "wx2VOnOlmHoH",
      "metadata": {
        "id": "wx2VOnOlmHoH"
      },
      "source": [
        "#### 2.4"
      ]
    },
    {
      "cell_type": "code",
      "source": [
        "y = life_expectancy_df[response]\n",
        "Z = life_expectancy_df[predictors]\n",
        "Znormalized = (Z - Z.mean()) / Z.std()\n",
        "Znormalized['Intercept'] = 1"
      ],
      "metadata": {
        "id": "rOCVcAaSoXNy"
      },
      "id": "rOCVcAaSoXNy",
      "execution_count": 74,
      "outputs": []
    },
    {
      "cell_type": "code",
      "execution_count": 53,
      "id": "lKH9bragmLAx",
      "metadata": {
        "colab": {
          "base_uri": "https://localhost:8080/"
        },
        "id": "lKH9bragmLAx",
        "outputId": "0d08bff5-bc75-4b6d-8d21-0ac650d9f5f0"
      },
      "outputs": [
        {
          "output_type": "stream",
          "name": "stdout",
          "text": [
            "Top 4 predictors: ['Schooling', 'HIV', 'infant_deaths', 'under_five_deaths']\n",
            "Leave-one-out error: 19.4761\n"
          ]
        }
      ],
      "source": [
        "# Fit a Lasso model\n",
        "lasso_model = Lasso(alpha=0.01, fit_intercept=False, max_iter=1000)\n",
        "lasso_model.fit(Znormalized, y)\n",
        "\n",
        "# Top 4 predictors\n",
        "top_4_idx = np.argsort(np.abs(lasso_model.coef_[:-1]))[-4:]\n",
        "top_4_predictors = list(Z.columns[top_4_idx])\n",
        "print(f\"Top 4 predictors: {top_4_predictors}\")\n",
        "\n",
        "# Calc LOO-CV error\n",
        "loo_cv_error = leave_one_out_error(life_expectancy_df, top_4_predictors, response)\n",
        "print(f\"Leave-one-out error: {loo_cv_error:.4f}\")"
      ]
    },
    {
      "cell_type": "markdown",
      "id": "2e84c293",
      "metadata": {
        "id": "2e84c293"
      },
      "source": [
        "## Problem 3 - (Selecting Order of Regression using Cross-Validation)\n",
        "\n",
        "Consider the dataset ``AnneFrank.csv``, describing the number of searches of the term \"Anne Frank\" by hour over several days in February 2022. The cell below contains code you should use to arrange the data by hours."
      ]
    },
    {
      "cell_type": "code",
      "execution_count": 54,
      "id": "a42fe817",
      "metadata": {
        "colab": {
          "base_uri": "https://localhost:8080/",
          "height": 466
        },
        "id": "a42fe817",
        "outputId": "694b3f9b-0e50-4639-8455-c4526aacb178"
      },
      "outputs": [
        {
          "output_type": "execute_result",
          "data": {
            "text/plain": [
              "<Axes: xlabel='time'>"
            ]
          },
          "metadata": {},
          "execution_count": 54
        },
        {
          "output_type": "display_data",
          "data": {
            "text/plain": [
              "<Figure size 640x480 with 1 Axes>"
            ],
            "image/png": "[encoded data removed]"
          },
          "metadata": {}
        }
      ],
      "source": [
        "path = \"AnneFrank.csv\"\n",
        "AnneFrank = pd.read_csv(path, header=1, names=['time', 'events'])\n",
        "AnneFrank['date'] = pd.to_datetime(AnneFrank.time)\n",
        "AnneFrank['time'] = AnneFrank['date'].astype(int) / 3600000000000\n",
        "AnneFrank['time'] = AnneFrank['time'] - AnneFrank['time'].min()\n",
        "AnneFrank.plot(x='time', y='events')"
      ]
    },
    {
      "cell_type": "code",
      "execution_count": 55,
      "id": "btyBLMXNuVq7",
      "metadata": {
        "colab": {
          "base_uri": "https://localhost:8080/",
          "height": 423
        },
        "id": "btyBLMXNuVq7",
        "outputId": "df121258-4187-44f9-b825-f245f7578318"
      },
      "outputs": [
        {
          "output_type": "execute_result",
          "data": {
            "text/plain": [
              "      time  events                date\n",
              "0      0.0      83 2022-02-14 09:00:00\n",
              "1      1.0      66 2022-02-14 10:00:00\n",
              "2      2.0      49 2022-02-14 11:00:00\n",
              "3      3.0      38 2022-02-14 12:00:00\n",
              "4      4.0      33 2022-02-14 13:00:00\n",
              "..     ...     ...                 ...\n",
              "163  163.0      78 2022-02-21 04:00:00\n",
              "164  164.0      72 2022-02-21 05:00:00\n",
              "165  165.0      69 2022-02-21 06:00:00\n",
              "166  166.0      80 2022-02-21 07:00:00\n",
              "167  167.0      69 2022-02-21 08:00:00\n",
              "\n",
              "[168 rows x 3 columns]"
            ],
            "text/html": [
              "\n",
              "  <div id=\"df-455a14e1-8abd-478a-a86c-cb2b077d7175\" class=\"colab-df-container\">\n",
              "    <div>\n",
              "<style scoped>\n",
              "    .dataframe tbody tr th:only-of-type {\n",
              "        vertical-align: middle;\n",
              "    }\n",
              "\n",
              "    .dataframe tbody tr th {\n",
              "        vertical-align: top;\n",
              "    }\n",
              "\n",
              "    .dataframe thead th {\n",
              "        text-align: right;\n",
              "    }\n",
              "</style>\n",
              "<table border=\"1\" class=\"dataframe\">\n",
              "  <thead>\n",
              "    <tr style=\"text-align: right;\">\n",
              "      <th></th>\n",
              "      <th>time</th>\n",
              "      <th>events</th>\n",
              "      <th>date</th>\n",
              "    </tr>\n",
              "  </thead>\n",
              "  <tbody>\n",
              "    <tr>\n",
              "      <th>0</th>\n",
              "      <td>0.0</td>\n",
              "      <td>83</td>\n",
              "      <td>2022-02-14 09:00:00</td>\n",
              "    </tr>\n",
              "    <tr>\n",
              "      <th>1</th>\n",
              "      <td>1.0</td>\n",
              "      <td>66</td>\n",
              "      <td>2022-02-14 10:00:00</td>\n",
              "    </tr>\n",
              "    <tr>\n",
              "      <th>2</th>\n",
              "      <td>2.0</td>\n",
              "      <td>49</td>\n",
              "      <td>2022-02-14 11:00:00</td>\n",
              "    </tr>\n",
              "    <tr>\n",
              "      <th>3</th>\n",
              "      <td>3.0</td>\n",
              "      <td>38</td>\n",
              "      <td>2022-02-14 12:00:00</td>\n",
              "    </tr>\n",
              "    <tr>\n",
              "      <th>4</th>\n",
              "      <td>4.0</td>\n",
              "      <td>33</td>\n",
              "      <td>2022-02-14 13:00:00</td>\n",
              "    </tr>\n",
              "    <tr>\n",
              "      <th>...</th>\n",
              "      <td>...</td>\n",
              "      <td>...</td>\n",
              "      <td>...</td>\n",
              "    </tr>\n",
              "    <tr>\n",
              "      <th>163</th>\n",
              "      <td>163.0</td>\n",
              "      <td>78</td>\n",
              "      <td>2022-02-21 04:00:00</td>\n",
              "    </tr>\n",
              "    <tr>\n",
              "      <th>164</th>\n",
              "      <td>164.0</td>\n",
              "      <td>72</td>\n",
              "      <td>2022-02-21 05:00:00</td>\n",
              "    </tr>\n",
              "    <tr>\n",
              "      <th>165</th>\n",
              "      <td>165.0</td>\n",
              "      <td>69</td>\n",
              "      <td>2022-02-21 06:00:00</td>\n",
              "    </tr>\n",
              "    <tr>\n",
              "      <th>166</th>\n",
              "      <td>166.0</td>\n",
              "      <td>80</td>\n",
              "      <td>2022-02-21 07:00:00</td>\n",
              "    </tr>\n",
              "    <tr>\n",
              "      <th>167</th>\n",
              "      <td>167.0</td>\n",
              "      <td>69</td>\n",
              "      <td>2022-02-21 08:00:00</td>\n",
              "    </tr>\n",
              "  </tbody>\n",
              "</table>\n",
              "<p>168 rows × 3 columns</p>\n",
              "</div>\n",
              "    <div class=\"colab-df-buttons\">\n",
              "\n",
              "  <div class=\"colab-df-container\">\n",
              "    <button class=\"colab-df-convert\" onclick=\"convertToInteractive('df-455a14e1-8abd-478a-a86c-cb2b077d7175')\"\n",
              "            title=\"Convert this dataframe to an interactive table.\"\n",
              "            style=\"display:none;\">\n",
              "\n",
              "  <svg xmlns=\"http://www.w3.org/2000/svg\" height=\"24px\" viewBox=\"0 -960 960 960\">\n",
              "    <path d=\"M120-120v-720h720v720H120Zm60-500h600v-160H180v160Zm220 220h160v-160H400v160Zm0 220h160v-160H400v160ZM180-400h160v-160H180v160Zm440 0h160v-160H620v160ZM180-180h160v-160H180v160Zm440 0h160v-160H620v160Z\"/>\n",
              "  </svg>\n",
              "    </button>\n",
              "\n",
              "  <style>\n",
              "    .colab-df-container {\n",
              "      display:flex;\n",
              "      gap: 12px;\n",
              "    }\n",
              "\n",
              "    .colab-df-convert {\n",
              "      background-color: #E8F0FE;\n",
              "      border: none;\n",
              "      border-radius: 50%;\n",
              "      cursor: pointer;\n",
              "      display: none;\n",
              "      fill: #1967D2;\n",
              "      height: 32px;\n",
              "      padding: 0 0 0 0;\n",
              "      width: 32px;\n",
              "    }\n",
              "\n",
              "    .colab-df-convert:hover {\n",
              "      background-color: #E2EBFA;\n",
              "      box-shadow: 0px 1px 2px rgba(60, 64, 67, 0.3), 0px 1px 3px 1px rgba(60, 64, 67, 0.15);\n",
              "      fill: #174EA6;\n",
              "    }\n",
              "\n",
              "    .colab-df-buttons div {\n",
              "      margin-bottom: 4px;\n",
              "    }\n",
              "\n",
              "    [theme=dark] .colab-df-convert {\n",
              "      background-color: #3B4455;\n",
              "      fill: #D2E3FC;\n",
              "    }\n",
              "\n",
              "    [theme=dark] .colab-df-convert:hover {\n",
              "      background-color: #434B5C;\n",
              "      box-shadow: 0px 1px 3px 1px rgba(0, 0, 0, 0.15);\n",
              "      filter: drop-shadow(0px 1px 2px rgba(0, 0, 0, 0.3));\n",
              "      fill: #FFFFFF;\n",
              "    }\n",
              "  </style>\n",
              "\n",
              "    <script>\n",
              "      const buttonEl =\n",
              "        document.querySelector('#df-455a14e1-8abd-478a-a86c-cb2b077d7175 button.colab-df-convert');\n",
              "      buttonEl.style.display =\n",
              "        google.colab.kernel.accessAllowed ? 'block' : 'none';\n",
              "\n",
              "      async function convertToInteractive(key) {\n",
              "        const element = document.querySelector('#df-455a14e1-8abd-478a-a86c-cb2b077d7175');\n",
              "        const dataTable =\n",
              "          await google.colab.kernel.invokeFunction('convertToInteractive',\n",
              "                                                    [key], {});\n",
              "        if (!dataTable) return;\n",
              "\n",
              "        const docLinkHtml = 'Like what you see? Visit the ' +\n",
              "          '<a target=\"_blank\" href=https://colab.research.google.com/notebooks/data_table.ipynb>data table notebook</a>'\n",
              "          + ' to learn more about interactive tables.';\n",
              "        element.innerHTML = '';\n",
              "        dataTable['output_type'] = 'display_data';\n",
              "        await google.colab.output.renderOutput(dataTable, element);\n",
              "        const docLink = document.createElement('div');\n",
              "        docLink.innerHTML = docLinkHtml;\n",
              "        element.appendChild(docLink);\n",
              "      }\n",
              "    </script>\n",
              "  </div>\n",
              "\n",
              "\n",
              "<div id=\"df-2bcccd96-62b3-4502-acb9-f65c0ae12bfe\">\n",
              "  <button class=\"colab-df-quickchart\" onclick=\"quickchart('df-2bcccd96-62b3-4502-acb9-f65c0ae12bfe')\"\n",
              "            title=\"Suggest charts\"\n",
              "            style=\"display:none;\">\n",
              "\n",
              "<svg xmlns=\"http://www.w3.org/2000/svg\" height=\"24px\"viewBox=\"0 0 24 24\"\n",
              "     width=\"24px\">\n",
              "    <g>\n",
              "        <path d=\"M19 3H5c-1.1 0-2 .9-2 2v14c0 1.1.9 2 2 2h14c1.1 0 2-.9 2-2V5c0-1.1-.9-2-2-2zM9 17H7v-7h2v7zm4 0h-2V7h2v10zm4 0h-2v-4h2v4z\"/>\n",
              "    </g>\n",
              "</svg>\n",
              "  </button>\n",
              "\n",
              "<style>\n",
              "  .colab-df-quickchart {\n",
              "      --bg-color: #E8F0FE;\n",
              "      --fill-color: #1967D2;\n",
              "      --hover-bg-color: #E2EBFA;\n",
              "      --hover-fill-color: #174EA6;\n",
              "      --disabled-fill-color: #AAA;\n",
              "      --disabled-bg-color: #DDD;\n",
              "  }\n",
              "\n",
              "  [theme=dark] .colab-df-quickchart {\n",
              "      --bg-color: #3B4455;\n",
              "      --fill-color: #D2E3FC;\n",
              "      --hover-bg-color: #434B5C;\n",
              "      --hover-fill-color: #FFFFFF;\n",
              "      --disabled-bg-color: #3B4455;\n",
              "      --disabled-fill-color: #666;\n",
              "  }\n",
              "\n",
              "  .colab-df-quickchart {\n",
              "    background-color: var(--bg-color);\n",
              "    border: none;\n",
              "    border-radius: 50%;\n",
              "    cursor: pointer;\n",
              "    display: none;\n",
              "    fill: var(--fill-color);\n",
              "    height: 32px;\n",
              "    padding: 0;\n",
              "    width: 32px;\n",
              "  }\n",
              "\n",
              "  .colab-df-quickchart:hover {\n",
              "    background-color: var(--hover-bg-color);\n",
              "    box-shadow: 0 1px 2px rgba(60, 64, 67, 0.3), 0 1px 3px 1px rgba(60, 64, 67, 0.15);\n",
              "    fill: var(--button-hover-fill-color);\n",
              "  }\n",
              "\n",
              "  .colab-df-quickchart-complete:disabled,\n",
              "  .colab-df-quickchart-complete:disabled:hover {\n",
              "    background-color: var(--disabled-bg-color);\n",
              "    fill: var(--disabled-fill-color);\n",
              "    box-shadow: none;\n",
              "  }\n",
              "\n",
              "  .colab-df-spinner {\n",
              "    border: 2px solid var(--fill-color);\n",
              "    border-color: transparent;\n",
              "    border-bottom-color: var(--fill-color);\n",
              "    animation:\n",
              "      spin 1s steps(1) infinite;\n",
              "  }\n",
              "\n",
              "  @keyframes spin {\n",
              "    0% {\n",
              "      border-color: transparent;\n",
              "      border-bottom-color: var(--fill-color);\n",
              "      border-left-color: var(--fill-color);\n",
              "    }\n",
              "    20% {\n",
              "      border-color: transparent;\n",
              "      border-left-color: var(--fill-color);\n",
              "      border-top-color: var(--fill-color);\n",
              "    }\n",
              "    30% {\n",
              "      border-color: transparent;\n",
              "      border-left-color: var(--fill-color);\n",
              "      border-top-color: var(--fill-color);\n",
              "      border-right-color: var(--fill-color);\n",
              "    }\n",
              "    40% {\n",
              "      border-color: transparent;\n",
              "      border-right-color: var(--fill-color);\n",
              "      border-top-color: var(--fill-color);\n",
              "    }\n",
              "    60% {\n",
              "      border-color: transparent;\n",
              "      border-right-color: var(--fill-color);\n",
              "    }\n",
              "    80% {\n",
              "      border-color: transparent;\n",
              "      border-right-color: var(--fill-color);\n",
              "      border-bottom-color: var(--fill-color);\n",
              "    }\n",
              "    90% {\n",
              "      border-color: transparent;\n",
              "      border-bottom-color: var(--fill-color);\n",
              "    }\n",
              "  }\n",
              "</style>\n",
              "\n",
              "  <script>\n",
              "    async function quickchart(key) {\n",
              "      const quickchartButtonEl =\n",
              "        document.querySelector('#' + key + ' button');\n",
              "      quickchartButtonEl.disabled = true;  // To prevent multiple clicks.\n",
              "      quickchartButtonEl.classList.add('colab-df-spinner');\n",
              "      try {\n",
              "        const charts = await google.colab.kernel.invokeFunction(\n",
              "            'suggestCharts', [key], {});\n",
              "      } catch (error) {\n",
              "        console.error('Error during call to suggestCharts:', error);\n",
              "      }\n",
              "      quickchartButtonEl.classList.remove('colab-df-spinner');\n",
              "      quickchartButtonEl.classList.add('colab-df-quickchart-complete');\n",
              "    }\n",
              "    (() => {\n",
              "      let quickchartButtonEl =\n",
              "        document.querySelector('#df-2bcccd96-62b3-4502-acb9-f65c0ae12bfe button');\n",
              "      quickchartButtonEl.style.display =\n",
              "        google.colab.kernel.accessAllowed ? 'block' : 'none';\n",
              "    })();\n",
              "  </script>\n",
              "</div>\n",
              "\n",
              "  <div id=\"id_a7aaecd1-81f1-44bc-ab2b-135b2813afad\">\n",
              "    <style>\n",
              "      .colab-df-generate {\n",
              "        background-color: #E8F0FE;\n",
              "        border: none;\n",
              "        border-radius: 50%;\n",
              "        cursor: pointer;\n",
              "        display: none;\n",
              "        fill: #1967D2;\n",
              "        height: 32px;\n",
              "        padding: 0 0 0 0;\n",
              "        width: 32px;\n",
              "      }\n",
              "\n",
              "      .colab-df-generate:hover {\n",
              "        background-color: #E2EBFA;\n",
              "        box-shadow: 0px 1px 2px rgba(60, 64, 67, 0.3), 0px 1px 3px 1px rgba(60, 64, 67, 0.15);\n",
              "        fill: #174EA6;\n",
              "      }\n",
              "\n",
              "      [theme=dark] .colab-df-generate {\n",
              "        background-color: #3B4455;\n",
              "        fill: #D2E3FC;\n",
              "      }\n",
              "\n",
              "      [theme=dark] .colab-df-generate:hover {\n",
              "        background-color: #434B5C;\n",
              "        box-shadow: 0px 1px 3px 1px rgba(0, 0, 0, 0.15);\n",
              "        filter: drop-shadow(0px 1px 2px rgba(0, 0, 0, 0.3));\n",
              "        fill: #FFFFFF;\n",
              "      }\n",
              "    </style>\n",
              "    <button class=\"colab-df-generate\" onclick=\"generateWithVariable('AnneFrank')\"\n",
              "            title=\"Generate code using this dataframe.\"\n",
              "            style=\"display:none;\">\n",
              "\n",
              "  <svg xmlns=\"http://www.w3.org/2000/svg\" height=\"24px\"viewBox=\"0 0 24 24\"\n",
              "       width=\"24px\">\n",
              "    <path d=\"M7,19H8.4L18.45,9,17,7.55,7,17.6ZM5,21V16.75L18.45,3.32a2,2,0,0,1,2.83,0l1.4,1.43a1.91,1.91,0,0,1,.58,1.4,1.91,1.91,0,0,1-.58,1.4L9.25,21ZM18.45,9,17,7.55Zm-12,3A5.31,5.31,0,0,0,4.9,8.1,5.31,5.31,0,0,0,1,6.5,5.31,5.31,0,0,0,4.9,4.9,5.31,5.31,0,0,0,6.5,1,5.31,5.31,0,0,0,8.1,4.9,5.31,5.31,0,0,0,12,6.5,5.46,5.46,0,0,0,6.5,12Z\"/>\n",
              "  </svg>\n",
              "    </button>\n",
              "    <script>\n",
              "      (() => {\n",
              "      const buttonEl =\n",
              "        document.querySelector('#id_a7aaecd1-81f1-44bc-ab2b-135b2813afad button.colab-df-generate');\n",
              "      buttonEl.style.display =\n",
              "        google.colab.kernel.accessAllowed ? 'block' : 'none';\n",
              "\n",
              "      buttonEl.onclick = () => {\n",
              "        google.colab.notebook.generateWithVariable('AnneFrank');\n",
              "      }\n",
              "      })();\n",
              "    </script>\n",
              "  </div>\n",
              "\n",
              "    </div>\n",
              "  </div>\n"
            ],
            "application/vnd.google.colaboratory.intrinsic+json": {
              "type": "dataframe",
              "variable_name": "AnneFrank",
              "summary": "{\n  \"name\": \"AnneFrank\",\n  \"rows\": 168,\n  \"fields\": [\n    {\n      \"column\": \"time\",\n      \"properties\": {\n        \"dtype\": \"number\",\n        \"std\": 48.641546028061235,\n        \"min\": 0.0,\n        \"max\": 167.0,\n        \"num_unique_values\": 168,\n        \"samples\": [\n          137.0,\n          30.0,\n          119.0\n        ],\n        \"semantic_type\": \"\",\n        \"description\": \"\"\n      }\n    },\n    {\n      \"column\": \"events\",\n      \"properties\": {\n        \"dtype\": \"number\",\n        \"std\": 16,\n        \"min\": 20,\n        \"max\": 100,\n        \"num_unique_values\": 62,\n        \"samples\": [\n          22,\n          21,\n          83\n        ],\n        \"semantic_type\": \"\",\n        \"description\": \"\"\n      }\n    },\n    {\n      \"column\": \"date\",\n      \"properties\": {\n        \"dtype\": \"date\",\n        \"min\": \"2022-02-14 09:00:00\",\n        \"max\": \"2022-02-21 08:00:00\",\n        \"num_unique_values\": 168,\n        \"samples\": [\n          \"2022-02-20 02:00:00\",\n          \"2022-02-15 15:00:00\",\n          \"2022-02-19 08:00:00\"\n        ],\n        \"semantic_type\": \"\",\n        \"description\": \"\"\n      }\n    }\n  ]\n}"
            }
          },
          "metadata": {},
          "execution_count": 55
        }
      ],
      "source": [
        "AnneFrank"
      ]
    },
    {
      "cell_type": "code",
      "execution_count": 56,
      "id": "76NnP_8EuYh_",
      "metadata": {
        "colab": {
          "base_uri": "https://localhost:8080/"
        },
        "id": "76NnP_8EuYh_",
        "outputId": "6ab336c5-222c-4feb-ca69-5e8ff1bebff4"
      },
      "outputs": [
        {
          "output_type": "stream",
          "name": "stdout",
          "text": [
            "<class 'pandas.core.frame.DataFrame'>\n",
            "RangeIndex: 168 entries, 0 to 167\n",
            "Data columns (total 3 columns):\n",
            " #   Column  Non-Null Count  Dtype         \n",
            "---  ------  --------------  -----         \n",
            " 0   time    168 non-null    float64       \n",
            " 1   events  168 non-null    int64         \n",
            " 2   date    168 non-null    datetime64[ns]\n",
            "dtypes: datetime64[ns](1), float64(1), int64(1)\n",
            "memory usage: 4.1 KB\n"
          ]
        }
      ],
      "source": [
        "AnneFrank.info()"
      ]
    },
    {
      "cell_type": "markdown",
      "id": "b024500f",
      "metadata": {
        "id": "b024500f"
      },
      "source": [
        "In this question you will fit a model to the response based on $2p+1$ predictors of the form:\n",
        "$$\n",
        "\\begin{align}\n",
        "x_1 = [1,~\\ldots~,1]\n",
        "\\end{align}\n",
        "$$\n",
        "$$\n",
        "\\begin{align}\n",
        "x_{2k} & = \\sin(2 \\pi \\cdot k \\cdot t / 48) \\\\\n",
        "x_{2k+1} & = \\cos(2 \\pi \\cdot k \\cdot t / 48), \\qquad k=1,\\ldots,p\n",
        "\\end{align}\n",
        "$$\n",
        "You will then use the selected model to predict the number of events in future times.\n",
        "\n",
        "1. Write a function ``generate_Z`` that recieves as inputs a vector of time indices (representing hours) ``t`` and ``p``. The function returns the design matrix $Z$ of size $n \\times (2p+1)$, where $n$ is the length of ``t``.\n",
        "2. For each $p=1,\\ldots,30$, fit a linear model to ``events`` based on $Z$ you obtain from ``generate_Z`` and evalaute its leave-one-out CV error. Plot the CV error versus $p$.\n",
        "3. Report on the model with the lowest CV error; plot its response over time along with the original response in the figure above.\n",
        "4. Using the model you found in 3, predict the number of event at times $t=168.\\ldots,190$. Plot your prediction over time in the same figure as above, i.e., interpolate the response curve to future value.\n",
        "5. For each $t$ in 4, construct a 0.95 prediction interval of your prediction of $y_t$, $t=168,\\ldots,190$. Plot the upper and lower limits of this interval over time (these lines define a prediction band). Is this prediction band reliable? what can go wrong?\n",
        "\n",
        "Hints: (2) In order to evalaute the CV error, you'll need the hat matrix (which you can get directly from Z) and the residuals in the LS fit (which you can get from the ``resid`` property of the fitted model object returned by ``statsmodels.api.OLS.fit``). (4) you can use the function ``predict`` of the fitted model object by passing new predictors that you generate using ``generate_Z``. For (5), $s^2$ is given by the property ``mse_resid`` (or ``ssr`` divided by the number of degrees of freedom). Also note that the number of degrees of freedom is $2p+1$ where $p$ is the number you found in 3."
      ]
    },
    {
      "cell_type": "markdown",
      "id": "ElLgzgM2w_oJ",
      "metadata": {
        "id": "ElLgzgM2w_oJ"
      },
      "source": [
        "#### 3.1"
      ]
    },
    {
      "cell_type": "code",
      "execution_count": 57,
      "id": "c555e89d",
      "metadata": {
        "id": "c555e89d"
      },
      "outputs": [],
      "source": [
        "def generate_Z(t, p):\n",
        "    \"\"\"\n",
        "    Args:\n",
        "    ----\n",
        "    t:   vector of time samples (length n)\n",
        "    p:   number of frequencies (overal 2p+1 predictors)\n",
        "\n",
        "    Returns:\n",
        "    --------\n",
        "    Z:  design matrix of size (n, 2p+1)\n",
        "    \"\"\"\n",
        "\n",
        "    n = len(t)\n",
        "    Z = np.ones((n, 2 * p + 1))\n",
        "\n",
        "    for k in range(1, p + 1):\n",
        "        Z[:, 2 * k - 1] = np.sin(2 * np.pi * k * t / 48)\n",
        "        Z[:, 2 * k] = np.cos(2 * np.pi * k * t / 48)\n",
        "\n",
        "    return Z"
      ]
    },
    {
      "cell_type": "markdown",
      "id": "OodGJjafxBE2",
      "metadata": {
        "id": "OodGJjafxBE2"
      },
      "source": [
        "#### 3.2"
      ]
    },
    {
      "cell_type": "code",
      "execution_count": 58,
      "id": "ojVQcxmWxChB",
      "metadata": {
        "id": "ojVQcxmWxChB"
      },
      "outputs": [],
      "source": [
        "# LOO-CV for p = 1 to 30\n",
        "loo_cv = []\n",
        "for p in range(1, 31):\n",
        "    Z = generate_Z(AnneFrank['time'], p)\n",
        "    cols = [f'x{i+1}' for i in range(Z.shape[1])]\n",
        "    Z_df = pd.DataFrame(Z, columns=cols)\n",
        "    Z_df[\"events\"] = AnneFrank[\"events\"]\n",
        "    loo_error = leave_one_out_error(Z_df, cols, \"events\")\n",
        "    loo_cv.append((p, loo_error))"
      ]
    },
    {
      "cell_type": "code",
      "execution_count": 59,
      "id": "BMx0Eu7zgyWk",
      "metadata": {
        "colab": {
          "base_uri": "https://localhost:8080/"
        },
        "id": "BMx0Eu7zgyWk",
        "outputId": "f573010e-46e9-4da4-9823-3013195e8917"
      },
      "outputs": [
        {
          "output_type": "execute_result",
          "data": {
            "text/plain": [
              "[(1, 292.9660285810772),\n",
              " (2, 155.96935265678127),\n",
              " (3, 159.90032579045635),\n",
              " (4, 71.66718830901925),\n",
              " (5, 73.45639898119764),\n",
              " (6, 71.01969361972264),\n",
              " (7, 72.10767995756238),\n",
              " (8, 68.44304817617788),\n",
              " (9, 69.50006641862798),\n",
              " (10, 70.3260016249097),\n",
              " (11, 72.09907845613043),\n",
              " (12, 73.14610959911408),\n",
              " (13, 75.06075719804022),\n",
              " (14, 76.72865385916239),\n",
              " (15, 78.7857313554122),\n",
              " (16, 80.84892637828452),\n",
              " (17, 83.19106355117302),\n",
              " (18, 85.89095223056299),\n",
              " (19, 88.43303727033933),\n",
              " (20, 91.10592132866618),\n",
              " (21, 94.077685027027),\n",
              " (22, 96.92809069977935),\n",
              " (23, 100.07818763154116),\n",
              " (24, 101.53586853266279),\n",
              " (25, 101.49329702333576),\n",
              " (26, 101.66624934345936),\n",
              " (27, 99.77914955165633),\n",
              " (28, 95.8010870045167),\n",
              " (29, 90.7077031979549),\n",
              " (30, 112.18954812338762)]"
            ]
          },
          "metadata": {},
          "execution_count": 59
        }
      ],
      "source": [
        "loo_cv"
      ]
    },
    {
      "cell_type": "code",
      "execution_count": 60,
      "id": "nBcDGHRlxD2K",
      "metadata": {
        "colab": {
          "base_uri": "https://localhost:8080/",
          "height": 564
        },
        "id": "nBcDGHRlxD2K",
        "outputId": "9f8eb5de-7749-4fbc-9028-f1ee070638ff"
      },
      "outputs": [
        {
          "output_type": "display_data",
          "data": {
            "text/plain": [
              "<Figure size 1000x600 with 1 Axes>"
            ],
            "image/png": "[encoded data removed]"
          },
          "metadata": {}
        }
      ],
      "source": [
        "loo_cv_scores_df = pd.DataFrame(loo_cv, columns=['p', 'loo_cv'])\n",
        "plt.figure(figsize=(10, 6))\n",
        "plt.plot(loo_cv_scores_df['p'], loo_cv_scores_df['loo_cv'], marker='*', linestyle='--',color='c')\n",
        "plt.xlabel('p (Number of Harmonics)')\n",
        "plt.ylabel('LOO-CV Error')\n",
        "plt.title('LOO-CV Error vs. Number of Harmonics (p)')\n",
        "plt.grid(color = 'lightgray', linestyle = '-', linewidth = 0.3)\n",
        "plt.show()"
      ]
    },
    {
      "cell_type": "markdown",
      "id": "JoCvKsRT2g13",
      "metadata": {
        "id": "JoCvKsRT2g13"
      },
      "source": [
        "#### 3.3"
      ]
    },
    {
      "cell_type": "code",
      "execution_count": 61,
      "id": "W0tyIVEj2jpi",
      "metadata": {
        "id": "W0tyIVEj2jpi"
      },
      "outputs": [],
      "source": [
        "# find the model with the lowest CV error\n",
        "loo_cv_scores_df = pd.DataFrame(loo_cv, columns=['p', 'loo_cv'])\n",
        "loo_cv_scores_df.sort_values(by='loo_cv', ascending=True).head(1)\n",
        "best_p = loo_cv_scores_df.loc[loo_cv_scores_df['loo_cv'].idxmin(), 'p']"
      ]
    },
    {
      "cell_type": "code",
      "execution_count": 62,
      "id": "CPANSKOihZ4w",
      "metadata": {
        "colab": {
          "base_uri": "https://localhost:8080/"
        },
        "id": "CPANSKOihZ4w",
        "outputId": "65655d6f-812d-40f3-9e18-a3980d6999be"
      },
      "outputs": [
        {
          "output_type": "stream",
          "name": "stdout",
          "text": [
            "The model with the lowest CV error has p = 8.\n"
          ]
        }
      ],
      "source": [
        "print(f\"The model with the lowest CV error has p = {best_p}.\")"
      ]
    },
    {
      "cell_type": "code",
      "execution_count": 63,
      "id": "fw3wPqvB3LG0",
      "metadata": {
        "colab": {
          "base_uri": "https://localhost:8080/",
          "height": 564
        },
        "id": "fw3wPqvB3LG0",
        "outputId": "9902bb87-fb97-4ceb-be51-115205d2ce8a"
      },
      "outputs": [
        {
          "output_type": "display_data",
          "data": {
            "text/plain": [
              "<Figure size 1000x600 with 1 Axes>"
            ],
            "image/png": "[encoded data removed]"
          },
          "metadata": {}
        }
      ],
      "source": [
        "# plot the response for the best model\n",
        "t = AnneFrank['time']\n",
        "Z_best = generate_Z(t, int(best_p))\n",
        "model = sm.OLS(AnneFrank['events'], Z_best).fit()\n",
        "predicted_events = model.predict(Z_best)\n",
        "plt.figure(figsize=(10, 6))\n",
        "plt.plot(t, AnneFrank['events'], label='Original Response', marker='*', linestyle='--', color='lightblue')\n",
        "plt.plot(t, predicted_events, label=f'Best Model Prediction (p={int(best_p)})', marker='x', color='hotpink')\n",
        "plt.xlabel('Time')\n",
        "plt.ylabel('Events')\n",
        "plt.title('Original Response vs. Best Model Prediction')\n",
        "plt.legend(loc='best')\n",
        "plt.grid(color = 'lightgray', linestyle = '-', linewidth = 0.3)\n",
        "plt.show()"
      ]
    },
    {
      "cell_type": "markdown",
      "id": "DrjgU6j16BbZ",
      "metadata": {
        "id": "DrjgU6j16BbZ"
      },
      "source": [
        "#### 3.4"
      ]
    },
    {
      "cell_type": "code",
      "execution_count": 64,
      "id": "k_fiwDfR6B0G",
      "metadata": {
        "colab": {
          "base_uri": "https://localhost:8080/",
          "height": 564
        },
        "id": "k_fiwDfR6B0G",
        "outputId": "f383b814-b989-4ce2-f950-0fc1970cef53"
      },
      "outputs": [
        {
          "output_type": "display_data",
          "data": {
            "text/plain": [
              "<Figure size 1000x600 with 1 Axes>"
            ],
            "image/png": "[encoded data removed]"
          },
          "metadata": {}
        }
      ],
      "source": [
        "new_time = np.arange(168, 191)\n",
        "t = AnneFrank['time']\n",
        "Z_future = generate_Z(new_time, best_p)\n",
        "y_hat_new = model.predict(Z_future) # pred future events\n",
        "plt.figure(figsize=(10, 6))\n",
        "plt.plot(t, AnneFrank['events'], label='Original Events', marker='*', linestyle='--', color='lightblue')\n",
        "plt.plot(t, predicted_events, label='Model Fit', linestyle='-', color='hotpink')\n",
        "plt.plot(new_time, y_hat_new, label='Future Predictions', linestyle='-',color='orange')\n",
        "plt.xlabel('Time')\n",
        "plt.ylabel('Events')\n",
        "plt.title('Original Events, Model Fit, and Future Predictions')\n",
        "plt.legend()\n",
        "plt.grid(color = 'lightgray', linestyle = '-', linewidth = 0.3)\n",
        "plt.show()"
      ]
    },
    {
      "cell_type": "markdown",
      "id": "fujXUhOE7ir0",
      "metadata": {
        "id": "fujXUhOE7ir0"
      },
      "source": [
        "#### 3.5"
      ]
    },
    {
      "cell_type": "code",
      "execution_count": 65,
      "id": "tT_3UNnhkjLv",
      "metadata": {
        "id": "tT_3UNnhkjLv"
      },
      "outputs": [],
      "source": [
        "# prep for plot\n",
        "s2 = model.mse_resid\n",
        "n = len(AnneFrank['time'])\n",
        "t = scipy.stats.t.ppf(0.975, df=2*best_p+1)\n",
        "Z = generate_Z(AnneFrank['time'], best_p)\n",
        "y_hat = model.predict(Z)\n",
        "y_hat_new = model.predict(generate_Z(new_time, best_p))\n",
        "\n",
        "upper = y_hat_new + t * np.sqrt(s2 * (1 + 1/n + (new_time - AnneFrank['time'].mean())**2 / ((n-1) * AnneFrank['time'].var())))\n",
        "lower = y_hat_new - t * np.sqrt(s2 * (1 + 1/n + (new_time - AnneFrank['time'].mean())**2 / ((n-1) * AnneFrank['time'].var())))"
      ]
    },
    {
      "cell_type": "code",
      "execution_count": 66,
      "id": "Cpolxm6Q72_z",
      "metadata": {
        "colab": {
          "base_uri": "https://localhost:8080/",
          "height": 447
        },
        "id": "Cpolxm6Q72_z",
        "outputId": "0b128beb-2efa-4388-9888-f5e27612cc0f"
      },
      "outputs": [
        {
          "output_type": "execute_result",
          "data": {
            "text/plain": [
              "<matplotlib.legend.Legend at 0x7a928b57fa50>"
            ]
          },
          "metadata": {},
          "execution_count": 66
        },
        {
          "output_type": "display_data",
          "data": {
            "text/plain": [
              "<Figure size 640x480 with 1 Axes>"
            ],
            "image/png": "[encoded data removed]"
          },
          "metadata": {}
        }
      ],
      "source": [
        "plt.plot(AnneFrank['time'], AnneFrank['events'], label='events', color='lightblue')\n",
        "plt.plot(AnneFrank['time'], y_hat, label='pred',color='hotpink' )\n",
        "plt.plot(new_time, y_hat_new, label='pred',color='orange' )\n",
        "plt.plot(new_time, upper, label='upper', color='r', linestyle='--',)\n",
        "plt.plot(new_time, lower, label='lower', color = 'lightgreen',linestyle='--',)\n",
        "plt.grid(color = 'lightgray', linestyle = '-', linewidth = 0.3)\n",
        "plt.legend(loc=3)"
      ]
    },
    {
      "cell_type": "markdown",
      "id": "f77357cf",
      "metadata": {
        "id": "f77357cf"
      },
      "source": [
        "## Problem 4 (Violation of Assumptions)\n",
        "\n",
        "In this problem you work with the model you fitted in Problem 3 to the data ``AnneFrank``. Make sure you used ``statsmodels`` and printed the model diagnostic information, e.g. using ``model.summary()``\n",
        "1. What can you say about the assumption that the residuals follow a normal distribution? Which statistic provides relevant information?\n",
        "2. Plot the model residuals over time. Make a 1-lag residuals plot $\\hat{\\epsilon}_{i+1}$ vs. $\\hat{\\epsilon}_{i}$. Do the residual look dependent over time or not? Which statistic provide relevant information?\n",
        "3. A Fourier analysis reveals that there exist dominant periodic components of time period $20$ hours and $30$ hours in the residuals (you don't have to do the analysis). Argue that this is the case by regressing the residuals over the predictors $x_{1t} = \\cos(2\\pi t/20)$, $x_{2t} = \\sin(2\\pi t/20)$, $x_{3t} = \\cos(2\\pi t/30)$ and $x_{4t} = \\sin(2\\pi t/30)$, $t=1,\\ldots,167$. Indicate how you can deduce that the new model makes sense.\n",
        "4. What can you say about the 1-lag correlation of the residuals of the new model?\n"
      ]
    },
    {
      "cell_type": "markdown",
      "id": "PAIaEpOyDDTC",
      "metadata": {
        "id": "PAIaEpOyDDTC"
      },
      "source": [
        "### **Answer Q.4.**"
      ]
    },
    {
      "cell_type": "code",
      "execution_count": 67,
      "id": "oY7rHXa5DL16",
      "metadata": {
        "id": "oY7rHXa5DL16",
        "colab": {
          "base_uri": "https://localhost:8080/",
          "height": 768
        },
        "outputId": "9752a093-3fe2-4c43-8462-7c7aad10deb7"
      },
      "outputs": [
        {
          "output_type": "execute_result",
          "data": {
            "text/plain": [
              "<class 'statsmodels.iolib.summary.Summary'>\n",
              "\"\"\"\n",
              "                            OLS Regression Results                            \n",
              "==============================================================================\n",
              "Dep. Variable:                 events   R-squared:                       0.808\n",
              "Model:                            OLS   Adj. R-squared:                  0.788\n",
              "Method:                 Least Squares   F-statistic:                     39.82\n",
              "Date:                Mon, 27 Jan 2025   Prob (F-statistic):           6.06e-46\n",
              "Time:                        11:02:02   Log-Likelihood:                -574.77\n",
              "No. Observations:                 168   AIC:                             1184.\n",
              "Df Residuals:                     151   BIC:                             1237.\n",
              "Df Model:                          16                                         \n",
              "Covariance Type:            nonrobust                                         \n",
              "==============================================================================\n",
              "                 coef    std err          t      P>|t|      [0.025      0.975]\n",
              "------------------------------------------------------------------------------\n",
              "const         57.4733      0.609     94.426      0.000      56.271      58.676\n",
              "x1            -2.2939      0.861     -2.664      0.009      -3.995      -0.592\n",
              "x2             2.1491      0.860      2.498      0.014       0.449       3.849\n",
              "x3           -15.1803      0.861    -17.628      0.000     -16.882     -13.479\n",
              "x4             6.6888      0.860      7.775      0.000       4.989       8.389\n",
              "x5            -0.0428      0.861     -0.050      0.960      -1.744       1.659\n",
              "x6             0.9642      0.860      1.121      0.264      -0.736       2.664\n",
              "x7           -12.1765      0.861    -14.142      0.000     -13.878     -10.475\n",
              "x8             4.4746      0.860      5.202      0.000       2.775       6.174\n",
              "x9            -0.1944      0.861     -0.226      0.822      -1.896       1.507\n",
              "x10           -0.3186      0.860     -0.370      0.712      -2.018       1.381\n",
              "x11           -0.1140      0.861     -0.133      0.895      -1.815       1.586\n",
              "x12            2.8395      0.860      3.302      0.001       1.141       4.538\n",
              "x13           -0.9084      0.861     -1.056      0.293      -2.609       0.792\n",
              "x14           -0.6877      0.860     -0.800      0.425      -2.387       1.011\n",
              "x15            1.7811      0.857      2.078      0.039       0.087       3.475\n",
              "x16            2.4311      0.856      2.840      0.005       0.740       4.123\n",
              "==============================================================================\n",
              "Omnibus:                        2.459   Durbin-Watson:                   0.816\n",
              "Prob(Omnibus):                  0.293   Jarque-Bera (JB):                2.318\n",
              "Skew:                          -0.288   Prob(JB):                        0.314\n",
              "Kurtosis:                       2.978   Cond. No.                         1.54\n",
              "==============================================================================\n",
              "\n",
              "Notes:\n",
              "[1] Standard Errors assume that the covariance matrix of the errors is correctly specified.\n",
              "\"\"\""
            ],
            "text/html": [
              "<table class=\"simpletable\">\n",
              "<caption>OLS Regression Results</caption>\n",
              "<tr>\n",
              "  <th>Dep. Variable:</th>         <td>events</td>      <th>  R-squared:         </th> <td>   0.808</td>\n",
              "</tr>\n",
              "<tr>\n",
              "  <th>Model:</th>                   <td>OLS</td>       <th>  Adj. R-squared:    </th> <td>   0.788</td>\n",
              "</tr>\n",
              "<tr>\n",
              "  <th>Method:</th>             <td>Least Squares</td>  <th>  F-statistic:       </th> <td>   39.82</td>\n",
              "</tr>\n",
              "<tr>\n",
              "  <th>Date:</th>             <td>Mon, 27 Jan 2025</td> <th>  Prob (F-statistic):</th> <td>6.06e-46</td>\n",
              "</tr>\n",
              "<tr>\n",
              "  <th>Time:</th>                 <td>11:02:02</td>     <th>  Log-Likelihood:    </th> <td> -574.77</td>\n",
              "</tr>\n",
              "<tr>\n",
              "  <th>No. Observations:</th>      <td>   168</td>      <th>  AIC:               </th> <td>   1184.</td>\n",
              "</tr>\n",
              "<tr>\n",
              "  <th>Df Residuals:</th>          <td>   151</td>      <th>  BIC:               </th> <td>   1237.</td>\n",
              "</tr>\n",
              "<tr>\n",
              "  <th>Df Model:</th>              <td>    16</td>      <th>                     </th>     <td> </td>   \n",
              "</tr>\n",
              "<tr>\n",
              "  <th>Covariance Type:</th>      <td>nonrobust</td>    <th>                     </th>     <td> </td>   \n",
              "</tr>\n",
              "</table>\n",
              "<table class=\"simpletable\">\n",
              "<tr>\n",
              "    <td></td>       <th>coef</th>     <th>std err</th>      <th>t</th>      <th>P>|t|</th>  <th>[0.025</th>    <th>0.975]</th>  \n",
              "</tr>\n",
              "<tr>\n",
              "  <th>const</th> <td>   57.4733</td> <td>    0.609</td> <td>   94.426</td> <td> 0.000</td> <td>   56.271</td> <td>   58.676</td>\n",
              "</tr>\n",
              "<tr>\n",
              "  <th>x1</th>    <td>   -2.2939</td> <td>    0.861</td> <td>   -2.664</td> <td> 0.009</td> <td>   -3.995</td> <td>   -0.592</td>\n",
              "</tr>\n",
              "<tr>\n",
              "  <th>x2</th>    <td>    2.1491</td> <td>    0.860</td> <td>    2.498</td> <td> 0.014</td> <td>    0.449</td> <td>    3.849</td>\n",
              "</tr>\n",
              "<tr>\n",
              "  <th>x3</th>    <td>  -15.1803</td> <td>    0.861</td> <td>  -17.628</td> <td> 0.000</td> <td>  -16.882</td> <td>  -13.479</td>\n",
              "</tr>\n",
              "<tr>\n",
              "  <th>x4</th>    <td>    6.6888</td> <td>    0.860</td> <td>    7.775</td> <td> 0.000</td> <td>    4.989</td> <td>    8.389</td>\n",
              "</tr>\n",
              "<tr>\n",
              "  <th>x5</th>    <td>   -0.0428</td> <td>    0.861</td> <td>   -0.050</td> <td> 0.960</td> <td>   -1.744</td> <td>    1.659</td>\n",
              "</tr>\n",
              "<tr>\n",
              "  <th>x6</th>    <td>    0.9642</td> <td>    0.860</td> <td>    1.121</td> <td> 0.264</td> <td>   -0.736</td> <td>    2.664</td>\n",
              "</tr>\n",
              "<tr>\n",
              "  <th>x7</th>    <td>  -12.1765</td> <td>    0.861</td> <td>  -14.142</td> <td> 0.000</td> <td>  -13.878</td> <td>  -10.475</td>\n",
              "</tr>\n",
              "<tr>\n",
              "  <th>x8</th>    <td>    4.4746</td> <td>    0.860</td> <td>    5.202</td> <td> 0.000</td> <td>    2.775</td> <td>    6.174</td>\n",
              "</tr>\n",
              "<tr>\n",
              "  <th>x9</th>    <td>   -0.1944</td> <td>    0.861</td> <td>   -0.226</td> <td> 0.822</td> <td>   -1.896</td> <td>    1.507</td>\n",
              "</tr>\n",
              "<tr>\n",
              "  <th>x10</th>   <td>   -0.3186</td> <td>    0.860</td> <td>   -0.370</td> <td> 0.712</td> <td>   -2.018</td> <td>    1.381</td>\n",
              "</tr>\n",
              "<tr>\n",
              "  <th>x11</th>   <td>   -0.1140</td> <td>    0.861</td> <td>   -0.133</td> <td> 0.895</td> <td>   -1.815</td> <td>    1.586</td>\n",
              "</tr>\n",
              "<tr>\n",
              "  <th>x12</th>   <td>    2.8395</td> <td>    0.860</td> <td>    3.302</td> <td> 0.001</td> <td>    1.141</td> <td>    4.538</td>\n",
              "</tr>\n",
              "<tr>\n",
              "  <th>x13</th>   <td>   -0.9084</td> <td>    0.861</td> <td>   -1.056</td> <td> 0.293</td> <td>   -2.609</td> <td>    0.792</td>\n",
              "</tr>\n",
              "<tr>\n",
              "  <th>x14</th>   <td>   -0.6877</td> <td>    0.860</td> <td>   -0.800</td> <td> 0.425</td> <td>   -2.387</td> <td>    1.011</td>\n",
              "</tr>\n",
              "<tr>\n",
              "  <th>x15</th>   <td>    1.7811</td> <td>    0.857</td> <td>    2.078</td> <td> 0.039</td> <td>    0.087</td> <td>    3.475</td>\n",
              "</tr>\n",
              "<tr>\n",
              "  <th>x16</th>   <td>    2.4311</td> <td>    0.856</td> <td>    2.840</td> <td> 0.005</td> <td>    0.740</td> <td>    4.123</td>\n",
              "</tr>\n",
              "</table>\n",
              "<table class=\"simpletable\">\n",
              "<tr>\n",
              "  <th>Omnibus:</th>       <td> 2.459</td> <th>  Durbin-Watson:     </th> <td>   0.816</td>\n",
              "</tr>\n",
              "<tr>\n",
              "  <th>Prob(Omnibus):</th> <td> 0.293</td> <th>  Jarque-Bera (JB):  </th> <td>   2.318</td>\n",
              "</tr>\n",
              "<tr>\n",
              "  <th>Skew:</th>          <td>-0.288</td> <th>  Prob(JB):          </th> <td>   0.314</td>\n",
              "</tr>\n",
              "<tr>\n",
              "  <th>Kurtosis:</th>      <td> 2.978</td> <th>  Cond. No.          </th> <td>    1.54</td>\n",
              "</tr>\n",
              "</table><br/><br/>Notes:<br/>[1] Standard Errors assume that the covariance matrix of the errors is correctly specified."
            ],
            "text/latex": "\\begin{center}\n\\begin{tabular}{lclc}\n\\toprule\n\\textbf{Dep. Variable:}    &      events      & \\textbf{  R-squared:         } &     0.808   \\\\\n\\textbf{Model:}            &       OLS        & \\textbf{  Adj. R-squared:    } &     0.788   \\\\\n\\textbf{Method:}           &  Least Squares   & \\textbf{  F-statistic:       } &     39.82   \\\\\n\\textbf{Date:}             & Mon, 27 Jan 2025 & \\textbf{  Prob (F-statistic):} &  6.06e-46   \\\\\n\\textbf{Time:}             &     11:02:02     & \\textbf{  Log-Likelihood:    } &   -574.77   \\\\\n\\textbf{No. Observations:} &         168      & \\textbf{  AIC:               } &     1184.   \\\\\n\\textbf{Df Residuals:}     &         151      & \\textbf{  BIC:               } &     1237.   \\\\\n\\textbf{Df Model:}         &          16      & \\textbf{                     } &             \\\\\n\\textbf{Covariance Type:}  &    nonrobust     & \\textbf{                     } &             \\\\\n\\bottomrule\n\\end{tabular}\n\\begin{tabular}{lcccccc}\n               & \\textbf{coef} & \\textbf{std err} & \\textbf{t} & \\textbf{P$> |$t$|$} & \\textbf{[0.025} & \\textbf{0.975]}  \\\\\n\\midrule\n\\textbf{const} &      57.4733  &        0.609     &    94.426  &         0.000        &       56.271    &       58.676     \\\\\n\\textbf{x1}    &      -2.2939  &        0.861     &    -2.664  &         0.009        &       -3.995    &       -0.592     \\\\\n\\textbf{x2}    &       2.1491  &        0.860     &     2.498  &         0.014        &        0.449    &        3.849     \\\\\n\\textbf{x3}    &     -15.1803  &        0.861     &   -17.628  &         0.000        &      -16.882    &      -13.479     \\\\\n\\textbf{x4}    &       6.6888  &        0.860     &     7.775  &         0.000        &        4.989    &        8.389     \\\\\n\\textbf{x5}    &      -0.0428  &        0.861     &    -0.050  &         0.960        &       -1.744    &        1.659     \\\\\n\\textbf{x6}    &       0.9642  &        0.860     &     1.121  &         0.264        &       -0.736    &        2.664     \\\\\n\\textbf{x7}    &     -12.1765  &        0.861     &   -14.142  &         0.000        &      -13.878    &      -10.475     \\\\\n\\textbf{x8}    &       4.4746  &        0.860     &     5.202  &         0.000        &        2.775    &        6.174     \\\\\n\\textbf{x9}    &      -0.1944  &        0.861     &    -0.226  &         0.822        &       -1.896    &        1.507     \\\\\n\\textbf{x10}   &      -0.3186  &        0.860     &    -0.370  &         0.712        &       -2.018    &        1.381     \\\\\n\\textbf{x11}   &      -0.1140  &        0.861     &    -0.133  &         0.895        &       -1.815    &        1.586     \\\\\n\\textbf{x12}   &       2.8395  &        0.860     &     3.302  &         0.001        &        1.141    &        4.538     \\\\\n\\textbf{x13}   &      -0.9084  &        0.861     &    -1.056  &         0.293        &       -2.609    &        0.792     \\\\\n\\textbf{x14}   &      -0.6877  &        0.860     &    -0.800  &         0.425        &       -2.387    &        1.011     \\\\\n\\textbf{x15}   &       1.7811  &        0.857     &     2.078  &         0.039        &        0.087    &        3.475     \\\\\n\\textbf{x16}   &       2.4311  &        0.856     &     2.840  &         0.005        &        0.740    &        4.123     \\\\\n\\bottomrule\n\\end{tabular}\n\\begin{tabular}{lclc}\n\\textbf{Omnibus:}       &  2.459 & \\textbf{  Durbin-Watson:     } &    0.816  \\\\\n\\textbf{Prob(Omnibus):} &  0.293 & \\textbf{  Jarque-Bera (JB):  } &    2.318  \\\\\n\\textbf{Skew:}          & -0.288 & \\textbf{  Prob(JB):          } &    0.314  \\\\\n\\textbf{Kurtosis:}      &  2.978 & \\textbf{  Cond. No.          } &     1.54  \\\\\n\\bottomrule\n\\end{tabular}\n%\\caption{OLS Regression Results}\n\\end{center}\n\nNotes: \\newline\n [1] Standard Errors assume that the covariance matrix of the errors is correctly specified."
          },
          "metadata": {},
          "execution_count": 67
        }
      ],
      "source": [
        "model.summary()"
      ]
    },
    {
      "cell_type": "markdown",
      "id": "tiIIKlxXDHx7",
      "metadata": {
        "id": "tiIIKlxXDHx7"
      },
      "source": [
        "### **4.1.**"
      ]
    },
    {
      "cell_type": "markdown",
      "id": "xwwMrwk6O74C",
      "metadata": {
        "id": "xwwMrwk6O74C"
      },
      "source": [
        "The Jarque-Bera (JB) statistic in the OLS results serves as an indicator of whether the residuals follow a normal distribution. In this example, the JB value is 2.318, and the test—based on skewness and kurtosis—helps determine if the residuals differ significantly from normal. The associated p-value is 0.314, which exceeds the standard 0.05 threshold, indicating insufficient evidence to reject the null hypothesis of normality. Consequently, the assumption of normally distributed residuals appears reasonable under these findings."
      ]
    },
    {
      "cell_type": "code",
      "execution_count": 68,
      "id": "FewK1F9rf_lu",
      "metadata": {
        "id": "FewK1F9rf_lu",
        "colab": {
          "base_uri": "https://localhost:8080/",
          "height": 430
        },
        "outputId": "6cae13fc-7a8d-488a-d961-10ebb04c8a67"
      },
      "outputs": [
        {
          "output_type": "display_data",
          "data": {
            "text/plain": [
              "<Figure size 640x480 with 1 Axes>"
            ],
            "image/png": "[encoded data removed]"
          },
          "metadata": {}
        }
      ],
      "source": [
        "model.resid.plot(color='blue')\n",
        "model.resid.shift(1).plot(color='pink');"
      ]
    },
    {
      "cell_type": "markdown",
      "id": "dR1BbFl7j_42",
      "metadata": {
        "id": "dR1BbFl7j_42"
      },
      "source": [
        "### **4.2.**"
      ]
    },
    {
      "cell_type": "markdown",
      "id": "zTHRrfHrkDI5",
      "metadata": {
        "id": "zTHRrfHrkDI5"
      },
      "source": [
        "The OLS regression results indicate a Durbin-Watson statistic of 0.816. This statistic ranges from 0 to 4, where a value near 2 signals no autocorrelation. Values below 2 point to positive autocorrelation, whereas values above 2 indicate negative autocorrelation. A value of 0.816 suggests the presence of positive autocorrelation."
      ]
    },
    {
      "cell_type": "markdown",
      "id": "6UeEsE5qkfHH",
      "metadata": {
        "id": "6UeEsE5qkfHH"
      },
      "source": [
        "### **4.3.**"
      ]
    },
    {
      "cell_type": "code",
      "execution_count": 69,
      "id": "1sji_pHMkj9w",
      "metadata": {
        "id": "1sji_pHMkj9w",
        "colab": {
          "base_uri": "https://localhost:8080/"
        },
        "outputId": "6cd8b121-2375-4b82-9d3b-05211d8820f3"
      },
      "outputs": [
        {
          "output_type": "stream",
          "name": "stdout",
          "text": [
            "                                 OLS Regression Results                                \n",
            "=======================================================================================\n",
            "Dep. Variable:              residuals   R-squared (uncentered):                   0.273\n",
            "Model:                            OLS   Adj. R-squared (uncentered):              0.255\n",
            "Method:                 Least Squares   F-statistic:                              15.36\n",
            "Date:                Mon, 27 Jan 2025   Prob (F-statistic):                    1.09e-10\n",
            "Time:                        11:02:02   Log-Likelihood:                         -548.04\n",
            "No. Observations:                 168   AIC:                                      1104.\n",
            "Df Residuals:                     164   BIC:                                      1117.\n",
            "Df Model:                           4                                                  \n",
            "Covariance Type:            nonrobust                                                  \n",
            "==============================================================================\n",
            "                 coef    std err          t      P>|t|      [0.025      0.975]\n",
            "------------------------------------------------------------------------------\n",
            "x1_t           3.8690      0.701      5.515      0.000       2.484       5.254\n",
            "x2_t           1.8026      0.697      2.587      0.011       0.427       3.179\n",
            "x3_t           2.0462      0.694      2.949      0.004       0.676       3.416\n",
            "x4_t          -2.5956      0.705     -3.684      0.000      -3.987      -1.204\n",
            "==============================================================================\n",
            "Omnibus:                        0.737   Durbin-Watson:                   1.091\n",
            "Prob(Omnibus):                  0.692   Jarque-Bera (JB):                0.430\n",
            "Skew:                          -0.090   Prob(JB):                        0.806\n",
            "Kurtosis:                       3.171   Cond. No.                         1.07\n",
            "==============================================================================\n",
            "\n",
            "Notes:\n",
            "[1] R² is computed without centering (uncentered) since the model does not contain a constant.\n",
            "[2] Standard Errors assume that the covariance matrix of the errors is correctly specified.\n"
          ]
        }
      ],
      "source": [
        "# Extract residuals from the model\n",
        "residuals = model.resid\n",
        "\n",
        "# Define the time variable and compute Fourier predictors\n",
        "time = AnneFrank['time']\n",
        "x1_t = np.cos(2 * np.pi * time / 20)\n",
        "x2_t = np.sin(2 * np.pi * time / 20)\n",
        "x3_t = np.cos(2 * np.pi * time / 30)\n",
        "x4_t = np.sin(2 * np.pi * time / 30)\n",
        "\n",
        "# Create a DataFrame containing the Fourier terms and residuals\n",
        "fourier_data = pd.DataFrame({\n",
        "    'x1_t': x1_t,\n",
        "    'x2_t': x2_t,\n",
        "    'x3_t': x3_t,\n",
        "    'x4_t': x4_t,\n",
        "    'residuals': residuals\n",
        "})\n",
        "\n",
        "# Fit an OLS regression model to the residuals\n",
        "fourier_model = sm.OLS(fourier_data['residuals'], fourier_data[['x1_t', 'x2_t', 'x3_t', 'x4_t']]).fit()\n",
        "\n",
        "# Display the summary of the regression model\n",
        "print(fourier_model.summary())\n"
      ]
    },
    {
      "cell_type": "markdown",
      "id": "MHn9Iv-wl5vA",
      "metadata": {
        "id": "MHn9Iv-wl5vA"
      },
      "source": [
        "The regression results highlight the significance of the Fourier predictors in accounting for the dominant periodic components in the residuals:\n",
        "\n",
        "- **Coefficients:** The non-zero coefficients for the Fourier predictors (x1_t, x2_t, x3_t, and x4_t) indicate their influence on the residuals.  \n",
        "- **P-values:** All p-values are below 0.05, confirming that the coefficients are statistically significant. This demonstrates that the Fourier predictors meaningfully contribute to explaining variations in the residuals.  \n",
        "- **R-squared:** The R-squared value of 0.273 shows that the model explains approximately 27.3% of the residuals' variance, reflecting an improvement over the initial model. This implies that adding Fourier predictors helps capture some of the key periodic patterns.\n",
        "\n",
        "In summary, the inclusion of the Fourier predictors (x1_t, x2_t, x3_t, and x4_t) is justified, as they effectively capture periodic components with time periods of 20 and 30 hours in the residuals."
      ]
    },
    {
      "cell_type": "markdown",
      "id": "3A_Zg3FpmRCU",
      "metadata": {
        "id": "3A_Zg3FpmRCU"
      },
      "source": [
        "### **4.4.**"
      ]
    },
    {
      "cell_type": "markdown",
      "id": "6ywPCu35mpsn",
      "metadata": {
        "id": "6ywPCu35mpsn"
      },
      "source": [
        "To assess the 1-lag correlation of the residuals in the updated model, the Durbin-Watson statistic is examined. The reported value in the regression results is 1.091. This statistic evaluates the degree of first-order serial correlation in the residuals.\n",
        "\n",
        "For reference, a Durbin-Watson value near 2 indicates minimal autocorrelation, implying that the residuals are largely independent. Values significantly below 2 indicate positive autocorrelation, while values above 2 point to negative autocorrelation.\n",
        "\n",
        "In this case, the Durbin-Watson value of 1.091 indicates positive autocorrelation, meaning there is noticeable dependence between adjacent residuals at a lag of 1. This level of autocorrelation is more pronounced compared to the model regressed with previous predictors using a 48-hour cycle."
      ]
    },
    {
      "cell_type": "markdown",
      "id": "bcc6a698f4515b4a",
      "metadata": {
        "id": "bcc6a698f4515b4a"
      },
      "source": [
        "## Problem 5 (A/B Testing)\n",
        "\n",
        "\n",
        "### 1. What is A/B Testing?\n",
        "\n",
        "**A/B testing**, also called a **split test** or **controlled experiment**, is a randomized experiment where you compare two (or more) variants of an intervention (e.g., a webpage design, a marketing campaign, or a new drug formulation) to determine which variant performs better according to a pre-defined metric.\n",
        "\n",
        "1. **Variant A (Control)** – The existing version or baseline.\n",
        "2. **Variant B (Treatment)** – The new version or proposed change.\n",
        "\n",
        "The goal is to **measure the causal impact** of switching from A to B on the outcome metric of interest (e.g., conversion rate, average revenue, click-through rate).\n",
        "\n",
        "<br>\n",
        "\n",
        "### 2. Why to A/B Test?\n",
        "\n",
        "A/B tests are a form of **controlled experiment**. By randomly assigning participants (users, subjects) to either variant A or variant B, we aim to **isolate the effect** of the intervention from **confounding factors**. Randomization ensures:\n",
        "\n",
        "1. **Independence**: Each participant’s assignment to A or B is independent of others.\n",
        "2. **Balance of Covariates**: On average, both known and unknown confounders (e.g., demographics, user behavior) should be balanced across groups—so the only systematic difference is the intervention itself.\n",
        "\n",
        "This setting allows us to make **causal inferences** about whether variant B truly improves (or worsens) the key metric compared to A.\n",
        "\n",
        "<br>\n",
        "\n",
        "### 3. Setting Up the Experiment\n",
        "\n",
        "#### 3.1 Defining the Metric\n",
        "\n",
        "Before launching an A/B test, precisely define the **primary outcome metric** you wish to measure. Common examples:\n",
        "- **Binary**: Conversion (1 = purchased, 0 = did not purchase).\n",
        "- **Continuous**: Average time on site, average transaction value, etc.\n",
        "- **Count**: Number of pages visited, items purchased, etc.\n",
        "\n",
        "#### 3.2 Random Assignment and Data Collection\n",
        "\n",
        "- **Randomization**: Each incoming participant is assigned to Group A or Group B with probability 0.5 (or another specified proportion).\n",
        "- **Sample Size**: Use **power analysis** (or a pre-determined plan) to determine how many participants you need to detect a specified effect size at a chosen significance level $ \\alpha $ (often 0.05) with adequate power.\n",
        "- **Duration**: Continue the experiment until you reach that sample size or a specific time horizon.\n",
        "\n",
        "\n",
        "<br>\n",
        "\n",
        "### 4. Statistical Framework\n",
        "\n",
        "#### 4.1 Formulating the Hypotheses\n",
        "\n",
        "##### Nominal Response\n",
        "\n",
        "If we denote $ \\mu_A $ as the true mean response for the Control group and $ \\mu_B$ for the Treatment group:\n",
        "\n",
        "- **Null Hypothesis ($ H_0 $)**:\n",
        "  $ \\mu_A = \\mu_B $\n",
        "\n",
        "- **Alternative Hypothesis ($ H_1 $)**\n",
        "  $ \\mu_A \\neq \\mu_B $\n",
        "  \n",
        "##### Binary Response\n",
        "If we denote $ p_A $ as the true parameter (e.g., conversion rate) for the Control group and $ p_B $ for the Treatment group:\n",
        "\n",
        "- **Null Hypothesis ($ H_0 $)**:\n",
        "  $ p_A = p_B $\n",
        "  (No difference in performance between variants.)\n",
        "\n",
        "- **Alternative Hypothesis ($ H_1 $)** (Two-sided):\n",
        "  $ p_A \\neq p_B $\n",
        "  (There is a difference—could be an increase or a decrease.)\n",
        "\n",
        "\n",
        "<br>\n",
        "\n",
        "#### 4.2 Test Statistic and Distribution\n",
        "\n",
        "##### Nominal Response\n",
        "Use the two-sample $t$-test\n",
        "\n",
        "##### Binary Response\n",
        "Use the **two-proportion z-test**:\n",
        "\n",
        "$ Z = \\frac{\\hat{p}_A - \\hat{p}_B}{\\sqrt{\\hat{p}(1 - \\hat{p})\\left(\\frac{1}{n_A} + \\frac{1}{n_B}\\right)}} $\n",
        "\n",
        "where:\n",
        "- $ \\hat{p}_A $ = observed proportion for Group A (e.g., $ \\text{conversions}_A / n_A $)\n",
        "- $ \\hat{p}_B $ = observed proportion for Group B\n",
        "- $ n_A, n_B $ = number of observations in Groups A and B\n",
        "- $ \\hat{p} $ = \"pooled\" proportion across both groups (since $ H_0 $ posits $ p_A = p_B $):\n",
        "  $ \\hat{p} = \\frac{\\#\\{\\text{conversions in A}\\} + \\#\\{\\text{conversions in B}\\}}{n_A + n_B} $\n",
        "\n",
        "\n",
        "You will later prove that under the null hypothesis $p_A=p_B$ and in the large samples sizes limit $n_A \\to \\infty$ and $n_B\\to \\infty$, this $ Z $-statistic approximately follows a standard normal ($ N(0, 1) $) distribution.\n",
        "\n",
        "This leads to the following procedure:\n",
        "\n",
        "1. **Compute $ Z $**.\n",
        "2. **Obtain p-value**: Probability of observing a $ Z $-statistic at least as extreme as the observed one, assuming the null hypothesis is true.\n",
        "3. **Decision**: If $ p\\text{-value} < \\alpha $, reject $ H_0 $. Otherwise, fail to reject $ H_0 $.\n",
        "\n",
        "<br>\n",
        "\n",
        "#### 4.3 Assumptions\n",
        "\n",
        "1. **Random Assignment**: Observations are randomly allocated to A or B.\n",
        "2. **Independence**: Observations within and across groups are independent.\n",
        "3. **Sufficient Sample**: Each group should have at least 5–10 observed successes **and** failures to ensure the normal approximation is valid.\n",
        "4. **No Major Time Trends**: The underlying conversion probabilities do not drift drastically over the test period.\n",
        "\n",
        "<br>\n",
        "\n",
        "### 5. Summary\n",
        "\n",
        "1. **Concept**: A/B testing is a **randomized controlled experiment** comparing two variants (A=Control, B=Treatment).\n",
        "2. **Hypothesis**: Typically, $ H_0: p_A = p_B $ vs. $ H_1: p_A \\neq p_B $.\n",
        "3. **Implementation**:\n",
        "   - Randomly assign users to A or B.\n",
        "   - Collect data on your primary outcome metric.\n",
        "   - Use a suitable **statistical test**.\n",
        "   - Evaluate statistical significance ($ p $-value < $ \\alpha $).\n",
        "4. **Interpretation**:\n",
        "   - Reject $ H_0 $ if $ p $-value < $ \\alpha $ → significant difference in performance.\n",
        "   - Otherwise, fail to reject $ H_0 $.\n",
        "\n",
        "By properly designing and analyzing an A/B test, we can **establish a causal link** between design changes (B vs. A) and measured outcomes, which is the cornerstone of **data-driven decision-making** in many industries.\n"
      ]
    },
    {
      "cell_type": "markdown",
      "id": "d8ea2b52",
      "metadata": {
        "id": "d8ea2b52"
      },
      "source": [
        "## Assignments:\n",
        "\n",
        "4.1. Prove that under the null hypothesis $p_A=p_B$ and in the large samples sizes limit $n_A \\to \\infty$ and $n_B\\to \\infty$, the $ Z $-statistic presented above converges to a standard normal ($ N(0, 1) $) distribution. Use the following steps:\n",
        "1. Show that under $H_0$, $\\hat{p} \\to p_A$ in distribution (Note: this is convergence of a random variable to a constant. Use the law of large numbers)\n",
        "2. Evaluate the variance of $\\hat{p}_A - \\hat{p}_B$.\n",
        "3. Argue that $(\\hat{p}_A - \\hat{p}_B)/\\sqrt{\\mathrm{Var}(\\hat{p}_A - \\hat{p}_B)}$ converges in distribution to a standard normal. Use the central limit theorem.\n",
        "4. Argue that $Z$ converges to a standard normal distribution. Use the following fact (Slutsky's Theorem): for two sequences of random variables $\\{X_n\\}$ and $\\{Y_n\\}$, if $X_n \\to X$ in distribution and $Y_n \\to c>0$ (a non-zero constant), then $X_n/Y_n \\to X/c$ in distribution.\n",
        "\n",
        "4.2. Practice A/B testing using the dataset 'ab_test_data.csv'. This dataset contains the results of an A/B test where two groups (A and B) were exposed to different versions of a website. The data includes the group assignment, the conversion rate (0/1) and the revenue for each user.\n",
        "1. Perform an A/B test to compare the conversion rates and average revenue between groups A and B. Explicitly state assumptions, hypotheses, statistical tools you used and conclusions.\n",
        "2. The CEO would like to know the bottom line: does the new version of the website improve its performance? What would you tell the CEO? (Remember that you conducted multiple tests, so you should support your recommendation with statistical evidence).\n",
        "\n"
      ]
    },
    {
      "cell_type": "markdown",
      "id": "XJtRMDs6rhqx",
      "metadata": {
        "id": "XJtRMDs6rhqx"
      },
      "source": [
        "### **Answer Q.5.**"
      ]
    },
    {
      "cell_type": "markdown",
      "id": "Q7rQHzz_s4w8",
      "metadata": {
        "id": "Q7rQHzz_s4w8"
      },
      "source": [
        "### Answer to section 4.1:"
      ]
    },
    {
      "cell_type": "markdown",
      "id": "eg7s6kxKru7a",
      "metadata": {
        "id": "eg7s6kxKru7a"
      },
      "source": [
        "1. **Under $H_0$, $\\hat{p} \\to p_A$ in distribution**\n",
        "\n",
        "   Under the null hypothesis $$p_A = p_B = p$$\n",
        "\n",
        "  Then:\n",
        "\n",
        "   $$\\hat{p} = \\frac{\\text{#\\{conversions in A\\}} + \\text{#\\{conversions in B\\}}}{n_A + n_B}$$\n",
        "\n",
        "   is the sample proportion of successes from $(n_A + n_B)$ independent Bernoulli($p$) trials. By the Law of Large Numbers:\n",
        "   $$\n",
        "   \\hat{p} \\xrightarrow{p} p,\n",
        "   $$\n",
        "   i.e., $\\hat{p}$ converges in probability (hence in distribution) to $p$.\n",
        "\n",
        "2. **Variance of $\\hat{p}_A - \\hat{p}_B$**\n",
        "\n",
        "   Let\n",
        "   $$\\hat{p}_A = \\frac{X_A}{n_A} \\quad\\text{and}\\quad \\hat{p}_B = \\frac{X_B}{n_B},$$\n",
        "   where\n",
        "   $$X_A \\sim \\text{Binomial}(n_A, p) \\quad\\text{and}\\quad X_B \\sim \\text{Binomial}(n_B, p).$$\n",
        "   Then:\n",
        "   $$\n",
        "   \\mathrm{Var}(\\hat{p}_A) = \\frac{p(1-p)}{n_A},\n",
        "   \\quad\n",
        "   \\mathrm{Var}(\\hat{p}_B) = \\frac{p(1-p)}{n_B},\n",
        "   \\quad\n",
        "   \\mathrm{Cov}(\\hat{p}_A, \\hat{p}_B) = 0\n",
        "   $$\n",
        "   because the assignments to A and B are independent.\n",
        "   \n",
        "   Hence,\n",
        "   $$\n",
        "   \\mathrm{Var}(\\hat{p}_A - \\hat{p}_B)\n",
        "   = \\mathrm{Var}(\\hat{p}_A) + \\mathrm{Var}(\\hat{p}_B)\n",
        "   = p(1-p)\\left(\\frac{1}{n_A} + \\frac{1}{n_B}\\right).\n",
        "   $$\n",
        "\n",
        "3. **$(\\hat{p}_A - \\hat{p}_B)/\\sqrt{\\mathrm{Var}(\\hat{p}_A - \\hat{p}_B)} \\to N(0,1)$ in distribution**\n",
        "\n",
        "   By the Central Limit Theorem, for large $n_A$ and $n_B$:\n",
        "   $$\n",
        "   \\hat{p}_A - p \\xrightarrow{d} N\\Big(0,\\ \\frac{p(1-p)}{n_A}\\Big),\n",
        "   \\quad\n",
        "   \\hat{p}_B - p \\xrightarrow{d} N\\Big(0,\\ \\frac{p(1-p)}{n_B}\\Big).\n",
        "   $$\n",
        "   Since $\\hat{p}_A$ and $\\hat{p}_B$ are independent, their difference (appropriately scaled) also converges in distribution to a normal with mean 0 and variance\n",
        "   $p(1-p)\\left(\\frac{1}{n_A} + \\frac{1}{n_B}\\right).$\n",
        "   \n",
        "   Thus,\n",
        "   $$\n",
        "   \\frac{\\hat{p}_A - \\hat{p}_B - (p - p)}{\\sqrt{p(1-p)\\left(\\frac{1}{n_A} + \\frac{1}{n_B}\\right)}}\n",
        "   \\xrightarrow{d} N(0,1).\n",
        "   $$\n",
        "\n",
        "4. **$Z$ converges to $N(0,1)$ (Slutsky’s Theorem)**\n",
        "\n",
        "   Recall that\n",
        "   $$\n",
        "   Z\n",
        "   = \\frac{\\hat{p}_A - \\hat{p}_B}{\\sqrt{\\hat{p}(1 - \\hat{p})\\left(\\frac{1}{n_A} + \\frac{1}{n_B}\\right)}}.\n",
        "   $$\n",
        "   Under $H_0$, $\\hat{p} \\xrightarrow{p} p$. Hence the denominator’s random component $\\hat{p}(1-\\hat{p})$ converges to $p(1-p)$, a nonzero constant. By Slutsky’s theorem, dividing a sequence of random variables converging in distribution to $N(0,1)$ by another sequence converging in probability to a positive constant preserves the $N(0,1)$ distributional limit. Therefore,\n",
        "   $$\n",
        "   Z \\xrightarrow{d} N(0,1).\n",
        "   $$"
      ]
    },
    {
      "cell_type": "markdown",
      "id": "vYX6gJARjWIx",
      "metadata": {
        "id": "vYX6gJARjWIx"
      },
      "source": [
        "### Answer to section 4.2:"
      ]
    },
    {
      "cell_type": "code",
      "execution_count": 70,
      "id": "aTO119VJm5sh",
      "metadata": {
        "colab": {
          "base_uri": "https://localhost:8080/"
        },
        "id": "aTO119VJm5sh",
        "outputId": "e7d7f88a-ebb8-40aa-ff89-0dddff0fa86c"
      },
      "outputs": [
        {
          "output_type": "stream",
          "name": "stdout",
          "text": [
            "==== SUMMARY STATISTICS ====\n",
            "       conversion_rate  average_revenue  sample_size\n",
            "group                                               \n",
            "A                0.153         7.551133         1000\n",
            "B                0.204        11.278239         1000 \n",
            "\n",
            "==== CONVERSION RATE TEST ====\n",
            "Z-statistic = -2.9781, p-value = 0.0029\n",
            "Conclusion: Reject the null hypothesis. There is a significant difference in conversion rates.\n",
            "\n",
            "==== REVENUE TEST ====\n",
            "T-statistic = -3.9980, p-value = 6.6342e-05 (or 0.0001)\n",
            "Conclusion: Reject the null hypothesis. There is a significant difference in average revenue.\n",
            "\n",
            "==== CEO SUMMARY ====\n",
            "Group A (Control) Conversion Rate: 15.30%\n",
            "Group B (New Version) Conversion Rate: 20.40%\n",
            "Group A (Control) Average Revenue: $7.55\n",
            "Group B (New Version) Average Revenue: $11.28\n",
            "\n",
            "Both conversion rate and average revenue are significantly higher for the new version. We recommend rolling it out.\n"
          ]
        }
      ],
      "source": [
        "df = pd.read_csv(\"./ab_test_data.csv\")\n",
        "\n",
        "df_A = df[df['group'] == 'A']\n",
        "df_B = df[df['group'] == 'B']\n",
        "\n",
        "summary_stats = df.groupby('group').agg(\n",
        "    conversion_rate=('converted', 'mean'),\n",
        "    average_revenue=('revenue', 'mean'),\n",
        "    sample_size=('converted', 'count')\n",
        ")\n",
        "print(\"==== SUMMARY STATISTICS ====\")\n",
        "print(summary_stats, \"\\n\")\n",
        "\n",
        "conversions_A = df_A['converted'].sum()\n",
        "conversions_B = df_B['converted'].sum()\n",
        "n_A = len(df_A)\n",
        "n_B = len(df_B)\n",
        "\n",
        "count = np.array([conversions_A, conversions_B])\n",
        "nobs = np.array([n_A, n_B])\n",
        "\n",
        "z_stat, pval_conversion = proportions_ztest(count, nobs, alternative='two-sided')\n",
        "\n",
        "print(\"==== CONVERSION RATE TEST ====\")\n",
        "print(f\"Z-statistic = {z_stat:.4f}, p-value = {pval_conversion:.4f}\")\n",
        "if pval_conversion < 0.05:\n",
        "    print(\"Conclusion: Reject the null hypothesis. There is a significant difference in conversion rates.\")\n",
        "else:\n",
        "    print(\"Conclusion: Fail to reject the null hypothesis. No significant difference in conversion rates.\")\n",
        "\n",
        "revenue_A = df_A['revenue']\n",
        "revenue_B = df_B['revenue']\n",
        "\n",
        "t_stat, pval_revenue = ttest_ind(revenue_A, revenue_B, equal_var=False)\n",
        "\n",
        "print(\"\\n==== REVENUE TEST ====\")\n",
        "print(f\"T-statistic = {t_stat:.4f}, p-value = {pval_revenue:.4e} (or {pval_revenue:.4f})\")\n",
        "if pval_revenue < 0.05:\n",
        "    print(\"Conclusion: Reject the null hypothesis. There is a significant difference in average revenue.\")\n",
        "else:\n",
        "    print(\"Conclusion: Fail to reject the null hypothesis. No significant difference in average revenue.\")\n",
        "\n",
        "# CEO summary\n",
        "print(\"\\n==== CEO SUMMARY ====\")\n",
        "print(f\"Group A (Control) Conversion Rate: {summary_stats.loc['A', 'conversion_rate']:.2%}\")\n",
        "print(f\"Group B (New Version) Conversion Rate: {summary_stats.loc['B', 'conversion_rate']:.2%}\")\n",
        "print(f\"Group A (Control) Average Revenue: ${summary_stats.loc['A', 'average_revenue']:.2f}\")\n",
        "print(f\"Group B (New Version) Average Revenue: ${summary_stats.loc['B', 'average_revenue']:.2f}\\n\")\n",
        "\n",
        "if (pval_conversion < 0.05) and (pval_revenue < 0.05):\n",
        "    print(\"Both conversion rate and average revenue are significantly higher for the new version. We recommend rolling it out.\")\n",
        "elif (pval_conversion < 0.05) and (pval_revenue >= 0.05):\n",
        "    print(\"Conversion rate is significantly higher, but revenue is not significantly different. Likely beneficial to adopt new version.\")\n",
        "elif (pval_conversion >= 0.05) and (pval_revenue < 0.05):\n",
        "    print(\"Average revenue is significantly higher, but conversion rate is not significantly different. Consider adopting new version.\")\n",
        "else:\n",
        "    print(\"No significant improvements detected in either metric. No strong evidence to switch to the new version.\")\n"
      ]
    },
    {
      "cell_type": "markdown",
      "id": "UZjNKreqk4P1",
      "metadata": {
        "id": "UZjNKreqk4P1"
      },
      "source": [
        "### **Explanation:**"
      ]
    },
    {
      "cell_type": "markdown",
      "id": "fHXVlrSwvH1B",
      "metadata": {
        "id": "fHXVlrSwvH1B"
      },
      "source": [
        "**4.2.1**"
      ]
    },
    {
      "cell_type": "markdown",
      "id": "4Kf3vzMwj2OA",
      "metadata": {
        "id": "4Kf3vzMwj2OA"
      },
      "source": [
        "---\n",
        "1. **A/B Test Comparison for Conversion Rates and Average Revenue**\n",
        "\n",
        "   **Assumptions:**\n",
        "   - Random assignment: Each user was randomly assigned to either Group A (control) or Group B (treatment).\n",
        "   - Independence: User interactions and purchases are independent of each other.\n",
        "   - Sample sizes: Both groups have enough samples to approximate the normal distribution using the central limit theorem.\n",
        "   - No time-based or seasonal trends: There are no drastic changes in user behavior during the test period that could bias the results.\n",
        "\n",
        "   **Hypotheses for Conversion Rate:**\n",
        "   - Null hypothesis ($H_0$): The conversion rates for Group A ($p_A$) and Group B ($p_B$) are equal.\n",
        "  $$ H_0: p_A = p_B $$\n",
        "   - Alternative hypothesis ($H_1$): The conversion rates for Group A and Group B are different.\n",
        "  $$ H_1: p_A \\neq p_B $$\n",
        "\n",
        "   **Statistical Test for Conversion Rate:**\n",
        "   - A two-proportion z-test was performed to compare the proportions of conversions between groups.\n",
        "   - Result: The p-value for the z-test is 0.0029, which is **significantly below** the common significance threshold ($\\alpha = 0.05$).\n",
        "   - Conclusion: Reject the null hypothesis. This suggests that there is a significant difference in conversion rates between the two groups, with Group B (new version) having a higher conversion rate.\n",
        "\n",
        "   **Hypotheses for Average Revenue:**\n",
        "   - Null hypothesis ($H_0$): The mean revenue for Group A ($\\mu_A$) and Group B ($\\mu_B$) are equal.\n",
        "  $$ H_0: \\mu_A = \\mu_B $$\n",
        "   - Alternative hypothesis ($H_1$): The mean revenue for Group A and Group B are different.\n",
        "  $$ H_1: \\mu_A \\neq \\mu_B $$\n",
        "\n",
        "   **Statistical Test for Average Revenue:**\n",
        "   - An independent two-sample t-test (with unequal variances) was performed to compare average revenue.\n",
        "   - Result: The p-value for the t-test is $6.63 \\times 10^{-5}$, which is extremely small and indicates a highly significant difference.\n",
        "   - Conclusion: Reject the null hypothesis. The new version (Group B) leads to significantly higher average revenue per user compared to the control (Group A).\n",
        "\n",
        "---"
      ]
    },
    {
      "cell_type": "markdown",
      "id": "yZtQ6_nsvPA4",
      "metadata": {
        "id": "yZtQ6_nsvPA4"
      },
      "source": [
        "**4.2.2**"
      ]
    },
    {
      "cell_type": "markdown",
      "id": "HQJKIKEEu9Mk",
      "metadata": {
        "id": "HQJKIKEEu9Mk"
      },
      "source": [
        "2. **Recommendation to the CEO:**\n",
        "   - Based on the statistical evidence from both tests:\n",
        "     - The new version of the website (**Group B**) has a **significantly higher conversion rate** (20.4% vs 15.3%).\n",
        "     - The **average revenue per user** also increased substantially (from approximately 7.55 to 11.28).\n",
        "   - These improvements are statistically significant, meaning they are unlikely to be due to random chance.\n",
        "   - **Recommendation**: Roll out the new version (**Group B**) of the website. It is expected to drive better business outcomes by increasing both conversions and revenue."
      ]
    }
  ],
  "metadata": {
    "colab": {
      "collapsed_sections": [
        "f3c775f3738fce71",
        "f77357cf",
        "PAIaEpOyDDTC",
        "tiIIKlxXDHx7",
        "dR1BbFl7j_42",
        "6UeEsE5qkfHH",
        "3A_Zg3FpmRCU",
        "vYX6gJARjWIx"
      ],
      "provenance": []
    },
    "kernelspec": {
      "display_name": "env",
      "language": "python",
      "name": "python3"
    },
    "language_info": {
      "codemirror_mode": {
        "name": "ipython",
        "version": 3
      },
      "file_extension": ".py",
      "mimetype": "text/x-python",
      "name": "python",
      "nbconvert_exporter": "python",
      "pygments_lexer": "ipython3",
      "version": "3.10.11"
    }
  },
  "nbformat": 4,
  "nbformat_minor": 5
}
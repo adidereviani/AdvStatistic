{
  "cells": [
    {
      "cell_type": "markdown",
      "source": [
        "ID1: 305674731\n",
        "\n",
        "ID2: 209028067\n",
        "\n",
        "Date:"
      ],
      "metadata": {
        "id": "Uy7g9D4wWq4A"
      },
      "id": "Uy7g9D4wWq4A"
    },
    {
      "cell_type": "markdown",
      "id": "06b7f092",
      "metadata": {
        "id": "06b7f092"
      },
      "source": [
        "##### Advanced Statistical Analysis and Model-Based Learning (Fall 2024-2025)\n",
        "# Home Assignment 4\n",
        "#### Topics:\n",
        "- Statistical Estimation\n",
        "- Hypothesis Testing in one and two samples\n",
        "- ANOVA\n",
        "\n",
        "#### Due: 6/1/2025 by 18:30"
      ]
    },
    {
      "cell_type": "markdown",
      "id": "862aa9c4",
      "metadata": {
        "id": "862aa9c4"
      },
      "source": [
        "#### Instructions:\n",
        "- Write your IDs and date at the top cell.\n",
        "- Submit a copy of this notebook with code filled in the relevant places as the solution of coding exercises.\n",
        "- For theoretic exercises, you can either write your solution in the notebook using $\\LaTeX$ (preferred) or submit additional notes."
      ]
    },
    {
      "cell_type": "markdown",
      "id": "96f5eeaf",
      "metadata": {
        "id": "96f5eeaf"
      },
      "source": [
        "<hr>\n",
        "<hr>"
      ]
    },
    {
      "cell_type": "code",
      "source": [
        "import pandas as pd\n",
        "import numpy as np\n",
        "import matplotlib.pyplot as plt\n",
        "import seaborn as sns\n",
        "import statsmodels.api as sm\n",
        "from statsmodels.formula.api import ols\n",
        "from itertools import combinations\n",
        "from scipy.stats import ttest_ind\n",
        "import scipy.stats"
      ],
      "metadata": {
        "id": "vxD7AhO8YwEf"
      },
      "id": "vxD7AhO8YwEf",
      "execution_count": 1,
      "outputs": []
    },
    {
      "cell_type": "markdown",
      "id": "e83875d5",
      "metadata": {
        "id": "e83875d5"
      },
      "source": [
        "## Problem 1: ANOVA and Multiple Comparisons\n",
        "Consider Israeli wines in the wine dataset ``winemag-data_first150k.csv`` used in class (downloaded from Kaggle https://www.kaggle.com/datasets/zynicide/wine-reviews?select=winemag-data_first150k.csv). Use ANOVA to measure the effect of winery (``winary``) and price (``price``) on the quality (``points``) of wine of variety ``Cabernet Sauvignon``. Note: you can ignore the ``province`` filed in the data because it contains inaccurate information.\n",
        "\n",
        "Load dataset; replace the word ``Gamla`` with ``Golan Height Winary`` because this is the correct name of the winery; keep only relevant records according to the fields ``country`` and ``veriaty``; if you find any duplicated records in the data, remove those that are redundant. Also, we only include wineries with at least 3 samples. You can achieve the above by the code at the next cell."
      ]
    },
    {
      "cell_type": "markdown",
      "source": [
        "### **Answer 1:**"
      ],
      "metadata": {
        "id": "TcKDbcWSopAf"
      },
      "id": "TcKDbcWSopAf"
    },
    {
      "cell_type": "code",
      "execution_count": 2,
      "id": "0a4816c5",
      "metadata": {
        "colab": {
          "base_uri": "https://localhost:8080/"
        },
        "id": "0a4816c5",
        "outputId": "e647b5ce-2099-494e-ae88-0399ef8b9607"
      },
      "outputs": [
        {
          "output_type": "stream",
          "name": "stderr",
          "text": [
            "<ipython-input-2-ba7290993430>:8: FutureWarning: Downcasting behavior in `replace` is deprecated and will be removed in a future version. To retain the old behavior, explicitly call `result.infer_objects(copy=False)`. To opt-in to the future behavior, set `pd.set_option('future.no_silent_downcasting', True)`\n",
            "  .replace('Gamla', 'Golan Heights Winery')\\\n"
          ]
        }
      ],
      "source": [
        "import pandas as pd\n",
        "wine_df = pd.read_csv(\"winemag-data_first150k.csv\")\n",
        "variety = 'Cabernet Sauvignon'\n",
        "min_per_group = 3\n",
        "israeli_wines = wine_df[(wine_df.country == 'Israel') & (wine_df.variety == variety)]\\\n",
        "                .filter(['country', 'description','designation', 'points',\n",
        "                         'price','region_1', 'region_2', 'variety', 'winery'])\\\n",
        "                .replace('Gamla', 'Golan Heights Winery')\\\n",
        "                .drop_duplicates(keep='first')\\\n",
        "                .groupby('winery')\\\n",
        "                .filter(lambda x : len(x) >= min_per_group)"
      ]
    },
    {
      "cell_type": "code",
      "source": [
        "israeli_wines"
      ],
      "metadata": {
        "colab": {
          "base_uri": "https://localhost:8080/",
          "height": 423
        },
        "collapsed": true,
        "id": "gYTCUTomY8a2",
        "outputId": "6a2f790d-9a44-49fd-945e-fdd9ddcc540d"
      },
      "id": "gYTCUTomY8a2",
      "execution_count": 3,
      "outputs": [
        {
          "output_type": "execute_result",
          "data": {
            "text/plain": [
              "       country                                        description  \\\n",
              "81      Israel  Dark red violet in color, this wine has aromas...   \n",
              "355     Israel  Restrained aromas of black plum barely set the...   \n",
              "966     Israel  This wine is dark red-violet color to the eye,...   \n",
              "970     Israel  Dark garnet in the glass, this wine has a nose...   \n",
              "977     Israel  Dark black cherry in color, this wine offers a...   \n",
              "...        ...                                                ...   \n",
              "81782   Israel  Light cassis and black currant aromas softly a...   \n",
              "86014   Israel  Dark garnet in color with an intense nose load...   \n",
              "87563   Israel  Straightforward and very drinkable with notes ...   \n",
              "91397   Israel  Standard Cab characteristics of black currant,...   \n",
              "130521  Israel  With 16 months in French oak, this is a big wi...   \n",
              "\n",
              "                          designation  points  price  region_1  region_2  \\\n",
              "81                            Reserve      91   25.0       NaN       NaN   \n",
              "355                               NaN      91   40.0       NaN       NaN   \n",
              "966                   Special Reserve      90   20.0       NaN       NaN   \n",
              "970                         Mt. Tabor      90   15.0       NaN       NaN   \n",
              "977                               NaN      90   55.0       NaN       NaN   \n",
              "...                               ...     ...    ...       ...       ...   \n",
              "81782   20 Months Barrel Aged Reserve      84   22.0       NaN       NaN   \n",
              "86014          Single Vineyard Kosher      87   35.0       NaN       NaN   \n",
              "87563                          Kosher      85   15.0       NaN       NaN   \n",
              "91397                          Kosher      84   15.0       NaN       NaN   \n",
              "130521                 Reserve Kosher      89   25.0       NaN       NaN   \n",
              "\n",
              "                   variety           winery  \n",
              "81      Cabernet Sauvignon        Binyamina  \n",
              "355     Cabernet Sauvignon  Bazelet HaGolan  \n",
              "966     Cabernet Sauvignon          Segal's  \n",
              "970     Cabernet Sauvignon            Tabor  \n",
              "977     Cabernet Sauvignon            Yatir  \n",
              "...                    ...              ...  \n",
              "81782   Cabernet Sauvignon           Barkan  \n",
              "86014   Cabernet Sauvignon           Psagot  \n",
              "87563   Cabernet Sauvignon         Recanati  \n",
              "91397   Cabernet Sauvignon         Recanati  \n",
              "130521  Cabernet Sauvignon         Recanati  \n",
              "\n",
              "[71 rows x 9 columns]"
            ],
            "text/html": [
              "\n",
              "  <div id=\"df-815e75d9-e962-406f-9298-356a350d8788\" class=\"colab-df-container\">\n",
              "    <div>\n",
              "<style scoped>\n",
              "    .dataframe tbody tr th:only-of-type {\n",
              "        vertical-align: middle;\n",
              "    }\n",
              "\n",
              "    .dataframe tbody tr th {\n",
              "        vertical-align: top;\n",
              "    }\n",
              "\n",
              "    .dataframe thead th {\n",
              "        text-align: right;\n",
              "    }\n",
              "</style>\n",
              "<table border=\"1\" class=\"dataframe\">\n",
              "  <thead>\n",
              "    <tr style=\"text-align: right;\">\n",
              "      <th></th>\n",
              "      <th>country</th>\n",
              "      <th>description</th>\n",
              "      <th>designation</th>\n",
              "      <th>points</th>\n",
              "      <th>price</th>\n",
              "      <th>region_1</th>\n",
              "      <th>region_2</th>\n",
              "      <th>variety</th>\n",
              "      <th>winery</th>\n",
              "    </tr>\n",
              "  </thead>\n",
              "  <tbody>\n",
              "    <tr>\n",
              "      <th>81</th>\n",
              "      <td>Israel</td>\n",
              "      <td>Dark red violet in color, this wine has aromas...</td>\n",
              "      <td>Reserve</td>\n",
              "      <td>91</td>\n",
              "      <td>25.0</td>\n",
              "      <td>NaN</td>\n",
              "      <td>NaN</td>\n",
              "      <td>Cabernet Sauvignon</td>\n",
              "      <td>Binyamina</td>\n",
              "    </tr>\n",
              "    <tr>\n",
              "      <th>355</th>\n",
              "      <td>Israel</td>\n",
              "      <td>Restrained aromas of black plum barely set the...</td>\n",
              "      <td>NaN</td>\n",
              "      <td>91</td>\n",
              "      <td>40.0</td>\n",
              "      <td>NaN</td>\n",
              "      <td>NaN</td>\n",
              "      <td>Cabernet Sauvignon</td>\n",
              "      <td>Bazelet HaGolan</td>\n",
              "    </tr>\n",
              "    <tr>\n",
              "      <th>966</th>\n",
              "      <td>Israel</td>\n",
              "      <td>This wine is dark red-violet color to the eye,...</td>\n",
              "      <td>Special Reserve</td>\n",
              "      <td>90</td>\n",
              "      <td>20.0</td>\n",
              "      <td>NaN</td>\n",
              "      <td>NaN</td>\n",
              "      <td>Cabernet Sauvignon</td>\n",
              "      <td>Segal's</td>\n",
              "    </tr>\n",
              "    <tr>\n",
              "      <th>970</th>\n",
              "      <td>Israel</td>\n",
              "      <td>Dark garnet in the glass, this wine has a nose...</td>\n",
              "      <td>Mt. Tabor</td>\n",
              "      <td>90</td>\n",
              "      <td>15.0</td>\n",
              "      <td>NaN</td>\n",
              "      <td>NaN</td>\n",
              "      <td>Cabernet Sauvignon</td>\n",
              "      <td>Tabor</td>\n",
              "    </tr>\n",
              "    <tr>\n",
              "      <th>977</th>\n",
              "      <td>Israel</td>\n",
              "      <td>Dark black cherry in color, this wine offers a...</td>\n",
              "      <td>NaN</td>\n",
              "      <td>90</td>\n",
              "      <td>55.0</td>\n",
              "      <td>NaN</td>\n",
              "      <td>NaN</td>\n",
              "      <td>Cabernet Sauvignon</td>\n",
              "      <td>Yatir</td>\n",
              "    </tr>\n",
              "    <tr>\n",
              "      <th>...</th>\n",
              "      <td>...</td>\n",
              "      <td>...</td>\n",
              "      <td>...</td>\n",
              "      <td>...</td>\n",
              "      <td>...</td>\n",
              "      <td>...</td>\n",
              "      <td>...</td>\n",
              "      <td>...</td>\n",
              "      <td>...</td>\n",
              "    </tr>\n",
              "    <tr>\n",
              "      <th>81782</th>\n",
              "      <td>Israel</td>\n",
              "      <td>Light cassis and black currant aromas softly a...</td>\n",
              "      <td>20 Months Barrel Aged Reserve</td>\n",
              "      <td>84</td>\n",
              "      <td>22.0</td>\n",
              "      <td>NaN</td>\n",
              "      <td>NaN</td>\n",
              "      <td>Cabernet Sauvignon</td>\n",
              "      <td>Barkan</td>\n",
              "    </tr>\n",
              "    <tr>\n",
              "      <th>86014</th>\n",
              "      <td>Israel</td>\n",
              "      <td>Dark garnet in color with an intense nose load...</td>\n",
              "      <td>Single Vineyard Kosher</td>\n",
              "      <td>87</td>\n",
              "      <td>35.0</td>\n",
              "      <td>NaN</td>\n",
              "      <td>NaN</td>\n",
              "      <td>Cabernet Sauvignon</td>\n",
              "      <td>Psagot</td>\n",
              "    </tr>\n",
              "    <tr>\n",
              "      <th>87563</th>\n",
              "      <td>Israel</td>\n",
              "      <td>Straightforward and very drinkable with notes ...</td>\n",
              "      <td>Kosher</td>\n",
              "      <td>85</td>\n",
              "      <td>15.0</td>\n",
              "      <td>NaN</td>\n",
              "      <td>NaN</td>\n",
              "      <td>Cabernet Sauvignon</td>\n",
              "      <td>Recanati</td>\n",
              "    </tr>\n",
              "    <tr>\n",
              "      <th>91397</th>\n",
              "      <td>Israel</td>\n",
              "      <td>Standard Cab characteristics of black currant,...</td>\n",
              "      <td>Kosher</td>\n",
              "      <td>84</td>\n",
              "      <td>15.0</td>\n",
              "      <td>NaN</td>\n",
              "      <td>NaN</td>\n",
              "      <td>Cabernet Sauvignon</td>\n",
              "      <td>Recanati</td>\n",
              "    </tr>\n",
              "    <tr>\n",
              "      <th>130521</th>\n",
              "      <td>Israel</td>\n",
              "      <td>With 16 months in French oak, this is a big wi...</td>\n",
              "      <td>Reserve Kosher</td>\n",
              "      <td>89</td>\n",
              "      <td>25.0</td>\n",
              "      <td>NaN</td>\n",
              "      <td>NaN</td>\n",
              "      <td>Cabernet Sauvignon</td>\n",
              "      <td>Recanati</td>\n",
              "    </tr>\n",
              "  </tbody>\n",
              "</table>\n",
              "<p>71 rows × 9 columns</p>\n",
              "</div>\n",
              "    <div class=\"colab-df-buttons\">\n",
              "\n",
              "  <div class=\"colab-df-container\">\n",
              "    <button class=\"colab-df-convert\" onclick=\"convertToInteractive('df-815e75d9-e962-406f-9298-356a350d8788')\"\n",
              "            title=\"Convert this dataframe to an interactive table.\"\n",
              "            style=\"display:none;\">\n",
              "\n",
              "  <svg xmlns=\"http://www.w3.org/2000/svg\" height=\"24px\" viewBox=\"0 -960 960 960\">\n",
              "    <path d=\"M120-120v-720h720v720H120Zm60-500h600v-160H180v160Zm220 220h160v-160H400v160Zm0 220h160v-160H400v160ZM180-400h160v-160H180v160Zm440 0h160v-160H620v160ZM180-180h160v-160H180v160Zm440 0h160v-160H620v160Z\"/>\n",
              "  </svg>\n",
              "    </button>\n",
              "\n",
              "  <style>\n",
              "    .colab-df-container {\n",
              "      display:flex;\n",
              "      gap: 12px;\n",
              "    }\n",
              "\n",
              "    .colab-df-convert {\n",
              "      background-color: #E8F0FE;\n",
              "      border: none;\n",
              "      border-radius: 50%;\n",
              "      cursor: pointer;\n",
              "      display: none;\n",
              "      fill: #1967D2;\n",
              "      height: 32px;\n",
              "      padding: 0 0 0 0;\n",
              "      width: 32px;\n",
              "    }\n",
              "\n",
              "    .colab-df-convert:hover {\n",
              "      background-color: #E2EBFA;\n",
              "      box-shadow: 0px 1px 2px rgba(60, 64, 67, 0.3), 0px 1px 3px 1px rgba(60, 64, 67, 0.15);\n",
              "      fill: #174EA6;\n",
              "    }\n",
              "\n",
              "    .colab-df-buttons div {\n",
              "      margin-bottom: 4px;\n",
              "    }\n",
              "\n",
              "    [theme=dark] .colab-df-convert {\n",
              "      background-color: #3B4455;\n",
              "      fill: #D2E3FC;\n",
              "    }\n",
              "\n",
              "    [theme=dark] .colab-df-convert:hover {\n",
              "      background-color: #434B5C;\n",
              "      box-shadow: 0px 1px 3px 1px rgba(0, 0, 0, 0.15);\n",
              "      filter: drop-shadow(0px 1px 2px rgba(0, 0, 0, 0.3));\n",
              "      fill: #FFFFFF;\n",
              "    }\n",
              "  </style>\n",
              "\n",
              "    <script>\n",
              "      const buttonEl =\n",
              "        document.querySelector('#df-815e75d9-e962-406f-9298-356a350d8788 button.colab-df-convert');\n",
              "      buttonEl.style.display =\n",
              "        google.colab.kernel.accessAllowed ? 'block' : 'none';\n",
              "\n",
              "      async function convertToInteractive(key) {\n",
              "        const element = document.querySelector('#df-815e75d9-e962-406f-9298-356a350d8788');\n",
              "        const dataTable =\n",
              "          await google.colab.kernel.invokeFunction('convertToInteractive',\n",
              "                                                    [key], {});\n",
              "        if (!dataTable) return;\n",
              "\n",
              "        const docLinkHtml = 'Like what you see? Visit the ' +\n",
              "          '<a target=\"_blank\" href=https://colab.research.google.com/notebooks/data_table.ipynb>data table notebook</a>'\n",
              "          + ' to learn more about interactive tables.';\n",
              "        element.innerHTML = '';\n",
              "        dataTable['output_type'] = 'display_data';\n",
              "        await google.colab.output.renderOutput(dataTable, element);\n",
              "        const docLink = document.createElement('div');\n",
              "        docLink.innerHTML = docLinkHtml;\n",
              "        element.appendChild(docLink);\n",
              "      }\n",
              "    </script>\n",
              "  </div>\n",
              "\n",
              "\n",
              "<div id=\"df-19cc210f-e854-4918-8a2e-f10a576845bf\">\n",
              "  <button class=\"colab-df-quickchart\" onclick=\"quickchart('df-19cc210f-e854-4918-8a2e-f10a576845bf')\"\n",
              "            title=\"Suggest charts\"\n",
              "            style=\"display:none;\">\n",
              "\n",
              "<svg xmlns=\"http://www.w3.org/2000/svg\" height=\"24px\"viewBox=\"0 0 24 24\"\n",
              "     width=\"24px\">\n",
              "    <g>\n",
              "        <path d=\"M19 3H5c-1.1 0-2 .9-2 2v14c0 1.1.9 2 2 2h14c1.1 0 2-.9 2-2V5c0-1.1-.9-2-2-2zM9 17H7v-7h2v7zm4 0h-2V7h2v10zm4 0h-2v-4h2v4z\"/>\n",
              "    </g>\n",
              "</svg>\n",
              "  </button>\n",
              "\n",
              "<style>\n",
              "  .colab-df-quickchart {\n",
              "      --bg-color: #E8F0FE;\n",
              "      --fill-color: #1967D2;\n",
              "      --hover-bg-color: #E2EBFA;\n",
              "      --hover-fill-color: #174EA6;\n",
              "      --disabled-fill-color: #AAA;\n",
              "      --disabled-bg-color: #DDD;\n",
              "  }\n",
              "\n",
              "  [theme=dark] .colab-df-quickchart {\n",
              "      --bg-color: #3B4455;\n",
              "      --fill-color: #D2E3FC;\n",
              "      --hover-bg-color: #434B5C;\n",
              "      --hover-fill-color: #FFFFFF;\n",
              "      --disabled-bg-color: #3B4455;\n",
              "      --disabled-fill-color: #666;\n",
              "  }\n",
              "\n",
              "  .colab-df-quickchart {\n",
              "    background-color: var(--bg-color);\n",
              "    border: none;\n",
              "    border-radius: 50%;\n",
              "    cursor: pointer;\n",
              "    display: none;\n",
              "    fill: var(--fill-color);\n",
              "    height: 32px;\n",
              "    padding: 0;\n",
              "    width: 32px;\n",
              "  }\n",
              "\n",
              "  .colab-df-quickchart:hover {\n",
              "    background-color: var(--hover-bg-color);\n",
              "    box-shadow: 0 1px 2px rgba(60, 64, 67, 0.3), 0 1px 3px 1px rgba(60, 64, 67, 0.15);\n",
              "    fill: var(--button-hover-fill-color);\n",
              "  }\n",
              "\n",
              "  .colab-df-quickchart-complete:disabled,\n",
              "  .colab-df-quickchart-complete:disabled:hover {\n",
              "    background-color: var(--disabled-bg-color);\n",
              "    fill: var(--disabled-fill-color);\n",
              "    box-shadow: none;\n",
              "  }\n",
              "\n",
              "  .colab-df-spinner {\n",
              "    border: 2px solid var(--fill-color);\n",
              "    border-color: transparent;\n",
              "    border-bottom-color: var(--fill-color);\n",
              "    animation:\n",
              "      spin 1s steps(1) infinite;\n",
              "  }\n",
              "\n",
              "  @keyframes spin {\n",
              "    0% {\n",
              "      border-color: transparent;\n",
              "      border-bottom-color: var(--fill-color);\n",
              "      border-left-color: var(--fill-color);\n",
              "    }\n",
              "    20% {\n",
              "      border-color: transparent;\n",
              "      border-left-color: var(--fill-color);\n",
              "      border-top-color: var(--fill-color);\n",
              "    }\n",
              "    30% {\n",
              "      border-color: transparent;\n",
              "      border-left-color: var(--fill-color);\n",
              "      border-top-color: var(--fill-color);\n",
              "      border-right-color: var(--fill-color);\n",
              "    }\n",
              "    40% {\n",
              "      border-color: transparent;\n",
              "      border-right-color: var(--fill-color);\n",
              "      border-top-color: var(--fill-color);\n",
              "    }\n",
              "    60% {\n",
              "      border-color: transparent;\n",
              "      border-right-color: var(--fill-color);\n",
              "    }\n",
              "    80% {\n",
              "      border-color: transparent;\n",
              "      border-right-color: var(--fill-color);\n",
              "      border-bottom-color: var(--fill-color);\n",
              "    }\n",
              "    90% {\n",
              "      border-color: transparent;\n",
              "      border-bottom-color: var(--fill-color);\n",
              "    }\n",
              "  }\n",
              "</style>\n",
              "\n",
              "  <script>\n",
              "    async function quickchart(key) {\n",
              "      const quickchartButtonEl =\n",
              "        document.querySelector('#' + key + ' button');\n",
              "      quickchartButtonEl.disabled = true;  // To prevent multiple clicks.\n",
              "      quickchartButtonEl.classList.add('colab-df-spinner');\n",
              "      try {\n",
              "        const charts = await google.colab.kernel.invokeFunction(\n",
              "            'suggestCharts', [key], {});\n",
              "      } catch (error) {\n",
              "        console.error('Error during call to suggestCharts:', error);\n",
              "      }\n",
              "      quickchartButtonEl.classList.remove('colab-df-spinner');\n",
              "      quickchartButtonEl.classList.add('colab-df-quickchart-complete');\n",
              "    }\n",
              "    (() => {\n",
              "      let quickchartButtonEl =\n",
              "        document.querySelector('#df-19cc210f-e854-4918-8a2e-f10a576845bf button');\n",
              "      quickchartButtonEl.style.display =\n",
              "        google.colab.kernel.accessAllowed ? 'block' : 'none';\n",
              "    })();\n",
              "  </script>\n",
              "</div>\n",
              "\n",
              "  <div id=\"id_6c95b945-8fb3-448e-9c9e-cb271ea50d0b\">\n",
              "    <style>\n",
              "      .colab-df-generate {\n",
              "        background-color: #E8F0FE;\n",
              "        border: none;\n",
              "        border-radius: 50%;\n",
              "        cursor: pointer;\n",
              "        display: none;\n",
              "        fill: #1967D2;\n",
              "        height: 32px;\n",
              "        padding: 0 0 0 0;\n",
              "        width: 32px;\n",
              "      }\n",
              "\n",
              "      .colab-df-generate:hover {\n",
              "        background-color: #E2EBFA;\n",
              "        box-shadow: 0px 1px 2px rgba(60, 64, 67, 0.3), 0px 1px 3px 1px rgba(60, 64, 67, 0.15);\n",
              "        fill: #174EA6;\n",
              "      }\n",
              "\n",
              "      [theme=dark] .colab-df-generate {\n",
              "        background-color: #3B4455;\n",
              "        fill: #D2E3FC;\n",
              "      }\n",
              "\n",
              "      [theme=dark] .colab-df-generate:hover {\n",
              "        background-color: #434B5C;\n",
              "        box-shadow: 0px 1px 3px 1px rgba(0, 0, 0, 0.15);\n",
              "        filter: drop-shadow(0px 1px 2px rgba(0, 0, 0, 0.3));\n",
              "        fill: #FFFFFF;\n",
              "      }\n",
              "    </style>\n",
              "    <button class=\"colab-df-generate\" onclick=\"generateWithVariable('israeli_wines')\"\n",
              "            title=\"Generate code using this dataframe.\"\n",
              "            style=\"display:none;\">\n",
              "\n",
              "  <svg xmlns=\"http://www.w3.org/2000/svg\" height=\"24px\"viewBox=\"0 0 24 24\"\n",
              "       width=\"24px\">\n",
              "    <path d=\"M7,19H8.4L18.45,9,17,7.55,7,17.6ZM5,21V16.75L18.45,3.32a2,2,0,0,1,2.83,0l1.4,1.43a1.91,1.91,0,0,1,.58,1.4,1.91,1.91,0,0,1-.58,1.4L9.25,21ZM18.45,9,17,7.55Zm-12,3A5.31,5.31,0,0,0,4.9,8.1,5.31,5.31,0,0,0,1,6.5,5.31,5.31,0,0,0,4.9,4.9,5.31,5.31,0,0,0,6.5,1,5.31,5.31,0,0,0,8.1,4.9,5.31,5.31,0,0,0,12,6.5,5.46,5.46,0,0,0,6.5,12Z\"/>\n",
              "  </svg>\n",
              "    </button>\n",
              "    <script>\n",
              "      (() => {\n",
              "      const buttonEl =\n",
              "        document.querySelector('#id_6c95b945-8fb3-448e-9c9e-cb271ea50d0b button.colab-df-generate');\n",
              "      buttonEl.style.display =\n",
              "        google.colab.kernel.accessAllowed ? 'block' : 'none';\n",
              "\n",
              "      buttonEl.onclick = () => {\n",
              "        google.colab.notebook.generateWithVariable('israeli_wines');\n",
              "      }\n",
              "      })();\n",
              "    </script>\n",
              "  </div>\n",
              "\n",
              "    </div>\n",
              "  </div>\n"
            ],
            "application/vnd.google.colaboratory.intrinsic+json": {
              "type": "dataframe",
              "variable_name": "israeli_wines",
              "summary": "{\n  \"name\": \"israeli_wines\",\n  \"rows\": 71,\n  \"fields\": [\n    {\n      \"column\": \"country\",\n      \"properties\": {\n        \"dtype\": \"category\",\n        \"num_unique_values\": 1,\n        \"samples\": [\n          \"Israel\"\n        ],\n        \"semantic_type\": \"\",\n        \"description\": \"\"\n      }\n    },\n    {\n      \"column\": \"description\",\n      \"properties\": {\n        \"dtype\": \"string\",\n        \"num_unique_values\": 71,\n        \"samples\": [\n          \"Brambly blackberry and cassis fruit dominates the overall character of this wine, with additional hints of cedary spice and black tea leaves unfolding in the background. A touch of cocoa flavor dusts the medium-length finish, while soft tannins and medium acidity make this an easy drinker now.\"\n        ],\n        \"semantic_type\": \"\",\n        \"description\": \"\"\n      }\n    },\n    {\n      \"column\": \"designation\",\n      \"properties\": {\n        \"dtype\": \"category\",\n        \"num_unique_values\": 35,\n        \"samples\": [\n          \"Appellation Kosher\"\n        ],\n        \"semantic_type\": \"\",\n        \"description\": \"\"\n      }\n    },\n    {\n      \"column\": \"points\",\n      \"properties\": {\n        \"dtype\": \"number\",\n        \"std\": 2,\n        \"min\": 80,\n        \"max\": 91,\n        \"num_unique_values\": 9,\n        \"samples\": [\n          84\n        ],\n        \"semantic_type\": \"\",\n        \"description\": \"\"\n      }\n    },\n    {\n      \"column\": \"price\",\n      \"properties\": {\n        \"dtype\": \"number\",\n        \"std\": 16.61526806485929,\n        \"min\": 12.0,\n        \"max\": 75.0,\n        \"num_unique_values\": 31,\n        \"samples\": [\n          14.0\n        ],\n        \"semantic_type\": \"\",\n        \"description\": \"\"\n      }\n    },\n    {\n      \"column\": \"region_1\",\n      \"properties\": {\n        \"dtype\": \"number\",\n        \"std\": null,\n        \"min\": null,\n        \"max\": null,\n        \"num_unique_values\": 0,\n        \"samples\": [],\n        \"semantic_type\": \"\",\n        \"description\": \"\"\n      }\n    },\n    {\n      \"column\": \"region_2\",\n      \"properties\": {\n        \"dtype\": \"number\",\n        \"std\": null,\n        \"min\": null,\n        \"max\": null,\n        \"num_unique_values\": 0,\n        \"samples\": [],\n        \"semantic_type\": \"\",\n        \"description\": \"\"\n      }\n    },\n    {\n      \"column\": \"variety\",\n      \"properties\": {\n        \"dtype\": \"category\",\n        \"num_unique_values\": 1,\n        \"samples\": [],\n        \"semantic_type\": \"\",\n        \"description\": \"\"\n      }\n    },\n    {\n      \"column\": \"winery\",\n      \"properties\": {\n        \"dtype\": \"category\",\n        \"num_unique_values\": 14,\n        \"samples\": [],\n        \"semantic_type\": \"\",\n        \"description\": \"\"\n      }\n    }\n  ]\n}"
            }
          },
          "metadata": {},
          "execution_count": 3
        }
      ]
    },
    {
      "cell_type": "markdown",
      "id": "681a4aa8",
      "metadata": {
        "id": "681a4aa8"
      },
      "source": [
        "1. Plot the boxplot with ``winery`` as the x-axis and ``points`` as the y-axis.\n",
        "2. Use ANOVA to figure out whether some wineries make better Cabernets than others; print the ANOVA table and explain your conclusion.\n",
        "\n",
        "3. **Multiple Comparisons**. Find which wineries have Cabernets ranked higher than others:\n",
        "\n",
        "    3.1. Run all t-tests of pairs of wineries; how many of the test's P-values fall below 0.05? Is it more than what expceted if all tests are null?\n",
        "\n",
        "    3.2. Use Bonferroni's method to decide which wineries ranked significantly higher than others by reporting on the list of pairs whose P-value is significant after Bonferroni's correction. Also indicate which one is ranked higher out of each pair.\n",
        "\n",
        "4. **Contrasts**. Using a single t-test, test the assumption that Cabernets in the Golan area wineries: ``Bazelet HaGolan``, ``Golan Heights Winery`` have the same quality as Judean Hills area wineries: ``Katlav``, ``Psagot``, ``Shiloh Winery``, ``Titora``, ``Yatir``. Assume that the variance of all wineries in the data is the same (not only the two involved in the comparison).\n",
        "\n",
        "5. **Multiple Comparisons and FDR**.\n",
        "Consider P-values from all t-tests of pairs of wineries.\n",
        "\n",
        "    5.1. Sort the P-values from small to large and plot the smallest 10% of the sorted list of P-values on a stem or a scatter plot in which the x-axis indicates the P-value rank (left most point is rank = 1, i.e., the smallest) and the y-axis the P-value's value.\n",
        "\n",
        "    5.2. Assume that different tests are independent; apply BH to select a set of winery pairs in which one winery is significantly better than the others while aiming for 0.05 false pairs. How many pairs were reported? is it more or less pairs than you discovered using Bonfferoni correction\n",
        "\n",
        "    5.3. Repeat the last item without the independence assumption, i.e., use the harmonic sum correction.\n",
        "\n",
        "The point: FDR controlling using BH is a more liberal (less conservative) approach to identify significant discoveries in the sense that it allows us to report on more discoveries if we are willing to replace family-wise error rate control with an expected false-discovery proportion guarantee.  \n"
      ]
    },
    {
      "cell_type": "markdown",
      "source": [
        "###(1)\n",
        "Plot the boxplot with ``winery`` as the x-axis and ``points`` as the y-axis."
      ],
      "metadata": {
        "id": "ESHMYbHMYkHF"
      },
      "id": "ESHMYbHMYkHF"
    },
    {
      "cell_type": "code",
      "source": [
        "plt.figure(figsize=(12, 6))\n",
        "sns.boxplot(data=israeli_wines, x='winery', y='points', palette=\"Set3\")\n",
        "plt.title('Boxplot of Wine Points by Winery')\n",
        "plt.xlabel('Winery')\n",
        "plt.ylabel('Points')\n",
        "plt.xticks(rotation=45)\n",
        "plt.tight_layout()\n",
        "plt.show()"
      ],
      "metadata": {
        "colab": {
          "base_uri": "https://localhost:8080/",
          "height": 714
        },
        "id": "xG5BNNPPYjaD",
        "outputId": "1e61a487-3791-480d-a9ed-23a490dffc55"
      },
      "id": "xG5BNNPPYjaD",
      "execution_count": 4,
      "outputs": [
        {
          "output_type": "stream",
          "name": "stderr",
          "text": [
            "<ipython-input-4-374c1210cfca>:2: FutureWarning: \n",
            "\n",
            "Passing `palette` without assigning `hue` is deprecated and will be removed in v0.14.0. Assign the `x` variable to `hue` and set `legend=False` for the same effect.\n",
            "\n",
            "  sns.boxplot(data=israeli_wines, x='winery', y='points', palette=\"Set3\")\n"
          ]
        },
        {
          "output_type": "display_data",
          "data": {
            "text/plain": [
              "<Figure size 1200x600 with 1 Axes>"
            ],
            "image/png": "[encoded data removed]"
          },
          "metadata": {}
        }
      ]
    },
    {
      "cell_type": "markdown",
      "source": [
        "### (2)\n",
        "\n",
        "Use ANOVA to figure out whether some wineries make better Cabernets than others"
      ],
      "metadata": {
        "id": "gAopEXUPZgDE"
      },
      "id": "gAopEXUPZgDE"
    },
    {
      "cell_type": "code",
      "source": [
        "IL_cabernet_df = israeli_wines[israeli_wines['variety'] == 'Cabernet Sauvignon']\n",
        "\n",
        "# ANOVA\n",
        "anova_model = ols('points ~ winery', data=IL_cabernet_df).fit()\n",
        "anova_table = sm.stats.anova_lm(anova_model, typ=2)\n",
        "\n",
        "print(anova_table)"
      ],
      "metadata": {
        "colab": {
          "base_uri": "https://localhost:8080/"
        },
        "id": "SFHp-j0SZnie",
        "outputId": "9f10be54-7842-4029-a721-91b06474737b"
      },
      "id": "SFHp-j0SZnie",
      "execution_count": 5,
      "outputs": [
        {
          "output_type": "stream",
          "name": "stdout",
          "text": [
            "              sum_sq    df        F   PR(>F)\n",
            "winery     83.235762  13.0  1.33827  0.21891\n",
            "Residual  272.707900  57.0      NaN      NaN\n"
          ]
        }
      ]
    },
    {
      "cell_type": "markdown",
      "source": [
        "The $p-value = 0.236$ is greater than the typical significance threshold $α = 0.05$, which means there is not enough evidence to reject H₀.\n",
        "\n",
        "Since we are not rejecting H₀, the conclusion is that the data does not provide sufficient evidence to claim that some wineries produce significantly better Cabernet Sauvignon wines than others. This does not prove H₀ to be true, but rather that the evidence is not strong enough to reject it."
      ],
      "metadata": {
        "id": "9yWcTgAIZnHK"
      },
      "id": "9yWcTgAIZnHK"
    },
    {
      "cell_type": "markdown",
      "source": [
        "### (3.1)\n"
      ],
      "metadata": {
        "id": "06_Ch5qobL-G"
      },
      "id": "06_Ch5qobL-G"
    },
    {
      "cell_type": "code",
      "source": [
        "# find unique wineries name\n",
        "wineries = IL_cabernet_df['winery'].unique()\n",
        "\n",
        "# pairwise t-tests\n",
        "pairs = list(combinations(wineries, 2))\n",
        "p_values = []\n",
        "significant_pairs = []\n",
        "\n",
        "for winery1, winery2 in pairs:\n",
        "    group1 = IL_cabernet_df[IL_cabernet_df['winery'] == winery1]['points']\n",
        "    group2 = IL_cabernet_df[IL_cabernet_df['winery'] == winery2]['points']\n",
        "    t_stat, p_value = ttest_ind(group1, group2, equal_var=True)\n",
        "    p_values.append((winery1, winery2, p_value))\n",
        "    if p_value < 0.05:\n",
        "        significant_pairs.append((winery1, winery2, p_value))\n",
        "\n",
        "count_p_below_05 = sum(1 for _, _, p in p_values if p < 0.05)\n",
        "\n",
        "# expected number of false positives if null hypothesis holds for all tests\n",
        "expected_false_positives = 0.05 * len(pairs)"
      ],
      "metadata": {
        "colab": {
          "base_uri": "https://localhost:8080/"
        },
        "id": "5VMaRDhrbq1n",
        "outputId": "31732885-37ba-4e0b-83d7-5f70303c3bc4"
      },
      "id": "5VMaRDhrbq1n",
      "execution_count": 6,
      "outputs": [
        {
          "output_type": "stream",
          "name": "stderr",
          "text": [
            "/usr/local/lib/python3.10/dist-packages/scipy/stats/_axis_nan_policy.py:531: RuntimeWarning: Precision loss occurred in moment calculation due to catastrophic cancellation. This occurs when the data are nearly identical. Results may be unreliable.\n",
            "  res = hypotest_fun_out(*samples, **kwds)\n"
          ]
        }
      ]
    },
    {
      "cell_type": "code",
      "source": [
        "print(f\"Number of p-values below 0.05: {count_p_below_05}\")\n",
        "print(f\"Expected number of false positives if null hypothesis holds for all tests: {expected_false_positives}\")\n",
        "print(f\"Is Observed > Expected? {'Yes' if count_p_below_05 > expected_false_positives else 'No'}\")"
      ],
      "metadata": {
        "colab": {
          "base_uri": "https://localhost:8080/"
        },
        "id": "YgdPtLCIdETK",
        "outputId": "881f232d-7e6c-4c30-aa12-1617e8a1d1ec"
      },
      "id": "YgdPtLCIdETK",
      "execution_count": 7,
      "outputs": [
        {
          "output_type": "stream",
          "name": "stdout",
          "text": [
            "Number of p-values below 0.05: 4\n",
            "Expected number of false positives if null hypothesis holds for all tests: 4.55\n",
            "Is Observed > Expected? No\n"
          ]
        }
      ]
    },
    {
      "cell_type": "markdown",
      "source": [
        "### (3.2)"
      ],
      "metadata": {
        "id": "9j2iUxZMhdaB"
      },
      "id": "9j2iUxZMhdaB"
    },
    {
      "cell_type": "code",
      "source": [
        "# bonferroni correction\n",
        "alpha = 0.05\n",
        "bonferroni_threshold = alpha / len(pairs)\n",
        "bonferroni_significant_pairs = [\n",
        "    (winery1, winery2, p_value)\n",
        "    for winery1, winery2, p_value in p_values\n",
        "    if p_value < bonferroni_threshold\n",
        "]\n",
        "\n",
        "results_df = pd.DataFrame(p_values, columns=[\"Winery 1\", \"Winery 2\", \"P-value\"])\n",
        "bonferroni_df = pd.DataFrame(\n",
        "    bonferroni_significant_pairs, columns=[\"Winery 1\", \"Winery 2\", \"P-value\"]\n",
        ")\n",
        "\n",
        "print(\"Pairwise T-Test Results:\")\n",
        "print(results_df.head())\n",
        "print(\"\\nSignificant Pairs After Bonferroni Correction:\")\n",
        "print(bonferroni_df)"
      ],
      "metadata": {
        "colab": {
          "base_uri": "https://localhost:8080/"
        },
        "id": "rFkL-vqYbZY6",
        "outputId": "914ca658-7d6f-4dc7-fe70-c5e624795001"
      },
      "id": "rFkL-vqYbZY6",
      "execution_count": 8,
      "outputs": [
        {
          "output_type": "stream",
          "name": "stdout",
          "text": [
            "Pairwise T-Test Results:\n",
            "    Winery 1         Winery 2   P-value\n",
            "0  Binyamina  Bazelet HaGolan  0.244661\n",
            "1  Binyamina          Segal's  0.780487\n",
            "2  Binyamina            Tabor  0.802610\n",
            "3  Binyamina            Yatir  0.523598\n",
            "4  Binyamina           Carmel  0.653384\n",
            "\n",
            "Significant Pairs After Bonferroni Correction:\n",
            "Empty DataFrame\n",
            "Columns: [Winery 1, Winery 2, P-value]\n",
            "Index: []\n"
          ]
        }
      ]
    },
    {
      "cell_type": "code",
      "source": [
        "sorted_p_values = results_df[\"P-value\"].sort_values().reset_index(drop=True)\n",
        "\n",
        "plt.figure(figsize=(8, 6))\n",
        "plt.plot(sorted_p_values, marker=\"o\",markersize=2 ,color ='lightgray',linestyle=\"\", label=\"p-values\")\n",
        "plt.axhline(0.05, color=\"lightpink\", linestyle=\"--\", label=\"p = 0.05 (Unadjusted)\")\n",
        "plt.axhline(bonferroni_threshold, color=\"c\", linestyle=\"--\", label=f\"Bonferroni Threshold ({bonferroni_threshold:.5f})\")\n",
        "plt.title(\"Sorted P-Values with Significance Thresholds\")\n",
        "plt.xlabel(\"Test #\")\n",
        "plt.ylabel(\"P-value\")\n",
        "plt.legend()\n",
        "plt.show()"
      ],
      "metadata": {
        "colab": {
          "base_uri": "https://localhost:8080/",
          "height": 564
        },
        "id": "XVimGAQQgZ8C",
        "outputId": "346be395-1c76-43b2-f0d0-42ba10e7daba"
      },
      "id": "XVimGAQQgZ8C",
      "execution_count": 9,
      "outputs": [
        {
          "output_type": "display_data",
          "data": {
            "text/plain": [
              "<Figure size 800x600 with 1 Axes>"
            ],
            "image/png": "[encoded data removed]"
          },
          "metadata": {}
        }
      ]
    },
    {
      "cell_type": "markdown",
      "source": [
        "\n",
        "As shown in the results and the plot above we can conclude that after adjusting for multiple comparisons using Bonferroni correction, there is no evidence to suggest that any pair of wineries produces \"Cabernet Sauvignon\" wines with significantly different quality scores. However, under less stringent criteria ($p=0.05$), some pairs ($=4$) may have appeared significant.\n"
      ],
      "metadata": {
        "id": "9v4aHBgrhfqx"
      },
      "id": "9v4aHBgrhfqx"
    },
    {
      "cell_type": "markdown",
      "source": [
        "### (4)"
      ],
      "metadata": {
        "id": "BFZCppThi_8w"
      },
      "id": "BFZCppThi_8w"
    },
    {
      "cell_type": "code",
      "source": [
        "# region\n",
        "golan_wineries_names = ['Bazelet HaGolan', 'Golan Heights Winery']\n",
        "judean_wineries_names = ['Katlav', 'Psagot', 'Shiloh Winery', 'Titora', 'Yatir']\n",
        "\n",
        "# filter data for each region\n",
        "golan_wineries = israeli_wines[israeli_wines['winery'].isin(golan_wineries_names)]\n",
        "judean_wineries = israeli_wines[israeli_wines['winery'].isin(judean_wineries_names)]\n",
        "\n",
        "# calc num of unique wineries in each region\n",
        "k1 = golan_wineries['winery'].nunique()\n",
        "k2 = judean_wineries['winery'].nunique()\n",
        "\n",
        "# calc the weighted means for each region\n",
        "g1 = golan_wineries.groupby('winery')['points'].mean().sum() / k1\n",
        "g2 = judean_wineries.groupby('winery')['points'].mean().sum() / k2\n",
        "\n",
        "# total observations and unique wineries\n",
        "n = len(golan_wineries) + len(judean_wineries)\n",
        "k = k1 + k2\n",
        "\n",
        "ss_wit = ((golan_wineries['points'] - golan_wineries['points'].mean())**2).sum() + \\\n",
        "         ((judean_wineries['points'] - judean_wineries['points'].mean())**2).sum()\n",
        "s = np.sqrt(ss_wit / (n - k))\n",
        "\n",
        "# calc the t-statistic\n",
        "t_stat = (g1 - g2) / (s * np.sqrt(\n",
        "    (1 / k1 ** 2) * sum(1 / golan_wineries['winery'].value_counts()) +\n",
        "    (1 / k2 ** 2) * sum(1 / judean_wineries['winery'].value_counts())\n",
        "))\n",
        "\n",
        "p_value = 2 * (1 - scipy.stats.t.cdf(np.abs(t_stat), n - k))  # Two-tailed test"
      ],
      "metadata": {
        "id": "_pjGo4_mCyvE"
      },
      "id": "_pjGo4_mCyvE",
      "execution_count": 10,
      "outputs": []
    },
    {
      "cell_type": "code",
      "source": [
        "print(f\"T-statistic: {t_stat:.2f}\")\n",
        "print(f\"P-value: {p_value:.4f}\")\n",
        "\n",
        "# Conclusion\n",
        "alpha = 0.05\n",
        "if p_value < alpha:\n",
        "    print(\"Reject the null hypothesis: The two regions have significantly different wine quality.\")\n",
        "else:\n",
        "    print(\"Fail to reject the null hypothesis: No significant difference in wine quality between the two regions.\")"
      ],
      "metadata": {
        "colab": {
          "base_uri": "https://localhost:8080/"
        },
        "id": "adL9Dka_EVjZ",
        "outputId": "b9b179a7-8465-416c-ffbf-c3d458323bf4"
      },
      "id": "adL9Dka_EVjZ",
      "execution_count": 11,
      "outputs": [
        {
          "output_type": "stream",
          "name": "stdout",
          "text": [
            "T-statistic: 0.23\n",
            "P-value: 0.8238\n",
            "Fail to reject the null hypothesis: No significant difference in wine quality between the two regions.\n"
          ]
        }
      ]
    },
    {
      "cell_type": "markdown",
      "source": [
        "Since the p-value is greater than $\\alpha = 0.05$, we fail to reject the null hypothesis. This means there is no statistically significant evidence to suggest a difference in the quality of Cabernets produced by wineries in the Golan area and the Judean Hills.\n",
        "\n",
        "The test indicates that any observed differences in wine quality between the two regions are likely due to random variation rather than a meaningful or systematic difference in quality. Therefore, for this dataset and analysis, it can be concluded that Cabernets from the Golan area wineries and Judean Hills wineries have similar quality ratings.\n",
        "\n",
        "\n"
      ],
      "metadata": {
        "id": "GpIN7k00ju6O"
      },
      "id": "GpIN7k00ju6O"
    },
    {
      "cell_type": "markdown",
      "source": [
        "### (5.1)\n",
        "\n",
        "plot the smallest 10% of the sorted p-values"
      ],
      "metadata": {
        "id": "78js-HRTklTN"
      },
      "id": "78js-HRTklTN"
    },
    {
      "cell_type": "code",
      "source": [
        "sorted_p_values = results_df[\"P-value\"].sort_values()\n",
        "top_10_percent_p_values = sorted_p_values[: int(len(sorted_p_values) * 0.1)]\n",
        "\n",
        "ranks = range(1, len(top_10_percent_p_values) + 1)\n",
        "\n",
        "plt.figure(figsize=(8, 6))\n",
        "plt.stem(\n",
        "    ranks,\n",
        "    top_10_percent_p_values,\n",
        "    linefmt=\"c\",\n",
        "    markerfmt=\"c\",\n",
        "    basefmt=\" \"\n",
        ")\n",
        "plt.title(\"Smallest 10% of Sorted P-Values\", fontsize=14)\n",
        "plt.xlabel(\"P-value Rank\", fontsize=12)\n",
        "plt.ylabel(\"P-value\", fontsize=12)\n",
        "plt.grid(axis=\"y\", linestyle=\"--\", alpha=0.7)\n",
        "plt.tight_layout()\n",
        "plt.show()"
      ],
      "metadata": {
        "colab": {
          "base_uri": "https://localhost:8080/",
          "height": 607
        },
        "id": "BFfFxrZqGCW1",
        "outputId": "2c41b37b-3a45-45d9-eab7-f0fe4e25336d"
      },
      "id": "BFfFxrZqGCW1",
      "execution_count": 12,
      "outputs": [
        {
          "output_type": "display_data",
          "data": {
            "text/plain": [
              "<Figure size 800x600 with 1 Axes>"
            ],
            "image/png": "[encoded data removed]"
          },
          "metadata": {}
        }
      ]
    },
    {
      "cell_type": "markdown",
      "source": [
        "### (5.2)\n",
        "\n",
        "apply Benjamini-Hochberg correction (assuming independence)"
      ],
      "metadata": {
        "id": "Xf_n-qJrlQCF"
      },
      "id": "Xf_n-qJrlQCF"
    },
    {
      "cell_type": "code",
      "source": [
        "m = len(sorted_p_values)\n",
        "\n",
        "bh_thresholds = np.array([0.05 * (i / m) for i in range(1, m + 1)])\n",
        "\n",
        "# comper sorted P-values to BH th\n",
        "bh_significant = sorted_p_values <= bh_thresholds\n",
        "\n",
        "# count the num of significant pairs under BH\n",
        "bh_significant_count = np.sum(bh_significant)\n",
        "\n",
        "print(f'The number of significant pairs under BH: {bh_significant_count}')"
      ],
      "metadata": {
        "colab": {
          "base_uri": "https://localhost:8080/"
        },
        "id": "ijcuStibHdTp",
        "outputId": "7d17053b-7f39-477e-af63-4abb3504fd0a"
      },
      "id": "ijcuStibHdTp",
      "execution_count": 13,
      "outputs": [
        {
          "output_type": "stream",
          "name": "stdout",
          "text": [
            "The number of significant pairs under BH: 0\n"
          ]
        }
      ]
    },
    {
      "cell_type": "markdown",
      "source": [
        "Bonferroni Correction: identified 0 pairs as significant due to its strict TH.\n",
        "Benjamini-Hochberg : that is typically less conservative, but also identified 0 pairs because the p-values were not small enough."
      ],
      "metadata": {
        "id": "tsknb1WLor4b"
      },
      "id": "tsknb1WLor4b"
    },
    {
      "cell_type": "markdown",
      "source": [
        "### (5.3)\n",
        "\n",
        "apply harmonic sum correction (without independence assumption)"
      ],
      "metadata": {
        "id": "GVCiORvmnuoZ"
      },
      "id": "GVCiORvmnuoZ"
    },
    {
      "cell_type": "code",
      "source": [
        "harmonic_numbers = np.cumsum(1 / np.arange(1, m + 1))\n",
        "harmonic_thresholds = [0.05 / (m * h) for h in harmonic_numbers]\n",
        "harmonic_significant = sorted_p_values <= harmonic_thresholds\n",
        "\n",
        "# calc the num of significant pairs under harmonic correction\n",
        "harmonic_significant_count = harmonic_significant.sum()\n",
        "print(f'the num of significant pairs under harmonic correction :{harmonic_significant_count}')"
      ],
      "metadata": {
        "colab": {
          "base_uri": "https://localhost:8080/"
        },
        "id": "XgVNXbGinwqV",
        "outputId": "6770548e-4112-4c23-a707-e38d7e648d77"
      },
      "id": "XgVNXbGinwqV",
      "execution_count": 14,
      "outputs": [
        {
          "output_type": "stream",
          "name": "stdout",
          "text": [
            "the num of significant pairs under harmonic correction :0\n"
          ]
        }
      ]
    },
    {
      "cell_type": "markdown",
      "source": [
        "Harmonic Correction that is even stricter, leading to the same result as BH and\n",
        "Bonferroni.\n",
        "\n",
        "This means that the winery pairs do not exhibit sufficiently strong statistical differences to meet the stringent thresholds of these corrections.\n"
      ],
      "metadata": {
        "id": "Uwgx7T3aoqEx"
      },
      "id": "Uwgx7T3aoqEx"
    },
    {
      "cell_type": "markdown",
      "id": "f38c4d4f",
      "metadata": {
        "id": "f38c4d4f"
      },
      "source": [
        "## Problem 2: Exact size of Bonferroni's test\n",
        "Suppose that we run multiple tests, each against $H_{0i}$ for $i=1,\\ldots,n$, with independent data and obtain P-values $p_1,\\ldots,p_n$. We wish to test the null hypothesis:\n",
        "$$\n",
        "H_0\\,:\\,\\text{All tests are null} = \\cap_{i=1}^n H_{0i}\n",
        "$$\n",
        "at the level $\\alpha$ (e.g., $\\alpha=0.05$). In class, we introduced Bonferroni's procedure that guarantees a test of size $\\alpha$ regardless of whether the hypotheses are independent or not. This means that $\\alpha$ bounds the probability of falsely rejecting $H_0$ form above.\n",
        "\n",
        "1. Argue that Bonferroni's procedure is equivalent to rejecting $H_0$ if $\\min p_i \\leq \\alpha/n$.\n",
        "2. Assuming that the hypotheses are independent, find the exact size of the test in Bonferroni's procedure. Namely, a better (smaller) upper bound on the test's size than $\\alpha$.\n",
        "3. For $\\alpha=0.05$, evaluate the difference between $\\alpha$ and the exact test's size for $n=2,...,50$. Discuss what you see.\n",
        "\n"
      ]
    },
    {
      "cell_type": "markdown",
      "source": [
        "### **Answer 2:**"
      ],
      "metadata": {
        "id": "xDuMLEqXolPb"
      },
      "id": "xDuMLEqXolPb"
    },
    {
      "cell_type": "markdown",
      "source": [
        "### (1)\n",
        "\n",
        "We will show that Bonferroni's procedure is equivalent to rejecting $H_0$ if $\\min p_i \\leq \\alpha/n$.\n",
        "\n",
        "\n",
        "As we know, the BP adjusts the $α$ for multiple testing to control the FWER at $α$. For each individual null hypothesis $H_{0i}$ is tested at the sl of $\\frac{α}{n}$\n",
        "\n",
        "$$H_0 \\ is \\ rejected \\ if \\ p_i \\leq\\frac{α}{n} $$\n",
        "\n",
        "This procedure ensures that the probability of falsely rejecting any individual null hypothesis is controlled at $\\frac{α}{n}$.\n",
        "\n",
        "All null hypothesis states that all individual null hypotheses are true:\n",
        "\n",
        "$$H_0\\,:\\,\\text{All tests are null} = \\cap_{i=1}^n H_{0i}$$\n",
        "\n",
        "To rejcet $H_0$ we need at lease one null hypothesis $H_{0i}$ to reject, that means that\n",
        "$$min \\ p_i \\leq \\frac{α}{n}$$.\n",
        "\n",
        "The BP ensures that $H_0$ is rejected if $min \\ p_i \\leq \\frac{α}{n}$, controlling the FWER at $α$. This is the same since the procedure requiring all individual tests to be evaluated at a significance level of  $\\frac{α}{n}$ ensures that the total null is only rejected when the smallest p-value meets this threshold.\n",
        "\n",
        "\n"
      ],
      "metadata": {
        "id": "7wkGcKLhpah2"
      },
      "id": "7wkGcKLhpah2"
    },
    {
      "cell_type": "markdown",
      "source": [
        "### (2)\n",
        "\n",
        "Assuming that the hypotheses are independent, find the exact size of the test in Bonferroni's procedure. Namely, a better (smaller) upper bound on the test's size than $\\alpha$.\n",
        "\n",
        "Lets define $p_1,...,p-_n$ as the $p-value$ of n independent hypothesis tests, and $H_0i$ represents the null hypothesis for the i-th test. And for the total tests we define $H_0\\,:\\,\\text{All tests are null} = \\cap_{i=1}^n H_{0i}$.\n",
        "\n",
        "$$ P(reject H_0 | H_0 \\ is \\ true) = P(min \\ p_i \\leq \\frac{α}{n})$$\n",
        "\n",
        "For each test the the prob that $\\ p_i > \\frac{α}{n}$ is:\n",
        "\n",
        "$$P( p_i > \\frac{α}{n}) = 1 - \\frac{α}{n} $$\n",
        "\n",
        "Using the independency we get:\n",
        "\n",
        "$$P(\\ All \\ p_i > \\frac{α}{n}) = (1 - \\frac{α}{n})^n $$\n",
        "\n",
        "The prob to reject $H_0$ is complementry:\n",
        "\n",
        "$$P(reject H_0) = 1 - (1 - \\frac{α}{n})^n $$\n",
        "\n",
        "The BP guarantees that $P(reject H_0) \\leq α$\n",
        "\n",
        "but with independence assuption, the exact size of the test is smaller because:\n",
        "\n",
        "$$ 1 - (1 - \\frac{α}{n})^n \\leq α$$\n",
        "\n",
        "Now we will use the large num role:\n",
        "\n",
        "For large number of n we get that $(1 - \\frac{α}{n})^n$ is approxamtly $e^{-α}$\n",
        "\n",
        "From all of the above we get the aprox of the test size:\n",
        "\n",
        "$$ 1- e^{-a} $$\n"
      ],
      "metadata": {
        "id": "phuChjt5xZoM"
      },
      "id": "phuChjt5xZoM"
    },
    {
      "cell_type": "markdown",
      "source": [
        "### (3)\n",
        "\n",
        "For $\\alpha=0.05$, evaluate the difference between $\\alpha$ and the exact test's size for $n=2,...,50$. Discuss what you see.\n"
      ],
      "metadata": {
        "id": "d4j-lDUVx4c0"
      },
      "id": "d4j-lDUVx4c0"
    },
    {
      "cell_type": "code",
      "source": [
        "# params\n",
        "alpha = 0.05\n",
        "n_values = np.arange(2, 51)\n",
        "\n",
        "# calc exact size of the test for each n and the diff\n",
        "exact_sizes = [1 - (1 - alpha / n)**n for n in n_values]\n",
        "differences = alpha - np.array(exact_sizes)"
      ],
      "metadata": {
        "id": "tX-7DEMNyAH_"
      },
      "id": "tX-7DEMNyAH_",
      "execution_count": 15,
      "outputs": []
    },
    {
      "cell_type": "code",
      "source": [
        "plt.figure(figsize=(10, 6))\n",
        "plt.plot(n_values, differences, marker=\"o\",markersize=5 ,color='c' ,label=\"Difference (α - Exact Size)\")\n",
        "plt.axhline(0, color=\"pink\", linestyle=\"--\", label=\"No Difference\")\n",
        "plt.xlabel(\"Number of Tests (n)\")\n",
        "plt.ylabel(\"Difference (α - Exact Size)\")\n",
        "plt.title(\"Difference Between α and Exact Test Size (Bonferroni)\")\n",
        "plt.legend()\n",
        "plt.show()\n",
        "\n"
      ],
      "metadata": {
        "colab": {
          "base_uri": "https://localhost:8080/",
          "height": 564
        },
        "id": "jSFryKgQyGMh",
        "outputId": "a4e2fb26-a29e-4cda-a2b9-0c74607fd502"
      },
      "id": "jSFryKgQyGMh",
      "execution_count": 16,
      "outputs": [
        {
          "output_type": "display_data",
          "data": {
            "text/plain": [
              "<Figure size 1000x600 with 1 Axes>"
            ],
            "image/png": "[encoded data removed]"
          },
          "metadata": {}
        }
      ]
    },
    {
      "cell_type": "code",
      "source": [
        "list(zip(n_values[:5],exact_sizes[:5] ,differences[:5]))"
      ],
      "metadata": {
        "colab": {
          "base_uri": "https://localhost:8080/"
        },
        "id": "XHhgHVumMNbR",
        "outputId": "b0b4c1e8-b237-4098-bd32-0a7dd285e28f"
      },
      "id": "XHhgHVumMNbR",
      "execution_count": 17,
      "outputs": [
        {
          "output_type": "execute_result",
          "data": {
            "text/plain": [
              "[(2, 0.04937500000000006, 0.000624999999999945),\n",
              " (3, 0.04917129629629646, 0.00082870370370354),\n",
              " (4, 0.049070288085937275, 0.000929711914062728),\n",
              " (5, 0.04900995010000009, 0.0009900498999999147),\n",
              " (6, 0.04896983531023591, 0.0010301646897640931)]"
            ]
          },
          "metadata": {},
          "execution_count": 17
        }
      ]
    },
    {
      "cell_type": "markdown",
      "source": [
        "From the results we can see that:\n",
        "- The pink dashed line at $y=0$ represents no difference, and the fact that all differences remain positive confirms that the Bonferroni correction is always conservative.\n",
        "- For small n, the difference starts small but increases rapidly as n grows to 10 (can indicates that the Bonferroni correction becomes more conservative as n increases).\n",
        "- Maybe For a small number of tests (in our case smaller then 10) the correction may not be overly conservative.\n",
        "- After $n=20$ the difference stabilizes around 0.0012 means that the conservativeness of BP plateaus as n grows larger.\n",
        "- For a larger number of tests (in our case around 20) methods like BH may be preferable for balancing error control and statistical power.\n",
        "\n",
        "\n"
      ],
      "metadata": {
        "id": "RFKDZBzxz1gu"
      },
      "id": "RFKDZBzxz1gu"
    },
    {
      "cell_type": "markdown",
      "id": "71588ed2",
      "metadata": {
        "id": "71588ed2"
      },
      "source": [
        "<hr>\n",
        "<hr>"
      ]
    },
    {
      "cell_type": "markdown",
      "id": "a82cf79b",
      "metadata": {
        "id": "a82cf79b"
      },
      "source": [
        "## Problem 3: Prediction in Simple Regression\n",
        "Consider the linear model:\n",
        "$$\n",
        "    y_i = \\beta_0 + \\beta_1 x_i + \\epsilon_i,\\qquad \\epsilon_i \\overset{\\text{i.i.d.}}{\\sim} \\mathcal N(0,\\sigma^2)\n",
        "$$\n",
        "$$\n",
        "    Z = \\begin{pmatrix}\n",
        "    1 & x_1 \\\\\n",
        "    \\vdots & \\vdots \\\\\n",
        "    1 & x_n\n",
        "    \\end{pmatrix},\\quad \\beta=\\begin{pmatrix}\n",
        "    \\beta_0 \\\\\n",
        "    \\beta_1\n",
        "    \\end{pmatrix},\\qquad \\hat{\\beta}=(Z^\\top Z)^{-1} Z^\\top y\n",
        "$$\n",
        "Suppose we get a new data point $x_{n+1}$ and want to predict $y_{n+1}$. We want an interval in which this prediction will likely to land. In class, we used that\n",
        "$$\n",
        "\\operatorname{Var}[\\hat{\\beta}_0 + \\hat{\\beta}_1 x] = \\sigma^2 \\left( \\frac{1}{n} + \\frac{(x-\\bar{x})^2}{S_{XX }}\\right)\n",
        "$$\n",
        "to obtain a confidence interval for $\\beta_0 + \\beta_1 x$, and a confidence band for all $x \\in \\mathbb{R}$. In this question, you will use a similar reasoning to get a confidence interval (and bands) for $y_{n+1}$.\n",
        "1. Find the varaince of $y_{n+1} - (\\hat{\\beta}_0 + \\hat{\\beta}_1 x_{n+1})$ in terms of $\\sigma^2$ and $x_1,\\ldots,x_n$ and $x_{n+1}$ (you can use $\\bar{x}$ and $S_{XX}$ or any other well-defined function of $x_1,\\ldots,x_n$). Explain intuitively why it makes sense that this variance is larger than the variance of  $\\hat{\\beta}_0 + \\hat{\\beta}_1 x_{n+1}$.\n",
        "2. Find a $1-\\alpha$ confidence interval for $y_{n+1}$. Is this interval wider or narrower than that of $\\hat{\\beta}_0 + \\hat{\\beta}_1 x_{n+1}$? For what value of $x_{n+1}$ this interval is the narrowest?\n",
        "3. Suppose that we take the average of two responses $y$'s at the same $x_{n+1}$, say\n",
        "$$\n",
        "y_{n+1} =  \\frac{y_{n+1}^{(1)} + y_{n+1}^{(2)}}{2},\n",
        "$$\n",
        "where\n",
        "$$\n",
        "y_{n+1}^{(1)} = \\beta_0 + \\beta_1 x_{n+1} + \\epsilon_{n+1}^{(1)}\n",
        "$$\n",
        "and\n",
        "$$\n",
        "y_{n+1}^{(2)} = \\beta_0 + \\beta_1 x_{n+1} + \\epsilon_{n+1}^{(2)},\n",
        "$$\n",
        "where $\\epsilon_{n+1}^{(1)}$ and $\\epsilon_{n+1}^{(2)}$ are independent. Find a confidence interval for $y_{n+1}$. Is it wider or narrower than the interval in (2) ?\n",
        "\n",
        "Note: The confidence interval you derived in 2 is somewhat risky to use becasue it makes the strong assumption that $\\epsilon_{n+1}$ is normal. This is compared to, say, confidence intrvals for $\\hat{\\beta}_0$ and $\\hat{\\beta}_1$ which rely on averages over all observations $y_1,\\ldots,y_n$ so we can use the Central Limit Theorem to argue for normality. Things get better both in terms of varaince and normality when you can take multiple measurements at the same $x_{n+1}$ and average these measurements.\n"
      ]
    },
    {
      "cell_type": "markdown",
      "source": [
        "### **Answer 3:**"
      ],
      "metadata": {
        "id": "ozvaz9Lhijba"
      },
      "id": "ozvaz9Lhijba"
    },
    {
      "cell_type": "markdown",
      "source": [
        "**1)**  \n",
        "From the model  \n",
        "$$ y_{n+1} \\;=\\; \\beta_0 + \\beta_1\\,x_{n+1} \\;+\\;\\epsilon_{n+1}, $$  \n",
        "we have the prediction  \n",
        "$$ \\hat{y}_{n+1} \\;=\\; \\hat{\\beta}_0 + \\hat{\\beta}_1\\,x_{n+1}+0. $$  \n",
        "(Considering $\\epsilon_{n+1}=0$ in our estimate).\n",
        "\n",
        "Therefore,  \n",
        "$$ y_{n+1} - \\hat{y}_{n+1}\\;=\\;\\bigl(\\beta_0 - \\hat{\\beta}_0\\bigr)\\;+\\;\\bigl(\\beta_1 - \\hat{\\beta}_1\\bigr)\\,x_{n+1}\\;+\\;\\epsilon_{n+1}. $$\n",
        "We know  \n",
        "$$ \\mathrm{Var}\\bigl[\\hat{\\beta}_0 + \\hat{\\beta}_1 x_{n+1}\\bigr]\n",
        "\\;=\\;\\sigma^2 \\Bigl(\\tfrac{1}{n} \\;+\\; \\tfrac{(x_{n+1}-\\bar{x})^2}{S_{XX}}\\Bigr), $$  \n",
        "and $ \\epsilon_{n+1} $ is independent of the data used to estimate $ \\hat{\\beta}_0, \\hat{\\beta}_1 $ with variance $ \\sigma^2 $. Hence, by independence,  \n",
        "$$ \\mathrm{Var}\\bigl[y_{n+1} - \\hat{y}_{n+1}\\bigr]\\;=\\;\n",
        "\\;\\sigma^2\\;+\\sigma^2 \\Bigl(\\tfrac{1}{n} \\;+\\; \\tfrac{(x_{n+1}-\\bar{x})^2}{S_{XX}}\\Bigr)\\;=\\;\\sigma^2 \\Bigl(1 \\;+\\;\\tfrac{1}{n} \\;+\\; \\tfrac{(x_{n+1}-\\bar{x})^2}{S_{XX}}\\Bigr). $$\n",
        "\n",
        "Intuitively, this variance is **larger** than the variance of $ \\hat{\\beta}_0 + \\hat{\\beta}_1 x_{n+1} $ because it includes the extra “one-shot” noise $ \\epsilon_{n+1} $ from the new observation. In other words, predicting an actual future $ y_{n+1} $ must account for fresh randomness $ \\epsilon_{n+1} $, whereas estimating the deterministic part $ \\beta_0 + \\beta_1 x_{n+1} $ does not.\n",
        "\n",
        "---"
      ],
      "metadata": {
        "id": "40dzdKdcXtCD"
      },
      "id": "40dzdKdcXtCD"
    },
    {
      "cell_type": "markdown",
      "source": [
        "\n",
        "**2)**  \n",
        "A $ (1-\\alpha) $ confidence interval for $ y_{n+1} $ is  \n",
        "$$ y_{n+1}\n",
        "\\;=\\;\n",
        "\\hat{y}_{n+1}\n",
        "\\;\\pm\\;\n",
        "t_{n-2,\\;1-\\tfrac{\\alpha}{2}}\n",
        "\\;\\sqrt{\\hat{\\sigma}^2\\;\\Bigl(1 + \\tfrac{1}{n} + \\tfrac{(x_{n+1}-\\bar{x})^2}{S_{XX}}\\Bigr)}, $$\n",
        "\n",
        "Where $\\hat{y}_{n+1} = \\hat{\\beta}_0 + \\hat{\\beta}_1 x_{n+1}$,\n",
        "\n",
        "$ \\hat{\\sigma}^2 $ is the usual unbiased estimator of $ \\sigma^2 $, and $ t_{n-2,1-\\frac{\\alpha}{2}} $ is the appropriate $ t $-quantile with $ n-2 $ degrees of freedom.\n",
        "\n",
        "This interval is **wider** than the interval for $ \\beta_0 + \\beta_1 x_{n+1} $ (i.e., the confidence interval for the mean response) because of the extra “+1” term inside the square root. That extra term corresponds to the variance of the new error $ \\epsilon_{n+1} $.\n",
        "\n",
        "The interval is **narrowest** when  \n",
        "$$ \\tfrac{(x_{n+1}-\\bar{x})^2}{S_{XX}} $$  \n",
        "is minimized. Clearly, that occurs at  \n",
        "$$ x_{n+1} \\;=\\;\\bar{x}. $$\n",
        "\n",
        "---\n"
      ],
      "metadata": {
        "id": "mD_JRgjIB7FJ"
      },
      "id": "mD_JRgjIB7FJ"
    },
    {
      "cell_type": "markdown",
      "source": [
        "\n",
        "**3)**  \n",
        "If we take two independent responses at the same $ x_{n+1} $ and average them,  \n",
        "$$ y_{n+1}\n",
        "\\;=\\;\n",
        "\\frac{y_{n+1}^{(1)} + y_{n+1}^{(2)}}{2}\n",
        "\\quad\\text{where}\\quad\n",
        "y_{n+1}^{(j)} \\;=\\;\\beta_0 + \\beta_1\\,x_{n+1} + \\epsilon_{n+1}^{(j)},\n",
        "\\;\\; j=1,2, $$\n",
        "then  \n",
        "$$ y_{n+1}\n",
        "\\;=\\;\n",
        "\\beta_0 + \\beta_1\\,x_{n+1}\n",
        "\\;+\\;\n",
        "\\frac{\\epsilon_{n+1}^{(1)} + \\epsilon_{n+1}^{(2)}}{2}. $$\n",
        "Its difference from $ \\hat{\\beta}_0 + \\hat{\\beta}_1 x_{n+1} $ is  \n",
        "$$ y_{n+1} - \\bigl(\\hat{\\beta}_0 + \\hat{\\beta}_1 x_{n+1}\\bigr)\n",
        "\\;=\\;\n",
        "\\bigl(\\beta_0 - \\hat{\\beta}_0 \\bigr)\n",
        "\\;+\\;\n",
        "\\bigl(\\beta_1 - \\hat{\\beta}_1 \\bigr)x_{n+1}\n",
        "\\;+\\;\n",
        "\\frac{\\epsilon_{n+1}^{(1)} + \\epsilon_{n+1}^{(2)}}{2}. $$\n",
        "Because $ \\epsilon_{n+1}^{(1)} $ and $ \\epsilon_{n+1}^{(2)} $ are independent each with variance $ \\sigma^2 $, we have  \n",
        "$$ \\mathrm{Var}\\Bigl[\\tfrac{\\epsilon_{n+1}^{(1)} + \\epsilon_{n+1}^{(2)}}{2}\\Bigr]\n",
        "\\;=\\;\n",
        "\\tfrac{1}{4}\\,\\mathrm{Var}\\bigl[\\epsilon_{n+1}^{(1)} + \\epsilon_{n+1}^{(2)}\\bigr]\n",
        "\\;=\\;\n",
        "\\tfrac{1}{4}\\,\\bigl(\\sigma^2 + \\sigma^2\\bigr)\n",
        "\\;=\\;\n",
        "\\tfrac{\\sigma^2}{2}. $$\n",
        "Hence,  \n",
        "$$ \\mathrm{Var}\\bigl[y_{n+1} - \\hat{y}_{n+1}\\bigr]\n",
        "\\;=\\;\n",
        "\\sigma^2 \\Bigl(\\tfrac{1}{n} + \\tfrac{(x_{n+1}-\\bar{x})^2}{S_{XX}}\\Bigr)\n",
        "\\;+\\;\n",
        "\\tfrac{\\sigma^2}{2}\n",
        "\\;=\\;\n",
        "\\sigma^2\n",
        "\\Bigl(\n",
        "\\tfrac{1}{2}\n",
        "\\;+\\;\n",
        "\\tfrac{1}{n}\n",
        "\\;+\\;\n",
        "\\tfrac{(x_{n+1}-\\bar{x})^2}{S_{XX}}\n",
        "\\Bigr). $$\n",
        "Thus a $ (1-\\alpha) $ confidence interval is  \n",
        "$$ \\hat{\\beta}_0 + \\hat{\\beta}_1\\,x_{n+1}\n",
        "\\;\\pm\\;\n",
        "t_{n-2,\\;1-\\tfrac{\\alpha}{2}}\n",
        "\\;\\sqrt{\n",
        "\\hat{\\sigma}^2 \\,\\Bigl(\\tfrac{1}{2} \\;+\\; \\tfrac{1}{n} \\;+\\; \\tfrac{(x_{n+1}-\\bar{x})^2}{S_{XX}}\\Bigr)\n",
        "}. $$\n",
        "This new interval is **narrower** than the interval in part (2) because  \n",
        "$$ 1 + \\tfrac{1}{n} + \\tfrac{(x_{n+1}-\\bar{x})^2}{S_{XX}}\n",
        "\\;\\;>\\;\\;\n",
        "\\tfrac{1}{2} + \\tfrac{1}{n} + \\tfrac{(x_{n+1}-\\bar{x})^2}{S_{XX}} $$\n",
        "(we replaced the “+1” by “+$\\tfrac12$” thanks to averaging two independent measurements, halving the new-observation noise)."
      ],
      "metadata": {
        "id": "CSzs-S12B3Fh"
      },
      "id": "CSzs-S12B3Fh"
    }
  ],
  "metadata": {
    "kernelspec": {
      "display_name": "env",
      "language": "python",
      "name": "python3"
    },
    "language_info": {
      "codemirror_mode": {
        "name": "ipython",
        "version": 3
      },
      "file_extension": ".py",
      "mimetype": "text/x-python",
      "name": "python",
      "nbconvert_exporter": "python",
      "pygments_lexer": "ipython3",
      "version": "3.10.11"
    },
    "colab": {
      "provenance": [],
      "collapsed_sections": [
        "e83875d5",
        "f38c4d4f"
      ]
    }
  },
  "nbformat": 4,
  "nbformat_minor": 5
}